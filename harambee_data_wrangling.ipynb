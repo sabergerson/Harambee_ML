{
 "cells": [
  {
   "cell_type": "markdown",
   "metadata": {
    "id": "EwpFmolAWM9F"
   },
   "source": [
    "# <font color='#eb3483'> Harambee data </font>"
   ]
  },
  {
   "cell_type": "markdown",
   "metadata": {
    "id": "Kf0Y5xKiWM9U"
   },
   "source": []
  },
  {
   "cell_type": "markdown",
   "metadata": {
    "id": "lVeun8T1WM9X"
   },
   "source": []
  },
  {
   "cell_type": "code",
   "execution_count": 135,
   "metadata": {
    "id": "upnlaaRhWM9Z"
   },
   "outputs": [],
   "source": [
    "#import useful libraries\n",
    "import numpy as np\n",
    "import pandas as pd\n",
    "import matplotlib.pyplot as plt\n",
    "%matplotlib inline"
   ]
  },
  {
   "cell_type": "code",
   "execution_count": 136,
   "metadata": {
    "colab": {
     "base_uri": "https://localhost:8080/",
     "height": 278
    },
    "id": "OsrNPvScWM9a",
    "outputId": "954ea8e4-d0ee-4e2a-e659-6b0a45042018"
   },
   "outputs": [
    {
     "data": {
      "text/html": [
       "<div>\n",
       "<style scoped>\n",
       "    .dataframe tbody tr th:only-of-type {\n",
       "        vertical-align: middle;\n",
       "    }\n",
       "\n",
       "    .dataframe tbody tr th {\n",
       "        vertical-align: top;\n",
       "    }\n",
       "\n",
       "    .dataframe thead th {\n",
       "        text-align: right;\n",
       "    }\n",
       "</style>\n",
       "<table border=\"1\" class=\"dataframe\">\n",
       "  <thead>\n",
       "    <tr style=\"text-align: right;\">\n",
       "      <th></th>\n",
       "      <th>Unnamed: 0</th>\n",
       "      <th>unid</th>\n",
       "      <th>cft_score</th>\n",
       "      <th>opt_score</th>\n",
       "      <th>com_score</th>\n",
       "      <th>grit_score</th>\n",
       "      <th>num_score</th>\n",
       "      <th>survey_date_month</th>\n",
       "      <th>survey_num</th>\n",
       "      <th>gender</th>\n",
       "      <th>...</th>\n",
       "      <th>peoplelive</th>\n",
       "      <th>peoplelive_15plus</th>\n",
       "      <th>numchildren</th>\n",
       "      <th>numearnincome</th>\n",
       "      <th>anygrant</th>\n",
       "      <th>anyhhincome</th>\n",
       "      <th>financial_situation_now</th>\n",
       "      <th>financial_situation_5years</th>\n",
       "      <th>givemoney_yes</th>\n",
       "      <th>working</th>\n",
       "    </tr>\n",
       "  </thead>\n",
       "  <tbody>\n",
       "    <tr>\n",
       "      <th>0</th>\n",
       "      <td>1</td>\n",
       "      <td>41964</td>\n",
       "      <td>4.0</td>\n",
       "      <td>NaN</td>\n",
       "      <td>4.0</td>\n",
       "      <td>4.0</td>\n",
       "      <td>NaN</td>\n",
       "      <td>2018-06-01</td>\n",
       "      <td>1</td>\n",
       "      <td>Female</td>\n",
       "      <td>...</td>\n",
       "      <td>NaN</td>\n",
       "      <td>NaN</td>\n",
       "      <td>NaN</td>\n",
       "      <td>NaN</td>\n",
       "      <td>False</td>\n",
       "      <td>False</td>\n",
       "      <td>NaN</td>\n",
       "      <td>NaN</td>\n",
       "      <td>NaN</td>\n",
       "      <td>True</td>\n",
       "    </tr>\n",
       "    <tr>\n",
       "      <th>1</th>\n",
       "      <td>2</td>\n",
       "      <td>15241</td>\n",
       "      <td>4.0</td>\n",
       "      <td>7.0</td>\n",
       "      <td>5.0</td>\n",
       "      <td>3.0</td>\n",
       "      <td>NaN</td>\n",
       "      <td>2016-03-01</td>\n",
       "      <td>1</td>\n",
       "      <td>Female</td>\n",
       "      <td>...</td>\n",
       "      <td>2</td>\n",
       "      <td>NaN</td>\n",
       "      <td>3</td>\n",
       "      <td>1</td>\n",
       "      <td>True</td>\n",
       "      <td>True</td>\n",
       "      <td>2</td>\n",
       "      <td>8</td>\n",
       "      <td>False</td>\n",
       "      <td>True</td>\n",
       "    </tr>\n",
       "    <tr>\n",
       "      <th>2</th>\n",
       "      <td>3</td>\n",
       "      <td>33702</td>\n",
       "      <td>5.0</td>\n",
       "      <td>3.0</td>\n",
       "      <td>5.0</td>\n",
       "      <td>2.0</td>\n",
       "      <td>NaN</td>\n",
       "      <td>2016-04-01</td>\n",
       "      <td>1</td>\n",
       "      <td>Male</td>\n",
       "      <td>...</td>\n",
       "      <td>4</td>\n",
       "      <td>NaN</td>\n",
       "      <td>1</td>\n",
       "      <td>1</td>\n",
       "      <td>False</td>\n",
       "      <td>True</td>\n",
       "      <td>1 (Worst possible financial situation)</td>\n",
       "      <td>1 (Worst possible financial situation)</td>\n",
       "      <td>False</td>\n",
       "      <td>True</td>\n",
       "    </tr>\n",
       "    <tr>\n",
       "      <th>3</th>\n",
       "      <td>4</td>\n",
       "      <td>101252</td>\n",
       "      <td>10.0</td>\n",
       "      <td>4.0</td>\n",
       "      <td>NaN</td>\n",
       "      <td>0.0</td>\n",
       "      <td>NaN</td>\n",
       "      <td>2018-04-01</td>\n",
       "      <td>1</td>\n",
       "      <td>Female</td>\n",
       "      <td>...</td>\n",
       "      <td>7</td>\n",
       "      <td>5</td>\n",
       "      <td>0</td>\n",
       "      <td>NaN</td>\n",
       "      <td>True</td>\n",
       "      <td>True</td>\n",
       "      <td>1 (Worst possible financial situation)</td>\n",
       "      <td>7</td>\n",
       "      <td>False</td>\n",
       "      <td>True</td>\n",
       "    </tr>\n",
       "    <tr>\n",
       "      <th>4</th>\n",
       "      <td>5</td>\n",
       "      <td>83023</td>\n",
       "      <td>7.0</td>\n",
       "      <td>NaN</td>\n",
       "      <td>NaN</td>\n",
       "      <td>4.0</td>\n",
       "      <td>NaN</td>\n",
       "      <td>2016-07-01</td>\n",
       "      <td>1</td>\n",
       "      <td>Male</td>\n",
       "      <td>...</td>\n",
       "      <td>NaN</td>\n",
       "      <td>NaN</td>\n",
       "      <td>NaN</td>\n",
       "      <td>NaN</td>\n",
       "      <td>NaN</td>\n",
       "      <td>NaN</td>\n",
       "      <td>NaN</td>\n",
       "      <td>NaN</td>\n",
       "      <td>NaN</td>\n",
       "      <td>False</td>\n",
       "    </tr>\n",
       "  </tbody>\n",
       "</table>\n",
       "<p>5 rows × 22 columns</p>\n",
       "</div>"
      ],
      "text/plain": [
       "   Unnamed: 0    unid  cft_score  opt_score  com_score  grit_score  num_score  \\\n",
       "0           1   41964        4.0        NaN        4.0         4.0        NaN   \n",
       "1           2   15241        4.0        7.0        5.0         3.0        NaN   \n",
       "2           3   33702        5.0        3.0        5.0         2.0        NaN   \n",
       "3           4  101252       10.0        4.0        NaN         0.0        NaN   \n",
       "4           5   83023        7.0        NaN        NaN         4.0        NaN   \n",
       "\n",
       "  survey_date_month  survey_num  gender  ... peoplelive peoplelive_15plus  \\\n",
       "0        2018-06-01           1  Female  ...        NaN               NaN   \n",
       "1        2016-03-01           1  Female  ...          2               NaN   \n",
       "2        2016-04-01           1    Male  ...          4               NaN   \n",
       "3        2018-04-01           1  Female  ...          7                 5   \n",
       "4        2016-07-01           1    Male  ...        NaN               NaN   \n",
       "\n",
       "  numchildren numearnincome anygrant anyhhincome  \\\n",
       "0         NaN           NaN    False       False   \n",
       "1           3             1     True        True   \n",
       "2           1             1    False        True   \n",
       "3           0           NaN     True        True   \n",
       "4         NaN           NaN      NaN         NaN   \n",
       "\n",
       "                  financial_situation_now  \\\n",
       "0                                     NaN   \n",
       "1                                       2   \n",
       "2  1 (Worst possible financial situation)   \n",
       "3  1 (Worst possible financial situation)   \n",
       "4                                     NaN   \n",
       "\n",
       "               financial_situation_5years givemoney_yes working  \n",
       "0                                     NaN           NaN    True  \n",
       "1                                       8         False    True  \n",
       "2  1 (Worst possible financial situation)         False    True  \n",
       "3                                       7         False    True  \n",
       "4                                     NaN           NaN   False  \n",
       "\n",
       "[5 rows x 22 columns]"
      ]
     },
     "execution_count": 136,
     "metadata": {},
     "output_type": "execute_result"
    }
   ],
   "source": [
    "df = pd.read_csv(\"processed_data_01012021.csv\")\n",
    "#display top 5 rows\n",
    "df.head()"
   ]
  },
  {
   "cell_type": "code",
   "execution_count": 137,
   "metadata": {
    "colab": {
     "base_uri": "https://localhost:8080/",
     "height": 261
    },
    "id": "-CoSn-5a_pMs",
    "outputId": "dff946a7-a20a-4248-b7a5-ca48d71d828b",
    "scrolled": true
   },
   "outputs": [
    {
     "data": {
      "text/html": [
       "<div>\n",
       "<style scoped>\n",
       "    .dataframe tbody tr th:only-of-type {\n",
       "        vertical-align: middle;\n",
       "    }\n",
       "\n",
       "    .dataframe tbody tr th {\n",
       "        vertical-align: top;\n",
       "    }\n",
       "\n",
       "    .dataframe thead th {\n",
       "        text-align: right;\n",
       "    }\n",
       "</style>\n",
       "<table border=\"1\" class=\"dataframe\">\n",
       "  <thead>\n",
       "    <tr style=\"text-align: right;\">\n",
       "      <th></th>\n",
       "      <th>unid</th>\n",
       "      <th>cft_score</th>\n",
       "      <th>opt_score</th>\n",
       "      <th>com_score</th>\n",
       "      <th>grit_score</th>\n",
       "      <th>num_score</th>\n",
       "      <th>survey_date_month</th>\n",
       "      <th>survey_num</th>\n",
       "      <th>gender</th>\n",
       "      <th>dob</th>\n",
       "      <th>...</th>\n",
       "      <th>peoplelive</th>\n",
       "      <th>peoplelive_15plus</th>\n",
       "      <th>numchildren</th>\n",
       "      <th>numearnincome</th>\n",
       "      <th>anygrant</th>\n",
       "      <th>anyhhincome</th>\n",
       "      <th>financial_situation_now</th>\n",
       "      <th>financial_situation_5years</th>\n",
       "      <th>givemoney_yes</th>\n",
       "      <th>working</th>\n",
       "    </tr>\n",
       "  </thead>\n",
       "  <tbody>\n",
       "    <tr>\n",
       "      <th>0</th>\n",
       "      <td>41964</td>\n",
       "      <td>4.0</td>\n",
       "      <td>NaN</td>\n",
       "      <td>4.0</td>\n",
       "      <td>4.0</td>\n",
       "      <td>NaN</td>\n",
       "      <td>2018-06-01</td>\n",
       "      <td>1</td>\n",
       "      <td>Female</td>\n",
       "      <td>1992-02-01</td>\n",
       "      <td>...</td>\n",
       "      <td>NaN</td>\n",
       "      <td>NaN</td>\n",
       "      <td>NaN</td>\n",
       "      <td>NaN</td>\n",
       "      <td>False</td>\n",
       "      <td>False</td>\n",
       "      <td>NaN</td>\n",
       "      <td>NaN</td>\n",
       "      <td>NaN</td>\n",
       "      <td>True</td>\n",
       "    </tr>\n",
       "    <tr>\n",
       "      <th>1</th>\n",
       "      <td>15241</td>\n",
       "      <td>4.0</td>\n",
       "      <td>7.0</td>\n",
       "      <td>5.0</td>\n",
       "      <td>3.0</td>\n",
       "      <td>NaN</td>\n",
       "      <td>2016-03-01</td>\n",
       "      <td>1</td>\n",
       "      <td>Female</td>\n",
       "      <td>1988-11-01</td>\n",
       "      <td>...</td>\n",
       "      <td>2</td>\n",
       "      <td>NaN</td>\n",
       "      <td>3</td>\n",
       "      <td>1</td>\n",
       "      <td>True</td>\n",
       "      <td>True</td>\n",
       "      <td>2</td>\n",
       "      <td>8</td>\n",
       "      <td>False</td>\n",
       "      <td>True</td>\n",
       "    </tr>\n",
       "    <tr>\n",
       "      <th>2</th>\n",
       "      <td>33702</td>\n",
       "      <td>5.0</td>\n",
       "      <td>3.0</td>\n",
       "      <td>5.0</td>\n",
       "      <td>2.0</td>\n",
       "      <td>NaN</td>\n",
       "      <td>2016-04-01</td>\n",
       "      <td>1</td>\n",
       "      <td>Male</td>\n",
       "      <td>1991-04-01</td>\n",
       "      <td>...</td>\n",
       "      <td>4</td>\n",
       "      <td>NaN</td>\n",
       "      <td>1</td>\n",
       "      <td>1</td>\n",
       "      <td>False</td>\n",
       "      <td>True</td>\n",
       "      <td>1 (Worst possible financial situation)</td>\n",
       "      <td>1 (Worst possible financial situation)</td>\n",
       "      <td>False</td>\n",
       "      <td>True</td>\n",
       "    </tr>\n",
       "    <tr>\n",
       "      <th>3</th>\n",
       "      <td>101252</td>\n",
       "      <td>10.0</td>\n",
       "      <td>4.0</td>\n",
       "      <td>NaN</td>\n",
       "      <td>0.0</td>\n",
       "      <td>NaN</td>\n",
       "      <td>2018-04-01</td>\n",
       "      <td>1</td>\n",
       "      <td>Female</td>\n",
       "      <td>1998-09-01</td>\n",
       "      <td>...</td>\n",
       "      <td>7</td>\n",
       "      <td>5</td>\n",
       "      <td>0</td>\n",
       "      <td>NaN</td>\n",
       "      <td>True</td>\n",
       "      <td>True</td>\n",
       "      <td>1 (Worst possible financial situation)</td>\n",
       "      <td>7</td>\n",
       "      <td>False</td>\n",
       "      <td>True</td>\n",
       "    </tr>\n",
       "    <tr>\n",
       "      <th>4</th>\n",
       "      <td>83023</td>\n",
       "      <td>7.0</td>\n",
       "      <td>NaN</td>\n",
       "      <td>NaN</td>\n",
       "      <td>4.0</td>\n",
       "      <td>NaN</td>\n",
       "      <td>2016-07-01</td>\n",
       "      <td>1</td>\n",
       "      <td>Male</td>\n",
       "      <td>1995-08-01</td>\n",
       "      <td>...</td>\n",
       "      <td>NaN</td>\n",
       "      <td>NaN</td>\n",
       "      <td>NaN</td>\n",
       "      <td>NaN</td>\n",
       "      <td>NaN</td>\n",
       "      <td>NaN</td>\n",
       "      <td>NaN</td>\n",
       "      <td>NaN</td>\n",
       "      <td>NaN</td>\n",
       "      <td>False</td>\n",
       "    </tr>\n",
       "  </tbody>\n",
       "</table>\n",
       "<p>5 rows × 21 columns</p>\n",
       "</div>"
      ],
      "text/plain": [
       "     unid  cft_score  opt_score  com_score  grit_score  num_score  \\\n",
       "0   41964        4.0        NaN        4.0         4.0        NaN   \n",
       "1   15241        4.0        7.0        5.0         3.0        NaN   \n",
       "2   33702        5.0        3.0        5.0         2.0        NaN   \n",
       "3  101252       10.0        4.0        NaN         0.0        NaN   \n",
       "4   83023        7.0        NaN        NaN         4.0        NaN   \n",
       "\n",
       "  survey_date_month  survey_num  gender         dob  ... peoplelive  \\\n",
       "0        2018-06-01           1  Female  1992-02-01  ...        NaN   \n",
       "1        2016-03-01           1  Female  1988-11-01  ...          2   \n",
       "2        2016-04-01           1    Male  1991-04-01  ...          4   \n",
       "3        2018-04-01           1  Female  1998-09-01  ...          7   \n",
       "4        2016-07-01           1    Male  1995-08-01  ...        NaN   \n",
       "\n",
       "  peoplelive_15plus numchildren numearnincome anygrant anyhhincome  \\\n",
       "0               NaN         NaN           NaN    False       False   \n",
       "1               NaN           3             1     True        True   \n",
       "2               NaN           1             1    False        True   \n",
       "3                 5           0           NaN     True        True   \n",
       "4               NaN         NaN           NaN      NaN         NaN   \n",
       "\n",
       "                  financial_situation_now  \\\n",
       "0                                     NaN   \n",
       "1                                       2   \n",
       "2  1 (Worst possible financial situation)   \n",
       "3  1 (Worst possible financial situation)   \n",
       "4                                     NaN   \n",
       "\n",
       "               financial_situation_5years givemoney_yes working  \n",
       "0                                     NaN           NaN    True  \n",
       "1                                       8         False    True  \n",
       "2  1 (Worst possible financial situation)         False    True  \n",
       "3                                       7         False    True  \n",
       "4                                     NaN           NaN   False  \n",
       "\n",
       "[5 rows x 21 columns]"
      ]
     },
     "execution_count": 137,
     "metadata": {},
     "output_type": "execute_result"
    }
   ],
   "source": [
    "df = df.drop(columns=[\"Unnamed: 0\"])\n",
    "df.head()"
   ]
  },
  {
   "cell_type": "markdown",
   "metadata": {
    "id": "sjtfoZFxWM9d"
   },
   "source": []
  },
  {
   "cell_type": "code",
   "execution_count": 138,
   "metadata": {
    "colab": {
     "base_uri": "https://localhost:8080/"
    },
    "id": "mDLPzG0qWM9f",
    "outputId": "008cfd81-6e08-4759-fce9-4c1343f11e03"
   },
   "outputs": [
    {
     "data": {
      "text/plain": [
       "(51262, 21)"
      ]
     },
     "execution_count": 138,
     "metadata": {},
     "output_type": "execute_result"
    }
   ],
   "source": [
    "df.shape"
   ]
  },
  {
   "cell_type": "code",
   "execution_count": 139,
   "metadata": {
    "colab": {
     "base_uri": "https://localhost:8080/"
    },
    "id": "6ksJF7ogWM9g",
    "outputId": "9ff5bbdc-d686-499d-a4f0-f70644b43c68"
   },
   "outputs": [
    {
     "data": {
      "text/plain": [
       "Index(['unid', 'cft_score', 'opt_score', 'com_score', 'grit_score',\n",
       "       'num_score', 'survey_date_month', 'survey_num', 'gender', 'dob',\n",
       "       'province', 'peoplelive', 'peoplelive_15plus', 'numchildren',\n",
       "       'numearnincome', 'anygrant', 'anyhhincome', 'financial_situation_now',\n",
       "       'financial_situation_5years', 'givemoney_yes', 'working'],\n",
       "      dtype='object')"
      ]
     },
     "execution_count": 139,
     "metadata": {},
     "output_type": "execute_result"
    }
   ],
   "source": [
    "df.columns"
   ]
  },
  {
   "cell_type": "code",
   "execution_count": 140,
   "metadata": {
    "colab": {
     "base_uri": "https://localhost:8080/"
    },
    "id": "2-KXrkY3WM9h",
    "outputId": "0ff1bc21-d170-46ef-ef88-0a52a8d66fdd"
   },
   "outputs": [
    {
     "data": {
      "text/plain": [
       "unid                            int64\n",
       "cft_score                     float64\n",
       "opt_score                     float64\n",
       "com_score                     float64\n",
       "grit_score                    float64\n",
       "num_score                     float64\n",
       "survey_date_month              object\n",
       "survey_num                      int64\n",
       "gender                         object\n",
       "dob                            object\n",
       "province                       object\n",
       "peoplelive                     object\n",
       "peoplelive_15plus              object\n",
       "numchildren                    object\n",
       "numearnincome                  object\n",
       "anygrant                       object\n",
       "anyhhincome                    object\n",
       "financial_situation_now        object\n",
       "financial_situation_5years     object\n",
       "givemoney_yes                  object\n",
       "working                          bool\n",
       "dtype: object"
      ]
     },
     "execution_count": 140,
     "metadata": {},
     "output_type": "execute_result"
    }
   ],
   "source": [
    "#check data type\n",
    "df.dtypes"
   ]
  },
  {
   "cell_type": "code",
   "execution_count": 141,
   "metadata": {
    "colab": {
     "base_uri": "https://localhost:8080/"
    },
    "id": "3ELfh4wPWM9h",
    "outputId": "1c693eb4-0a05-4e5f-ccb7-2ef7afda36dc"
   },
   "outputs": [
    {
     "data": {
      "text/plain": [
       "unid                              0\n",
       "cft_score                     18382\n",
       "opt_score                     28223\n",
       "com_score                     31915\n",
       "grit_score                    18382\n",
       "num_score                     39949\n",
       "survey_date_month                 0\n",
       "survey_num                        0\n",
       "gender                           23\n",
       "dob                             161\n",
       "province                      32044\n",
       "peoplelive                    19393\n",
       "peoplelive_15plus             39251\n",
       "numchildren                   19532\n",
       "numearnincome                 32468\n",
       "anygrant                       5214\n",
       "anyhhincome                    5214\n",
       "financial_situation_now       20409\n",
       "financial_situation_5years    20409\n",
       "givemoney_yes                 20084\n",
       "working                           0\n",
       "dtype: int64"
      ]
     },
     "execution_count": 141,
     "metadata": {},
     "output_type": "execute_result"
    }
   ],
   "source": [
    "#check missing values\n",
    "df.isnull().sum()"
   ]
  },
  {
   "cell_type": "code",
   "execution_count": 142,
   "metadata": {
    "colab": {
     "base_uri": "https://localhost:8080/"
    },
    "id": "6HjSKOufWM9h",
    "outputId": "9b95293d-039d-44f8-d329-9da77bd683b3"
   },
   "outputs": [
    {
     "data": {
      "text/plain": [
       "unid                           0.000000\n",
       "cft_score                     35.858921\n",
       "opt_score                     55.056377\n",
       "com_score                     62.258593\n",
       "grit_score                    35.858921\n",
       "num_score                     77.931021\n",
       "survey_date_month              0.000000\n",
       "survey_num                     0.000000\n",
       "gender                         0.044868\n",
       "dob                            0.314073\n",
       "province                      62.510242\n",
       "peoplelive                    37.831142\n",
       "peoplelive_15plus             76.569389\n",
       "numchildren                   38.102298\n",
       "numearnincome                 63.337365\n",
       "anygrant                      10.171277\n",
       "anyhhincome                   10.171277\n",
       "financial_situation_now       39.813117\n",
       "financial_situation_5years    39.813117\n",
       "givemoney_yes                 39.179119\n",
       "working                        0.000000\n",
       "dtype: float64"
      ]
     },
     "execution_count": 142,
     "metadata": {},
     "output_type": "execute_result"
    }
   ],
   "source": [
    "#percentage of missing values per column\n",
    "df.isnull().sum() / df.shape[0] * 100"
   ]
  },
  {
   "cell_type": "code",
   "execution_count": 143,
   "metadata": {
    "colab": {
     "base_uri": "https://localhost:8080/"
    },
    "id": "uZfTlqbiWM9j",
    "outputId": "38d3206f-474c-40bb-8e70-9f677b905e28"
   },
   "outputs": [
    {
     "name": "stdout",
     "output_type": "stream",
     "text": [
      "number of duplicate rows:  0\n"
     ]
    }
   ],
   "source": [
    "#rows containing duplicate data\n",
    "duplicate_rows_df = df[df.duplicated()]\n",
    "print(\"number of duplicate rows: \", duplicate_rows_df.shape[0])"
   ]
  },
  {
   "cell_type": "markdown",
   "metadata": {
    "id": "VHWdBtdBWM9k"
   },
   "source": [
    "### Univariate analysis"
   ]
  },
  {
   "cell_type": "code",
   "execution_count": 144,
   "metadata": {
    "colab": {
     "base_uri": "https://localhost:8080/"
    },
    "id": "FYE9UhSOWM9l",
    "outputId": "7373c1ef-fa88-4ed4-ad37-991f2b178114"
   },
   "outputs": [
    {
     "data": {
      "text/plain": [
       "1    51262\n",
       "Name: survey_num, dtype: int64"
      ]
     },
     "execution_count": 144,
     "metadata": {},
     "output_type": "execute_result"
    }
   ],
   "source": [
    "df.survey_num.value_counts()         \n",
    "\n",
    "#discard single values"
   ]
  },
  {
   "cell_type": "code",
   "execution_count": 145,
   "metadata": {
    "colab": {
     "base_uri": "https://localhost:8080/"
    },
    "id": "hx4b3q-rWM9m",
    "outputId": "baddef83-574f-45d7-e2b8-203902a8f5ba"
   },
   "outputs": [
    {
     "data": {
      "text/plain": [
       "False    36766\n",
       "True     14496\n",
       "Name: working, dtype: int64"
      ]
     },
     "execution_count": 145,
     "metadata": {},
     "output_type": "execute_result"
    }
   ],
   "source": [
    "df.working.value_counts()"
   ]
  },
  {
   "cell_type": "code",
   "execution_count": 146,
   "metadata": {
    "colab": {
     "base_uri": "https://localhost:8080/"
    },
    "id": "8l6TU7ZmWM9m",
    "outputId": "5d99342e-3aac-4d62-9110-eed4c6a39a2f"
   },
   "outputs": [
    {
     "data": {
      "text/plain": [
       "2               2601\n",
       "1               2285\n",
       "3               2277\n",
       "4               1407\n",
       "0               1001\n",
       "More than 15     794\n",
       "5                683\n",
       "6                396\n",
       "7                231\n",
       "8                138\n",
       "9                 65\n",
       "10                49\n",
       "12                22\n",
       "11                19\n",
       "15                18\n",
       "14                14\n",
       "13                11\n",
       "Name: peoplelive_15plus, dtype: int64"
      ]
     },
     "execution_count": 146,
     "metadata": {},
     "output_type": "execute_result"
    }
   ],
   "source": [
    "#unique values in df.peoplelive_15plus too granular\n",
    "df.peoplelive_15plus.value_counts()"
   ]
  },
  {
   "cell_type": "code",
   "execution_count": 147,
   "metadata": {
    "colab": {
     "base_uri": "https://localhost:8080/",
     "height": 287
    },
    "id": "GqZUl0NUWM9n",
    "outputId": "cbf6ebf0-804a-497f-8f78-3d0a4115fc19"
   },
   "outputs": [
    {
     "data": {
      "text/plain": [
       "<AxesSubplot:>"
      ]
     },
     "execution_count": 147,
     "metadata": {},
     "output_type": "execute_result"
    },
    {
     "data": {
      "image/png": "[encoded data removed]",
      "text/plain": [
       "<Figure size 432x288 with 1 Axes>"
      ]
     },
     "metadata": {
      "needs_background": "light"
     },
     "output_type": "display_data"
    }
   ],
   "source": [
    "#histogram for grit_score\n",
    "df.grit_score.hist()"
   ]
  },
  {
   "cell_type": "code",
   "execution_count": 148,
   "metadata": {
    "colab": {
     "base_uri": "https://localhost:8080/",
     "height": 283
    },
    "id": "gZvi3hk4WM9o",
    "outputId": "3a0edd71-8b2f-4048-fe34-c9aa2447db31"
   },
   "outputs": [
    {
     "data": {
      "text/plain": [
       "<AxesSubplot:>"
      ]
     },
     "execution_count": 148,
     "metadata": {},
     "output_type": "execute_result"
    },
    {
     "data": {
      "image/png": "[encoded data removed]",
      "text/plain": [
       "<Figure size 432x288 with 1 Axes>"
      ]
     },
     "metadata": {
      "needs_background": "light"
     },
     "output_type": "display_data"
    }
   ],
   "source": [
    "#histogram for num_children\n",
    "df.numchildren.hist()"
   ]
  },
  {
   "cell_type": "markdown",
   "metadata": {
    "id": "JifZENDeWM9o"
   },
   "source": [
    "### Bivariate analysis"
   ]
  },
  {
   "cell_type": "code",
   "execution_count": 149,
   "metadata": {
    "colab": {
     "base_uri": "https://localhost:8080/",
     "height": 338
    },
    "id": "_twBzuZXWM9p",
    "outputId": "9ef096fd-3275-4071-9dce-a9c4f8194096"
   },
   "outputs": [
    {
     "data": {
      "text/plain": [
       "working\n",
       "False    AxesSubplot(0.125,0.125;0.775x0.755)\n",
       "True     AxesSubplot(0.125,0.125;0.775x0.755)\n",
       "Name: com_score, dtype: object"
      ]
     },
     "execution_count": 149,
     "metadata": {},
     "output_type": "execute_result"
    },
    {
     "data": {
      "image/png": "[encoded data removed]",
      "text/plain": [
       "<Figure size 432x288 with 1 Axes>"
      ]
     },
     "metadata": {
      "needs_background": "light"
     },
     "output_type": "display_data"
    }
   ],
   "source": [
    "#histogram for numchildren depending on working value\n",
    "df.groupby(\"working\").com_score.hist(alpha = 0.7)"
   ]
  },
  {
   "cell_type": "markdown",
   "metadata": {
    "id": "srgqZaebWM9q"
   },
   "source": [
    "### Wrangling"
   ]
  },
  {
   "cell_type": "code",
   "execution_count": 150,
   "metadata": {},
   "outputs": [
    {
     "name": "stdout",
     "output_type": "stream",
     "text": [
      "Collecting package metadata (current_repodata.json): done\n",
      "Solving environment: done\n",
      "\n",
      "# All requested packages already installed.\n",
      "\n",
      "\n",
      "Note: you may need to restart the kernel to use updated packages.\n"
     ]
    }
   ],
   "source": [
    "conda install -c conda-forge/label/gcc7 missingno"
   ]
  },
  {
   "cell_type": "code",
   "execution_count": 151,
   "metadata": {},
   "outputs": [
    {
     "data": {
      "text/plain": [
       "<AxesSubplot:>"
      ]
     },
     "execution_count": 151,
     "metadata": {},
     "output_type": "execute_result"
    },
    {
     "data": {
      "image/png": "[encoded data removed]",
      "text/plain": [
       "<Figure size 1800x720 with 2 Axes>"
      ]
     },
     "metadata": {
      "needs_background": "light"
     },
     "output_type": "display_data"
    }
   ],
   "source": [
    "#visualize missing variables\n",
    "import missingno as msno\n",
    "msno.matrix(df)"
   ]
  },
  {
   "cell_type": "code",
   "execution_count": 152,
   "metadata": {},
   "outputs": [
    {
     "data": {
      "text/plain": [
       "unid                              0\n",
       "cft_score                     18382\n",
       "opt_score                     28223\n",
       "com_score                     31915\n",
       "grit_score                    18382\n",
       "num_score                     39949\n",
       "survey_date_month                 0\n",
       "survey_num                        0\n",
       "gender                           23\n",
       "dob                             161\n",
       "province                      32044\n",
       "peoplelive                    19393\n",
       "peoplelive_15plus             39251\n",
       "numchildren                   19532\n",
       "numearnincome                 32468\n",
       "anygrant                       5214\n",
       "anyhhincome                    5214\n",
       "financial_situation_now       20409\n",
       "financial_situation_5years    20409\n",
       "givemoney_yes                 20084\n",
       "working                           0\n",
       "dtype: int64"
      ]
     },
     "execution_count": 152,
     "metadata": {},
     "output_type": "execute_result"
    }
   ],
   "source": [
    "df.isna().sum()"
   ]
  },
  {
   "cell_type": "code",
   "execution_count": 153,
   "metadata": {},
   "outputs": [],
   "source": [
    "#drop unnecessary columns, those with too many missing variables\n",
    "df.drop(columns=[\"unid\", \"survey_num\", \"num_score\", \"province\", \"peoplelive_15plus\"],axis=1, inplace=True)"
   ]
  },
  {
   "cell_type": "code",
   "execution_count": 154,
   "metadata": {},
   "outputs": [],
   "source": [
    "#drop rows after 32880, too many missing variables\n",
    "df = df.drop(df.index[32880:])"
   ]
  },
  {
   "cell_type": "code",
   "execution_count": 155,
   "metadata": {},
   "outputs": [
    {
     "data": {
      "text/plain": [
       "<AxesSubplot:>"
      ]
     },
     "execution_count": 155,
     "metadata": {},
     "output_type": "execute_result"
    },
    {
     "data": {
      "image/png": "[encoded data removed]",
      "text/plain": [
       "<Figure size 1800x720 with 2 Axes>"
      ]
     },
     "metadata": {
      "needs_background": "light"
     },
     "output_type": "display_data"
    }
   ],
   "source": [
    "msno.matrix(df)"
   ]
  },
  {
   "cell_type": "code",
   "execution_count": 156,
   "metadata": {},
   "outputs": [
    {
     "data": {
      "text/plain": [
       "cft_score                         0\n",
       "opt_score                      9841\n",
       "com_score                     13533\n",
       "grit_score                        0\n",
       "survey_date_month                 0\n",
       "gender                            0\n",
       "dob                               1\n",
       "peoplelive                     8913\n",
       "numchildren                    9010\n",
       "numearnincome                 14259\n",
       "anygrant                       3012\n",
       "anyhhincome                    3012\n",
       "financial_situation_now        9841\n",
       "financial_situation_5years     9841\n",
       "givemoney_yes                  9165\n",
       "working                           0\n",
       "dtype: int64"
      ]
     },
     "execution_count": 156,
     "metadata": {},
     "output_type": "execute_result"
    }
   ],
   "source": [
    "#display null variables in each column\n",
    "df.isna().sum()"
   ]
  },
  {
   "cell_type": "code",
   "execution_count": 157,
   "metadata": {},
   "outputs": [
    {
     "name": "stdout",
     "output_type": "stream",
     "text": [
      "       cft_score  opt_score  com_score  grit_score survey_date_month gender  \\\n",
      "20631        6.0        5.0        NaN         8.0        2017-06-01   Male   \n",
      "\n",
      "       dob peoplelive numchildren numearnincome anygrant anyhhincome  \\\n",
      "20631  NaN          6           0           NaN     True        True   \n",
      "\n",
      "      financial_situation_now financial_situation_5years givemoney_yes  \\\n",
      "20631                       3                          8         False   \n",
      "\n",
      "       working  \n",
      "20631    False  \n"
     ]
    }
   ],
   "source": [
    "#display null variables in dob\n",
    "print(df[df['dob'].isnull()])"
   ]
  },
  {
   "cell_type": "code",
   "execution_count": 158,
   "metadata": {},
   "outputs": [],
   "source": [
    "#drop null variables\n",
    "df = df.drop(df.index[20631])"
   ]
  },
  {
   "cell_type": "code",
   "execution_count": 159,
   "metadata": {},
   "outputs": [
    {
     "data": {
      "text/plain": [
       "cft_score                         0\n",
       "opt_score                      9841\n",
       "com_score                     13532\n",
       "grit_score                        0\n",
       "survey_date_month                 0\n",
       "gender                            0\n",
       "dob                               0\n",
       "peoplelive                     8913\n",
       "numchildren                    9010\n",
       "numearnincome                 14258\n",
       "anygrant                       3012\n",
       "anyhhincome                    3012\n",
       "financial_situation_now        9841\n",
       "financial_situation_5years     9841\n",
       "givemoney_yes                  9165\n",
       "working                           0\n",
       "dtype: int64"
      ]
     },
     "execution_count": 159,
     "metadata": {},
     "output_type": "execute_result"
    }
   ],
   "source": [
    "df.isna().sum()"
   ]
  },
  {
   "cell_type": "code",
   "execution_count": 160,
   "metadata": {},
   "outputs": [
    {
     "data": {
      "text/plain": [
       "4                  4004\n",
       "3                  3961\n",
       "2                  3322\n",
       "5                  3233\n",
       "6                  2375\n",
       "1                  2265\n",
       "7                  1507\n",
       "8                  1001\n",
       "9                   562\n",
       "0: I live alone     450\n",
       "10                  407\n",
       "0                   261\n",
       "11                  193\n",
       "12                  137\n",
       "15 or more          108\n",
       "13                   85\n",
       "14                   61\n",
       "More than 15         20\n",
       "15                   12\n",
       "20                    1\n",
       "22                    1\n",
       "Name: peoplelive, dtype: int64"
      ]
     },
     "execution_count": 160,
     "metadata": {},
     "output_type": "execute_result"
    }
   ],
   "source": [
    "df.peoplelive.value_counts()"
   ]
  },
  {
   "cell_type": "code",
   "execution_count": 161,
   "metadata": {},
   "outputs": [],
   "source": [
    "#replace people live iwth word variables with numbers\n",
    "df['peoplelive'] = df['peoplelive'].replace(['0: I live alone'],'0')"
   ]
  },
  {
   "cell_type": "code",
   "execution_count": 162,
   "metadata": {},
   "outputs": [],
   "source": [
    "df['peoplelive'] = df['peoplelive'].replace(['15 or more'],'15')"
   ]
  },
  {
   "cell_type": "code",
   "execution_count": 163,
   "metadata": {},
   "outputs": [],
   "source": [
    "df['peoplelive'] = df['peoplelive'].replace(['More than 15'],'16')"
   ]
  },
  {
   "cell_type": "code",
   "execution_count": 164,
   "metadata": {},
   "outputs": [
    {
     "data": {
      "text/plain": [
       "4     4004\n",
       "3     3961\n",
       "2     3322\n",
       "5     3233\n",
       "6     2375\n",
       "1     2265\n",
       "7     1507\n",
       "8     1001\n",
       "0      711\n",
       "9      562\n",
       "10     407\n",
       "11     193\n",
       "12     137\n",
       "15     120\n",
       "13      85\n",
       "14      61\n",
       "16      20\n",
       "22       1\n",
       "20       1\n",
       "Name: peoplelive, dtype: int64"
      ]
     },
     "execution_count": 164,
     "metadata": {},
     "output_type": "execute_result"
    }
   ],
   "source": [
    "df.peoplelive.value_counts()"
   ]
  },
  {
   "cell_type": "code",
   "execution_count": 165,
   "metadata": {},
   "outputs": [
    {
     "data": {
      "text/plain": [
       "1                  9841\n",
       "2                  3664\n",
       "0                  3372\n",
       "3                   889\n",
       "0: I live alone     445\n",
       "4                   240\n",
       "5                    75\n",
       "6                    34\n",
       "7                    19\n",
       "8                    19\n",
       "10                    8\n",
       "15 or more            7\n",
       "9                     3\n",
       "11                    3\n",
       "12                    1\n",
       "14                    1\n",
       "Name: numearnincome, dtype: int64"
      ]
     },
     "execution_count": 165,
     "metadata": {},
     "output_type": "execute_result"
    }
   ],
   "source": [
    "df.numearnincome.value_counts()"
   ]
  },
  {
   "cell_type": "code",
   "execution_count": 166,
   "metadata": {},
   "outputs": [],
   "source": [
    "#replace income word variables with numbers\n",
    "df['numearnincome'] = df['numearnincome'].replace(['0: I live alone'],'0')"
   ]
  },
  {
   "cell_type": "code",
   "execution_count": 167,
   "metadata": {},
   "outputs": [],
   "source": [
    "df['numearnincome'] = df['numearnincome'].replace(['15 or more'],'15')"
   ]
  },
  {
   "cell_type": "code",
   "execution_count": 168,
   "metadata": {},
   "outputs": [
    {
     "data": {
      "text/plain": [
       "1     9841\n",
       "0     3817\n",
       "2     3664\n",
       "3      889\n",
       "4      240\n",
       "5       75\n",
       "6       34\n",
       "7       19\n",
       "8       19\n",
       "10       8\n",
       "15       7\n",
       "9        3\n",
       "11       3\n",
       "12       1\n",
       "14       1\n",
       "Name: numearnincome, dtype: int64"
      ]
     },
     "execution_count": 168,
     "metadata": {},
     "output_type": "execute_result"
    }
   ],
   "source": [
    "df.numearnincome.value_counts()"
   ]
  },
  {
   "cell_type": "code",
   "execution_count": 169,
   "metadata": {},
   "outputs": [
    {
     "data": {
      "text/plain": [
       "0            13975\n",
       "1             7522\n",
       "2             2015\n",
       "3              343\n",
       "4 or more       12\n",
       "4more            2\n",
       "Name: numchildren, dtype: int64"
      ]
     },
     "execution_count": 169,
     "metadata": {},
     "output_type": "execute_result"
    }
   ],
   "source": [
    "df.numchildren.value_counts()"
   ]
  },
  {
   "cell_type": "code",
   "execution_count": 170,
   "metadata": {},
   "outputs": [],
   "source": [
    "#replace number of children word variables with numbers\n",
    "df['numchildren'] = df['numchildren'].replace(['4 or more'],'4')"
   ]
  },
  {
   "cell_type": "code",
   "execution_count": 171,
   "metadata": {},
   "outputs": [],
   "source": [
    "df['numchildren'] = df['numchildren'].replace(['4more'],'5')"
   ]
  },
  {
   "cell_type": "code",
   "execution_count": 172,
   "metadata": {},
   "outputs": [
    {
     "data": {
      "text/plain": [
       "0    13975\n",
       "1     7522\n",
       "2     2015\n",
       "3      343\n",
       "4       12\n",
       "5        2\n",
       "Name: numchildren, dtype: int64"
      ]
     },
     "execution_count": 172,
     "metadata": {},
     "output_type": "execute_result"
    }
   ],
   "source": [
    "df.numchildren.value_counts()"
   ]
  },
  {
   "cell_type": "code",
   "execution_count": 173,
   "metadata": {},
   "outputs": [
    {
     "data": {
      "text/plain": [
       "10 (Best possible financial situation)    7691\n",
       "8                                         3840\n",
       "7                                         3178\n",
       "9                                         2683\n",
       "6                                         2356\n",
       "5                                         1980\n",
       "4                                          612\n",
       "3                                          315\n",
       "1 (Worst possible financial situation)     204\n",
       "2                                          179\n",
       "Name: financial_situation_5years, dtype: int64"
      ]
     },
     "execution_count": 173,
     "metadata": {},
     "output_type": "execute_result"
    }
   ],
   "source": [
    "df.financial_situation_5years.value_counts()"
   ]
  },
  {
   "cell_type": "code",
   "execution_count": 174,
   "metadata": {},
   "outputs": [],
   "source": [
    "#replace financial situation word variables with numbers\n",
    "df['financial_situation_5years'] = df['financial_situation_5years'].replace(['10 (Best possible financial situation)'],'10')"
   ]
  },
  {
   "cell_type": "code",
   "execution_count": 175,
   "metadata": {},
   "outputs": [],
   "source": [
    "df['financial_situation_5years'] = df['financial_situation_5years'].replace(['1 (Worst possible financial situation)'],'1')"
   ]
  },
  {
   "cell_type": "code",
   "execution_count": 176,
   "metadata": {},
   "outputs": [
    {
     "data": {
      "text/plain": [
       "10    7691\n",
       "8     3840\n",
       "7     3178\n",
       "9     2683\n",
       "6     2356\n",
       "5     1980\n",
       "4      612\n",
       "3      315\n",
       "1      204\n",
       "2      179\n",
       "Name: financial_situation_5years, dtype: int64"
      ]
     },
     "execution_count": 176,
     "metadata": {},
     "output_type": "execute_result"
    }
   ],
   "source": [
    "df.financial_situation_5years.value_counts()"
   ]
  },
  {
   "cell_type": "code",
   "execution_count": 177,
   "metadata": {},
   "outputs": [
    {
     "data": {
      "text/plain": [
       "1 (Worst possible financial situation)    8402\n",
       "2                                         5080\n",
       "3                                         4199\n",
       "4                                         2680\n",
       "5                                         1644\n",
       "6                                          346\n",
       "10 (Best possible financial situation)     318\n",
       "7                                          205\n",
       "8                                           85\n",
       "9                                           79\n",
       "Name: financial_situation_now, dtype: int64"
      ]
     },
     "execution_count": 177,
     "metadata": {},
     "output_type": "execute_result"
    }
   ],
   "source": [
    "df.financial_situation_now.value_counts()"
   ]
  },
  {
   "cell_type": "code",
   "execution_count": 178,
   "metadata": {},
   "outputs": [],
   "source": [
    "#replace financial situation word variables with numbers\n",
    "df['financial_situation_now'] = df['financial_situation_now'].replace(['10 (Best possible financial situation)'],'10')"
   ]
  },
  {
   "cell_type": "code",
   "execution_count": 179,
   "metadata": {},
   "outputs": [],
   "source": [
    "df['financial_situation_now'] = df['financial_situation_now'].replace(['1 (Worst possible financial situation)'],'1')"
   ]
  },
  {
   "cell_type": "code",
   "execution_count": 180,
   "metadata": {},
   "outputs": [
    {
     "data": {
      "text/plain": [
       "1     8402\n",
       "2     5080\n",
       "3     4199\n",
       "4     2680\n",
       "5     1644\n",
       "6      346\n",
       "10     318\n",
       "7      205\n",
       "8       85\n",
       "9       79\n",
       "Name: financial_situation_now, dtype: int64"
      ]
     },
     "execution_count": 180,
     "metadata": {},
     "output_type": "execute_result"
    }
   ],
   "source": [
    "df.financial_situation_now.value_counts()"
   ]
  },
  {
   "cell_type": "code",
   "execution_count": 181,
   "metadata": {},
   "outputs": [],
   "source": [
    "#encode date variables\n",
    "df['survey_date_month'] = df['survey_date_month'].replace('-', '', regex=True).astype(int)"
   ]
  },
  {
   "cell_type": "code",
   "execution_count": 182,
   "metadata": {},
   "outputs": [
    {
     "data": {
      "text/plain": [
       "20160301    2063\n",
       "20170101    1882\n",
       "20160201    1816\n",
       "20170301    1752\n",
       "20161001    1705\n",
       "Name: survey_date_month, dtype: int64"
      ]
     },
     "execution_count": 182,
     "metadata": {},
     "output_type": "execute_result"
    }
   ],
   "source": [
    "df.survey_date_month.value_counts().head()"
   ]
  },
  {
   "cell_type": "code",
   "execution_count": 183,
   "metadata": {},
   "outputs": [],
   "source": [
    "#encode dob variables\n",
    "df['dob'] = df['dob'].replace('-', '', regex=True).astype(int)"
   ]
  },
  {
   "cell_type": "code",
   "execution_count": 184,
   "metadata": {},
   "outputs": [
    {
     "data": {
      "text/plain": [
       "19930901    412\n",
       "19930801    404\n",
       "19920301    388\n",
       "19920901    383\n",
       "19940401    372\n",
       "Name: dob, dtype: int64"
      ]
     },
     "execution_count": 184,
     "metadata": {},
     "output_type": "execute_result"
    }
   ],
   "source": [
    "df.dob.value_counts().head()"
   ]
  },
  {
   "cell_type": "code",
   "execution_count": 185,
   "metadata": {},
   "outputs": [],
   "source": [
    "#encode gender variables\n",
    "df['gender'] = df['gender'].replace(['Male'],'0')"
   ]
  },
  {
   "cell_type": "code",
   "execution_count": 186,
   "metadata": {},
   "outputs": [],
   "source": [
    "df['gender'] = df['gender'].replace(['Female'],'1')"
   ]
  },
  {
   "cell_type": "code",
   "execution_count": 187,
   "metadata": {},
   "outputs": [],
   "source": [
    "df['anygrant'] = df['anygrant'].replace([False],'0')"
   ]
  },
  {
   "cell_type": "code",
   "execution_count": 188,
   "metadata": {},
   "outputs": [],
   "source": [
    "df['anygrant'] = df['anygrant'].replace([True],'1')"
   ]
  },
  {
   "cell_type": "code",
   "execution_count": 189,
   "metadata": {},
   "outputs": [
    {
     "data": {
      "text/plain": [
       "0      0\n",
       "1      1\n",
       "2      0\n",
       "3      1\n",
       "4    NaN\n",
       "Name: anygrant, dtype: object"
      ]
     },
     "execution_count": 189,
     "metadata": {},
     "output_type": "execute_result"
    }
   ],
   "source": [
    "df.anygrant.head()"
   ]
  },
  {
   "cell_type": "code",
   "execution_count": 190,
   "metadata": {},
   "outputs": [],
   "source": [
    "#encode boolean income variables\n",
    "df['anyhhincome'] = df['anyhhincome'].replace([False],'0')"
   ]
  },
  {
   "cell_type": "code",
   "execution_count": 191,
   "metadata": {},
   "outputs": [],
   "source": [
    "df['anyhhincome'] = df['anyhhincome'].replace([True],'1')"
   ]
  },
  {
   "cell_type": "code",
   "execution_count": 192,
   "metadata": {},
   "outputs": [],
   "source": [
    "df['givemoney_yes'] = df['givemoney_yes'].replace([False],'0')"
   ]
  },
  {
   "cell_type": "code",
   "execution_count": 193,
   "metadata": {},
   "outputs": [],
   "source": [
    "df['givemoney_yes'] = df['givemoney_yes'].replace([True],'1')"
   ]
  },
  {
   "cell_type": "code",
   "execution_count": 194,
   "metadata": {},
   "outputs": [
    {
     "data": {
      "text/html": [
       "<div>\n",
       "<style scoped>\n",
       "    .dataframe tbody tr th:only-of-type {\n",
       "        vertical-align: middle;\n",
       "    }\n",
       "\n",
       "    .dataframe tbody tr th {\n",
       "        vertical-align: top;\n",
       "    }\n",
       "\n",
       "    .dataframe thead th {\n",
       "        text-align: right;\n",
       "    }\n",
       "</style>\n",
       "<table border=\"1\" class=\"dataframe\">\n",
       "  <thead>\n",
       "    <tr style=\"text-align: right;\">\n",
       "      <th></th>\n",
       "      <th>cft_score</th>\n",
       "      <th>opt_score</th>\n",
       "      <th>com_score</th>\n",
       "      <th>grit_score</th>\n",
       "      <th>survey_date_month</th>\n",
       "      <th>gender</th>\n",
       "      <th>dob</th>\n",
       "      <th>peoplelive</th>\n",
       "      <th>numchildren</th>\n",
       "      <th>numearnincome</th>\n",
       "      <th>anygrant</th>\n",
       "      <th>anyhhincome</th>\n",
       "      <th>financial_situation_now</th>\n",
       "      <th>financial_situation_5years</th>\n",
       "      <th>givemoney_yes</th>\n",
       "      <th>working</th>\n",
       "    </tr>\n",
       "  </thead>\n",
       "  <tbody>\n",
       "    <tr>\n",
       "      <th>0</th>\n",
       "      <td>4.0</td>\n",
       "      <td>NaN</td>\n",
       "      <td>4.0</td>\n",
       "      <td>4.0</td>\n",
       "      <td>20180601</td>\n",
       "      <td>1</td>\n",
       "      <td>19920201</td>\n",
       "      <td>NaN</td>\n",
       "      <td>NaN</td>\n",
       "      <td>NaN</td>\n",
       "      <td>0</td>\n",
       "      <td>0</td>\n",
       "      <td>NaN</td>\n",
       "      <td>NaN</td>\n",
       "      <td>NaN</td>\n",
       "      <td>True</td>\n",
       "    </tr>\n",
       "    <tr>\n",
       "      <th>1</th>\n",
       "      <td>4.0</td>\n",
       "      <td>7.0</td>\n",
       "      <td>5.0</td>\n",
       "      <td>3.0</td>\n",
       "      <td>20160301</td>\n",
       "      <td>1</td>\n",
       "      <td>19881101</td>\n",
       "      <td>2</td>\n",
       "      <td>3</td>\n",
       "      <td>1</td>\n",
       "      <td>1</td>\n",
       "      <td>1</td>\n",
       "      <td>2</td>\n",
       "      <td>8</td>\n",
       "      <td>0</td>\n",
       "      <td>True</td>\n",
       "    </tr>\n",
       "    <tr>\n",
       "      <th>2</th>\n",
       "      <td>5.0</td>\n",
       "      <td>3.0</td>\n",
       "      <td>5.0</td>\n",
       "      <td>2.0</td>\n",
       "      <td>20160401</td>\n",
       "      <td>0</td>\n",
       "      <td>19910401</td>\n",
       "      <td>4</td>\n",
       "      <td>1</td>\n",
       "      <td>1</td>\n",
       "      <td>0</td>\n",
       "      <td>1</td>\n",
       "      <td>1</td>\n",
       "      <td>1</td>\n",
       "      <td>0</td>\n",
       "      <td>True</td>\n",
       "    </tr>\n",
       "    <tr>\n",
       "      <th>3</th>\n",
       "      <td>10.0</td>\n",
       "      <td>4.0</td>\n",
       "      <td>NaN</td>\n",
       "      <td>0.0</td>\n",
       "      <td>20180401</td>\n",
       "      <td>1</td>\n",
       "      <td>19980901</td>\n",
       "      <td>7</td>\n",
       "      <td>0</td>\n",
       "      <td>NaN</td>\n",
       "      <td>1</td>\n",
       "      <td>1</td>\n",
       "      <td>1</td>\n",
       "      <td>7</td>\n",
       "      <td>0</td>\n",
       "      <td>True</td>\n",
       "    </tr>\n",
       "    <tr>\n",
       "      <th>4</th>\n",
       "      <td>7.0</td>\n",
       "      <td>NaN</td>\n",
       "      <td>NaN</td>\n",
       "      <td>4.0</td>\n",
       "      <td>20160701</td>\n",
       "      <td>0</td>\n",
       "      <td>19950801</td>\n",
       "      <td>NaN</td>\n",
       "      <td>NaN</td>\n",
       "      <td>NaN</td>\n",
       "      <td>NaN</td>\n",
       "      <td>NaN</td>\n",
       "      <td>NaN</td>\n",
       "      <td>NaN</td>\n",
       "      <td>NaN</td>\n",
       "      <td>False</td>\n",
       "    </tr>\n",
       "  </tbody>\n",
       "</table>\n",
       "</div>"
      ],
      "text/plain": [
       "   cft_score  opt_score  com_score  grit_score  survey_date_month gender  \\\n",
       "0        4.0        NaN        4.0         4.0           20180601      1   \n",
       "1        4.0        7.0        5.0         3.0           20160301      1   \n",
       "2        5.0        3.0        5.0         2.0           20160401      0   \n",
       "3       10.0        4.0        NaN         0.0           20180401      1   \n",
       "4        7.0        NaN        NaN         4.0           20160701      0   \n",
       "\n",
       "        dob peoplelive numchildren numearnincome anygrant anyhhincome  \\\n",
       "0  19920201        NaN         NaN           NaN        0           0   \n",
       "1  19881101          2           3             1        1           1   \n",
       "2  19910401          4           1             1        0           1   \n",
       "3  19980901          7           0           NaN        1           1   \n",
       "4  19950801        NaN         NaN           NaN      NaN         NaN   \n",
       "\n",
       "  financial_situation_now financial_situation_5years givemoney_yes  working  \n",
       "0                     NaN                        NaN           NaN     True  \n",
       "1                       2                          8             0     True  \n",
       "2                       1                          1             0     True  \n",
       "3                       1                          7             0     True  \n",
       "4                     NaN                        NaN           NaN    False  "
      ]
     },
     "execution_count": 194,
     "metadata": {},
     "output_type": "execute_result"
    }
   ],
   "source": [
    "df.head()"
   ]
  },
  {
   "cell_type": "code",
   "execution_count": 195,
   "metadata": {},
   "outputs": [],
   "source": [
    "#knn imputation\n",
    "from sklearn.impute import KNNImputer "
   ]
  },
  {
   "cell_type": "code",
   "execution_count": 196,
   "metadata": {},
   "outputs": [],
   "source": [
    "imputer = KNNImputer()"
   ]
  },
  {
   "cell_type": "code",
   "execution_count": 197,
   "metadata": {},
   "outputs": [
    {
     "data": {
      "text/plain": [
       "KNNImputer()"
      ]
     },
     "execution_count": 197,
     "metadata": {},
     "output_type": "execute_result"
    }
   ],
   "source": [
    "#use knn imputation to fill in missing values\n",
    "imputer.fit(df)"
   ]
  },
  {
   "cell_type": "code",
   "execution_count": 198,
   "metadata": {},
   "outputs": [],
   "source": [
    "dftrans = imputer.transform(df)"
   ]
  },
  {
   "cell_type": "code",
   "execution_count": 199,
   "metadata": {},
   "outputs": [],
   "source": [
    "df = pd.DataFrame(dftrans, columns = df.columns) "
   ]
  },
  {
   "cell_type": "code",
   "execution_count": 200,
   "metadata": {},
   "outputs": [
    {
     "data": {
      "text/html": [
       "<div>\n",
       "<style scoped>\n",
       "    .dataframe tbody tr th:only-of-type {\n",
       "        vertical-align: middle;\n",
       "    }\n",
       "\n",
       "    .dataframe tbody tr th {\n",
       "        vertical-align: top;\n",
       "    }\n",
       "\n",
       "    .dataframe thead th {\n",
       "        text-align: right;\n",
       "    }\n",
       "</style>\n",
       "<table border=\"1\" class=\"dataframe\">\n",
       "  <thead>\n",
       "    <tr style=\"text-align: right;\">\n",
       "      <th></th>\n",
       "      <th>cft_score</th>\n",
       "      <th>opt_score</th>\n",
       "      <th>com_score</th>\n",
       "      <th>grit_score</th>\n",
       "      <th>survey_date_month</th>\n",
       "      <th>gender</th>\n",
       "      <th>dob</th>\n",
       "      <th>peoplelive</th>\n",
       "      <th>numchildren</th>\n",
       "      <th>numearnincome</th>\n",
       "      <th>anygrant</th>\n",
       "      <th>anyhhincome</th>\n",
       "      <th>financial_situation_now</th>\n",
       "      <th>financial_situation_5years</th>\n",
       "      <th>givemoney_yes</th>\n",
       "      <th>working</th>\n",
       "    </tr>\n",
       "  </thead>\n",
       "  <tbody>\n",
       "    <tr>\n",
       "      <th>0</th>\n",
       "      <td>4.0</td>\n",
       "      <td>4.2</td>\n",
       "      <td>4.0</td>\n",
       "      <td>4.0</td>\n",
       "      <td>20180601.0</td>\n",
       "      <td>1.0</td>\n",
       "      <td>19920201.0</td>\n",
       "      <td>6.0</td>\n",
       "      <td>1.0</td>\n",
       "      <td>1.0</td>\n",
       "      <td>0.0</td>\n",
       "      <td>0.0</td>\n",
       "      <td>3.6</td>\n",
       "      <td>7.8</td>\n",
       "      <td>0.4</td>\n",
       "      <td>1.0</td>\n",
       "    </tr>\n",
       "    <tr>\n",
       "      <th>1</th>\n",
       "      <td>4.0</td>\n",
       "      <td>7.0</td>\n",
       "      <td>5.0</td>\n",
       "      <td>3.0</td>\n",
       "      <td>20160301.0</td>\n",
       "      <td>1.0</td>\n",
       "      <td>19881101.0</td>\n",
       "      <td>2.0</td>\n",
       "      <td>3.0</td>\n",
       "      <td>1.0</td>\n",
       "      <td>1.0</td>\n",
       "      <td>1.0</td>\n",
       "      <td>2.0</td>\n",
       "      <td>8.0</td>\n",
       "      <td>0.0</td>\n",
       "      <td>1.0</td>\n",
       "    </tr>\n",
       "    <tr>\n",
       "      <th>2</th>\n",
       "      <td>5.0</td>\n",
       "      <td>3.0</td>\n",
       "      <td>5.0</td>\n",
       "      <td>2.0</td>\n",
       "      <td>20160401.0</td>\n",
       "      <td>0.0</td>\n",
       "      <td>19910401.0</td>\n",
       "      <td>4.0</td>\n",
       "      <td>1.0</td>\n",
       "      <td>1.0</td>\n",
       "      <td>0.0</td>\n",
       "      <td>1.0</td>\n",
       "      <td>1.0</td>\n",
       "      <td>1.0</td>\n",
       "      <td>0.0</td>\n",
       "      <td>1.0</td>\n",
       "    </tr>\n",
       "    <tr>\n",
       "      <th>3</th>\n",
       "      <td>10.0</td>\n",
       "      <td>4.0</td>\n",
       "      <td>6.4</td>\n",
       "      <td>0.0</td>\n",
       "      <td>20180401.0</td>\n",
       "      <td>1.0</td>\n",
       "      <td>19980901.0</td>\n",
       "      <td>7.0</td>\n",
       "      <td>0.0</td>\n",
       "      <td>2.0</td>\n",
       "      <td>1.0</td>\n",
       "      <td>1.0</td>\n",
       "      <td>1.0</td>\n",
       "      <td>7.0</td>\n",
       "      <td>0.0</td>\n",
       "      <td>1.0</td>\n",
       "    </tr>\n",
       "    <tr>\n",
       "      <th>4</th>\n",
       "      <td>7.0</td>\n",
       "      <td>2.4</td>\n",
       "      <td>5.4</td>\n",
       "      <td>4.0</td>\n",
       "      <td>20160701.0</td>\n",
       "      <td>0.0</td>\n",
       "      <td>19950801.0</td>\n",
       "      <td>3.2</td>\n",
       "      <td>0.4</td>\n",
       "      <td>2.0</td>\n",
       "      <td>0.4</td>\n",
       "      <td>1.0</td>\n",
       "      <td>3.8</td>\n",
       "      <td>7.8</td>\n",
       "      <td>0.2</td>\n",
       "      <td>0.0</td>\n",
       "    </tr>\n",
       "  </tbody>\n",
       "</table>\n",
       "</div>"
      ],
      "text/plain": [
       "   cft_score  opt_score  com_score  grit_score  survey_date_month  gender  \\\n",
       "0        4.0        4.2        4.0         4.0         20180601.0     1.0   \n",
       "1        4.0        7.0        5.0         3.0         20160301.0     1.0   \n",
       "2        5.0        3.0        5.0         2.0         20160401.0     0.0   \n",
       "3       10.0        4.0        6.4         0.0         20180401.0     1.0   \n",
       "4        7.0        2.4        5.4         4.0         20160701.0     0.0   \n",
       "\n",
       "          dob  peoplelive  numchildren  numearnincome  anygrant  anyhhincome  \\\n",
       "0  19920201.0         6.0          1.0            1.0       0.0          0.0   \n",
       "1  19881101.0         2.0          3.0            1.0       1.0          1.0   \n",
       "2  19910401.0         4.0          1.0            1.0       0.0          1.0   \n",
       "3  19980901.0         7.0          0.0            2.0       1.0          1.0   \n",
       "4  19950801.0         3.2          0.4            2.0       0.4          1.0   \n",
       "\n",
       "   financial_situation_now  financial_situation_5years  givemoney_yes  working  \n",
       "0                      3.6                         7.8            0.4      1.0  \n",
       "1                      2.0                         8.0            0.0      1.0  \n",
       "2                      1.0                         1.0            0.0      1.0  \n",
       "3                      1.0                         7.0            0.0      1.0  \n",
       "4                      3.8                         7.8            0.2      0.0  "
      ]
     },
     "execution_count": 200,
     "metadata": {},
     "output_type": "execute_result"
    }
   ],
   "source": [
    "#display sample of imputed values \n",
    "df.head()"
   ]
  },
  {
   "cell_type": "code",
   "execution_count": 201,
   "metadata": {},
   "outputs": [
    {
     "data": {
      "text/plain": [
       "<AxesSubplot:>"
      ]
     },
     "execution_count": 201,
     "metadata": {},
     "output_type": "execute_result"
    },
    {
     "data": {
      "image/png": "[encoded data removed]",
      "text/plain": [
       "<Figure size 1800x720 with 2 Axes>"
      ]
     },
     "metadata": {
      "needs_background": "light"
     },
     "output_type": "display_data"
    }
   ],
   "source": [
    "#display wrangled data\n",
    "msno.matrix(df)"
   ]
  },
  {
   "cell_type": "code",
   "execution_count": 69,
   "metadata": {},
   "outputs": [],
   "source": []
  },
  {
   "cell_type": "code",
   "execution_count": null,
   "metadata": {},
   "outputs": [],
   "source": []
  }
 ],
 "metadata": {
  "colab": {
   "name": "harambee_eda_wrangling.ipynb",
   "provenance": []
  },
  "kernelspec": {
   "display_name": "Python 3",
   "language": "python",
   "name": "python3"
  },
  "language_info": {
   "codemirror_mode": {
    "name": "ipython",
    "version": 3
   },
   "file_extension": ".py",
   "mimetype": "text/x-python",
   "name": "python",
   "nbconvert_exporter": "python",
   "pygments_lexer": "ipython3",
   "version": "3.8.5"
  }
 },
 "nbformat": 4,
 "nbformat_minor": 1
}
