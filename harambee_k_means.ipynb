{
 "cells": [
  {
   "cell_type": "markdown",
   "metadata": {
    "id": "AgIUT7Bzz6zk"
   },
   "source": [
    "# <font color='#eb3483'> Clustering Harambee Data </font>"
   ]
  },
  {
   "cell_type": "markdown",
   "metadata": {
    "id": "I0-Z4kpyz6zp"
   },
   "source": [
    "### Loading ..."
   ]
  },
  {
   "cell_type": "code",
   "execution_count": 66,
   "metadata": {
    "executionInfo": {
     "elapsed": 516,
     "status": "ok",
     "timestamp": 1610416911591,
     "user": {
      "displayName": "Enock Chemochek",
      "photoUrl": "https://lh3.googleusercontent.com/a-/AOh14Gi1MRbTpDKtYJKaFeqBo1eqBnHIZu9Y4u2mywoC=s64",
      "userId": "02099267530599713599"
     },
     "user_tz": 300
    },
    "id": "oG1OgBDPz6zt"
   },
   "outputs": [],
   "source": [
    "# import useful libraries.\n",
    "import numpy as np\n",
    "import pandas as pd\n",
    "import matplotlib.pyplot as plt\n",
    "%matplotlib inline"
   ]
  },
  {
   "cell_type": "code",
   "execution_count": 67,
   "metadata": {
    "colab": {
     "base_uri": "https://localhost:8080/",
     "height": 278
    },
    "executionInfo": {
     "elapsed": 453,
     "status": "ok",
     "timestamp": 1610417028348,
     "user": {
      "displayName": "Enock Chemochek",
      "photoUrl": "https://lh3.googleusercontent.com/a-/AOh14Gi1MRbTpDKtYJKaFeqBo1eqBnHIZu9Y4u2mywoC=s64",
      "userId": "02099267530599713599"
     },
     "user_tz": 300
    },
    "id": "R8puqXn9z6zu",
    "outputId": "c84dc87a-c6e2-4f13-a5ed-d9a157d1b1b9"
   },
   "outputs": [
    {
     "data": {
      "text/html": [
       "<div>\n",
       "<style scoped>\n",
       "    .dataframe tbody tr th:only-of-type {\n",
       "        vertical-align: middle;\n",
       "    }\n",
       "\n",
       "    .dataframe tbody tr th {\n",
       "        vertical-align: top;\n",
       "    }\n",
       "\n",
       "    .dataframe thead th {\n",
       "        text-align: right;\n",
       "    }\n",
       "</style>\n",
       "<table border=\"1\" class=\"dataframe\">\n",
       "  <thead>\n",
       "    <tr style=\"text-align: right;\">\n",
       "      <th></th>\n",
       "      <th>Unnamed: 0</th>\n",
       "      <th>unid</th>\n",
       "      <th>cft_score</th>\n",
       "      <th>opt_score</th>\n",
       "      <th>com_score</th>\n",
       "      <th>grit_score</th>\n",
       "      <th>num_score</th>\n",
       "      <th>survey_date_month</th>\n",
       "      <th>survey_num</th>\n",
       "      <th>gender</th>\n",
       "      <th>...</th>\n",
       "      <th>peoplelive</th>\n",
       "      <th>peoplelive_15plus</th>\n",
       "      <th>numchildren</th>\n",
       "      <th>numearnincome</th>\n",
       "      <th>anygrant</th>\n",
       "      <th>anyhhincome</th>\n",
       "      <th>financial_situation_now</th>\n",
       "      <th>financial_situation_5years</th>\n",
       "      <th>givemoney_yes</th>\n",
       "      <th>working</th>\n",
       "    </tr>\n",
       "  </thead>\n",
       "  <tbody>\n",
       "    <tr>\n",
       "      <th>0</th>\n",
       "      <td>1</td>\n",
       "      <td>41964</td>\n",
       "      <td>4.0</td>\n",
       "      <td>NaN</td>\n",
       "      <td>4.0</td>\n",
       "      <td>4.0</td>\n",
       "      <td>NaN</td>\n",
       "      <td>2018-06-01</td>\n",
       "      <td>1</td>\n",
       "      <td>Female</td>\n",
       "      <td>...</td>\n",
       "      <td>NaN</td>\n",
       "      <td>NaN</td>\n",
       "      <td>NaN</td>\n",
       "      <td>NaN</td>\n",
       "      <td>False</td>\n",
       "      <td>False</td>\n",
       "      <td>NaN</td>\n",
       "      <td>NaN</td>\n",
       "      <td>NaN</td>\n",
       "      <td>True</td>\n",
       "    </tr>\n",
       "    <tr>\n",
       "      <th>1</th>\n",
       "      <td>2</td>\n",
       "      <td>15241</td>\n",
       "      <td>4.0</td>\n",
       "      <td>7.0</td>\n",
       "      <td>5.0</td>\n",
       "      <td>3.0</td>\n",
       "      <td>NaN</td>\n",
       "      <td>2016-03-01</td>\n",
       "      <td>1</td>\n",
       "      <td>Female</td>\n",
       "      <td>...</td>\n",
       "      <td>2</td>\n",
       "      <td>NaN</td>\n",
       "      <td>3</td>\n",
       "      <td>1</td>\n",
       "      <td>True</td>\n",
       "      <td>True</td>\n",
       "      <td>2</td>\n",
       "      <td>8</td>\n",
       "      <td>False</td>\n",
       "      <td>True</td>\n",
       "    </tr>\n",
       "    <tr>\n",
       "      <th>2</th>\n",
       "      <td>3</td>\n",
       "      <td>33702</td>\n",
       "      <td>5.0</td>\n",
       "      <td>3.0</td>\n",
       "      <td>5.0</td>\n",
       "      <td>2.0</td>\n",
       "      <td>NaN</td>\n",
       "      <td>2016-04-01</td>\n",
       "      <td>1</td>\n",
       "      <td>Male</td>\n",
       "      <td>...</td>\n",
       "      <td>4</td>\n",
       "      <td>NaN</td>\n",
       "      <td>1</td>\n",
       "      <td>1</td>\n",
       "      <td>False</td>\n",
       "      <td>True</td>\n",
       "      <td>1 (Worst possible financial situation)</td>\n",
       "      <td>1 (Worst possible financial situation)</td>\n",
       "      <td>False</td>\n",
       "      <td>True</td>\n",
       "    </tr>\n",
       "    <tr>\n",
       "      <th>3</th>\n",
       "      <td>4</td>\n",
       "      <td>101252</td>\n",
       "      <td>10.0</td>\n",
       "      <td>4.0</td>\n",
       "      <td>NaN</td>\n",
       "      <td>0.0</td>\n",
       "      <td>NaN</td>\n",
       "      <td>2018-04-01</td>\n",
       "      <td>1</td>\n",
       "      <td>Female</td>\n",
       "      <td>...</td>\n",
       "      <td>7</td>\n",
       "      <td>5</td>\n",
       "      <td>0</td>\n",
       "      <td>NaN</td>\n",
       "      <td>True</td>\n",
       "      <td>True</td>\n",
       "      <td>1 (Worst possible financial situation)</td>\n",
       "      <td>7</td>\n",
       "      <td>False</td>\n",
       "      <td>True</td>\n",
       "    </tr>\n",
       "    <tr>\n",
       "      <th>4</th>\n",
       "      <td>5</td>\n",
       "      <td>83023</td>\n",
       "      <td>7.0</td>\n",
       "      <td>NaN</td>\n",
       "      <td>NaN</td>\n",
       "      <td>4.0</td>\n",
       "      <td>NaN</td>\n",
       "      <td>2016-07-01</td>\n",
       "      <td>1</td>\n",
       "      <td>Male</td>\n",
       "      <td>...</td>\n",
       "      <td>NaN</td>\n",
       "      <td>NaN</td>\n",
       "      <td>NaN</td>\n",
       "      <td>NaN</td>\n",
       "      <td>NaN</td>\n",
       "      <td>NaN</td>\n",
       "      <td>NaN</td>\n",
       "      <td>NaN</td>\n",
       "      <td>NaN</td>\n",
       "      <td>False</td>\n",
       "    </tr>\n",
       "  </tbody>\n",
       "</table>\n",
       "<p>5 rows × 22 columns</p>\n",
       "</div>"
      ],
      "text/plain": [
       "   Unnamed: 0    unid  cft_score  opt_score  com_score  grit_score  num_score  \\\n",
       "0           1   41964        4.0        NaN        4.0         4.0        NaN   \n",
       "1           2   15241        4.0        7.0        5.0         3.0        NaN   \n",
       "2           3   33702        5.0        3.0        5.0         2.0        NaN   \n",
       "3           4  101252       10.0        4.0        NaN         0.0        NaN   \n",
       "4           5   83023        7.0        NaN        NaN         4.0        NaN   \n",
       "\n",
       "  survey_date_month  survey_num  gender  ... peoplelive peoplelive_15plus  \\\n",
       "0        2018-06-01           1  Female  ...        NaN               NaN   \n",
       "1        2016-03-01           1  Female  ...          2               NaN   \n",
       "2        2016-04-01           1    Male  ...          4               NaN   \n",
       "3        2018-04-01           1  Female  ...          7                 5   \n",
       "4        2016-07-01           1    Male  ...        NaN               NaN   \n",
       "\n",
       "  numchildren numearnincome anygrant anyhhincome  \\\n",
       "0         NaN           NaN    False       False   \n",
       "1           3             1     True        True   \n",
       "2           1             1    False        True   \n",
       "3           0           NaN     True        True   \n",
       "4         NaN           NaN      NaN         NaN   \n",
       "\n",
       "                  financial_situation_now  \\\n",
       "0                                     NaN   \n",
       "1                                       2   \n",
       "2  1 (Worst possible financial situation)   \n",
       "3  1 (Worst possible financial situation)   \n",
       "4                                     NaN   \n",
       "\n",
       "               financial_situation_5years givemoney_yes working  \n",
       "0                                     NaN           NaN    True  \n",
       "1                                       8         False    True  \n",
       "2  1 (Worst possible financial situation)         False    True  \n",
       "3                                       7         False    True  \n",
       "4                                     NaN           NaN   False  \n",
       "\n",
       "[5 rows x 22 columns]"
      ]
     },
     "execution_count": 67,
     "metadata": {},
     "output_type": "execute_result"
    }
   ],
   "source": [
    "df = pd.read_csv(\"processed_data_01012021.csv\")\n",
    "#display top 5 rows\n",
    "df.head()"
   ]
  },
  {
   "cell_type": "markdown",
   "metadata": {
    "id": "L6fyuEs_z6zw"
   },
   "source": [
    "### Overview"
   ]
  },
  {
   "cell_type": "code",
   "execution_count": 68,
   "metadata": {
    "colab": {
     "base_uri": "https://localhost:8080/"
    },
    "executionInfo": {
     "elapsed": 672,
     "status": "ok",
     "timestamp": 1610416926846,
     "user": {
      "displayName": "Enock Chemochek",
      "photoUrl": "https://lh3.googleusercontent.com/a-/AOh14Gi1MRbTpDKtYJKaFeqBo1eqBnHIZu9Y4u2mywoC=s64",
      "userId": "02099267530599713599"
     },
     "user_tz": 300
    },
    "id": "W5FA8dNQgL75",
    "outputId": "981ae698-c497-4836-ea4f-0ab2fbf43363"
   },
   "outputs": [
    {
     "data": {
      "text/plain": [
       "51262"
      ]
     },
     "execution_count": 68,
     "metadata": {},
     "output_type": "execute_result"
    }
   ],
   "source": [
    "df.shape[0]"
   ]
  },
  {
   "cell_type": "code",
   "execution_count": 69,
   "metadata": {
    "colab": {
     "base_uri": "https://localhost:8080/"
    },
    "executionInfo": {
     "elapsed": 574,
     "status": "ok",
     "timestamp": 1610417056118,
     "user": {
      "displayName": "Enock Chemochek",
      "photoUrl": "https://lh3.googleusercontent.com/a-/AOh14Gi1MRbTpDKtYJKaFeqBo1eqBnHIZu9Y4u2mywoC=s64",
      "userId": "02099267530599713599"
     },
     "user_tz": 300
    },
    "id": "25ksO-Nyz6zx",
    "outputId": "d7e73b3c-ca32-4140-9bea-e68a8307eb5e"
   },
   "outputs": [
    {
     "data": {
      "text/plain": [
       "Unnamed: 0                     0.000000\n",
       "unid                           0.000000\n",
       "cft_score                     35.858921\n",
       "opt_score                     55.056377\n",
       "com_score                     62.258593\n",
       "grit_score                    35.858921\n",
       "num_score                     77.931021\n",
       "survey_date_month              0.000000\n",
       "survey_num                     0.000000\n",
       "gender                         0.044868\n",
       "dob                            0.314073\n",
       "province                      62.510242\n",
       "peoplelive                    37.831142\n",
       "peoplelive_15plus             76.569389\n",
       "numchildren                   38.102298\n",
       "numearnincome                 63.337365\n",
       "anygrant                      10.171277\n",
       "anyhhincome                   10.171277\n",
       "financial_situation_now       39.813117\n",
       "financial_situation_5years    39.813117\n",
       "givemoney_yes                 39.179119\n",
       "working                        0.000000\n",
       "dtype: float64"
      ]
     },
     "execution_count": 69,
     "metadata": {},
     "output_type": "execute_result"
    }
   ],
   "source": [
    "#view percent missing data\n",
    "missing = df.isnull().sum() / df.shape[0] * 100\n",
    "missing"
   ]
  },
  {
   "cell_type": "code",
   "execution_count": 70,
   "metadata": {
    "colab": {
     "base_uri": "https://localhost:8080/"
    },
    "executionInfo": {
     "elapsed": 569,
     "status": "ok",
     "timestamp": 1610417061236,
     "user": {
      "displayName": "Enock Chemochek",
      "photoUrl": "https://lh3.googleusercontent.com/a-/AOh14Gi1MRbTpDKtYJKaFeqBo1eqBnHIZu9Y4u2mywoC=s64",
      "userId": "02099267530599713599"
     },
     "user_tz": 300
    },
    "id": "Ay1-9XzBftrx",
    "outputId": "4bd2f36b-5465-4ed4-8c40-494c473a389a"
   },
   "outputs": [
    {
     "data": {
      "text/plain": [
       "22"
      ]
     },
     "execution_count": 70,
     "metadata": {},
     "output_type": "execute_result"
    }
   ],
   "source": [
    "len(df.peoplelive.unique())"
   ]
  },
  {
   "cell_type": "code",
   "execution_count": 71,
   "metadata": {
    "colab": {
     "base_uri": "https://localhost:8080/"
    },
    "executionInfo": {
     "elapsed": 450,
     "status": "ok",
     "timestamp": 1610416957683,
     "user": {
      "displayName": "Enock Chemochek",
      "photoUrl": "https://lh3.googleusercontent.com/a-/AOh14Gi1MRbTpDKtYJKaFeqBo1eqBnHIZu9Y4u2mywoC=s64",
      "userId": "02099267530599713599"
     },
     "user_tz": 300
    },
    "id": "zO4YgTSzz6zz",
    "outputId": "2c57ac4b-34f9-4664-88b9-3be4e2845d4b"
   },
   "outputs": [
    {
     "data": {
      "text/plain": [
       "Index(['opt_score', 'com_score', 'num_score', 'province', 'peoplelive_15plus',\n",
       "       'numearnincome'],\n",
       "      dtype='object')"
      ]
     },
     "execution_count": 71,
     "metadata": {},
     "output_type": "execute_result"
    }
   ],
   "source": [
    "#find columns with more than 50% missing data\n",
    "missing_50 = missing.index[missing > 50]\n",
    "missing_50"
   ]
  },
  {
   "cell_type": "code",
   "execution_count": 72,
   "metadata": {
    "colab": {
     "base_uri": "https://localhost:8080/",
     "height": 258
    },
    "executionInfo": {
     "elapsed": 520,
     "status": "ok",
     "timestamp": 1610417063751,
     "user": {
      "displayName": "Enock Chemochek",
      "photoUrl": "https://lh3.googleusercontent.com/a-/AOh14Gi1MRbTpDKtYJKaFeqBo1eqBnHIZu9Y4u2mywoC=s64",
      "userId": "02099267530599713599"
     },
     "user_tz": 300
    },
    "id": "S5up_O4Vz6z0",
    "outputId": "97df1964-6829-44c5-fe40-89a40e7d90cb"
   },
   "outputs": [
    {
     "data": {
      "text/html": [
       "<div>\n",
       "<style scoped>\n",
       "    .dataframe tbody tr th:only-of-type {\n",
       "        vertical-align: middle;\n",
       "    }\n",
       "\n",
       "    .dataframe tbody tr th {\n",
       "        vertical-align: top;\n",
       "    }\n",
       "\n",
       "    .dataframe thead th {\n",
       "        text-align: right;\n",
       "    }\n",
       "</style>\n",
       "<table border=\"1\" class=\"dataframe\">\n",
       "  <thead>\n",
       "    <tr style=\"text-align: right;\">\n",
       "      <th></th>\n",
       "      <th>Unnamed: 0</th>\n",
       "      <th>unid</th>\n",
       "      <th>cft_score</th>\n",
       "      <th>grit_score</th>\n",
       "      <th>survey_date_month</th>\n",
       "      <th>survey_num</th>\n",
       "      <th>gender</th>\n",
       "      <th>dob</th>\n",
       "      <th>peoplelive</th>\n",
       "      <th>numchildren</th>\n",
       "      <th>anygrant</th>\n",
       "      <th>anyhhincome</th>\n",
       "      <th>financial_situation_now</th>\n",
       "      <th>financial_situation_5years</th>\n",
       "      <th>givemoney_yes</th>\n",
       "      <th>working</th>\n",
       "    </tr>\n",
       "  </thead>\n",
       "  <tbody>\n",
       "    <tr>\n",
       "      <th>0</th>\n",
       "      <td>1</td>\n",
       "      <td>41964</td>\n",
       "      <td>4.0</td>\n",
       "      <td>4.0</td>\n",
       "      <td>2018-06-01</td>\n",
       "      <td>1</td>\n",
       "      <td>Female</td>\n",
       "      <td>1992-02-01</td>\n",
       "      <td>NaN</td>\n",
       "      <td>NaN</td>\n",
       "      <td>False</td>\n",
       "      <td>False</td>\n",
       "      <td>NaN</td>\n",
       "      <td>NaN</td>\n",
       "      <td>NaN</td>\n",
       "      <td>True</td>\n",
       "    </tr>\n",
       "    <tr>\n",
       "      <th>1</th>\n",
       "      <td>2</td>\n",
       "      <td>15241</td>\n",
       "      <td>4.0</td>\n",
       "      <td>3.0</td>\n",
       "      <td>2016-03-01</td>\n",
       "      <td>1</td>\n",
       "      <td>Female</td>\n",
       "      <td>1988-11-01</td>\n",
       "      <td>2</td>\n",
       "      <td>3</td>\n",
       "      <td>True</td>\n",
       "      <td>True</td>\n",
       "      <td>2</td>\n",
       "      <td>8</td>\n",
       "      <td>False</td>\n",
       "      <td>True</td>\n",
       "    </tr>\n",
       "    <tr>\n",
       "      <th>2</th>\n",
       "      <td>3</td>\n",
       "      <td>33702</td>\n",
       "      <td>5.0</td>\n",
       "      <td>2.0</td>\n",
       "      <td>2016-04-01</td>\n",
       "      <td>1</td>\n",
       "      <td>Male</td>\n",
       "      <td>1991-04-01</td>\n",
       "      <td>4</td>\n",
       "      <td>1</td>\n",
       "      <td>False</td>\n",
       "      <td>True</td>\n",
       "      <td>1 (Worst possible financial situation)</td>\n",
       "      <td>1 (Worst possible financial situation)</td>\n",
       "      <td>False</td>\n",
       "      <td>True</td>\n",
       "    </tr>\n",
       "    <tr>\n",
       "      <th>3</th>\n",
       "      <td>4</td>\n",
       "      <td>101252</td>\n",
       "      <td>10.0</td>\n",
       "      <td>0.0</td>\n",
       "      <td>2018-04-01</td>\n",
       "      <td>1</td>\n",
       "      <td>Female</td>\n",
       "      <td>1998-09-01</td>\n",
       "      <td>7</td>\n",
       "      <td>0</td>\n",
       "      <td>True</td>\n",
       "      <td>True</td>\n",
       "      <td>1 (Worst possible financial situation)</td>\n",
       "      <td>7</td>\n",
       "      <td>False</td>\n",
       "      <td>True</td>\n",
       "    </tr>\n",
       "    <tr>\n",
       "      <th>4</th>\n",
       "      <td>5</td>\n",
       "      <td>83023</td>\n",
       "      <td>7.0</td>\n",
       "      <td>4.0</td>\n",
       "      <td>2016-07-01</td>\n",
       "      <td>1</td>\n",
       "      <td>Male</td>\n",
       "      <td>1995-08-01</td>\n",
       "      <td>NaN</td>\n",
       "      <td>NaN</td>\n",
       "      <td>NaN</td>\n",
       "      <td>NaN</td>\n",
       "      <td>NaN</td>\n",
       "      <td>NaN</td>\n",
       "      <td>NaN</td>\n",
       "      <td>False</td>\n",
       "    </tr>\n",
       "  </tbody>\n",
       "</table>\n",
       "</div>"
      ],
      "text/plain": [
       "   Unnamed: 0    unid  cft_score  grit_score survey_date_month  survey_num  \\\n",
       "0           1   41964        4.0         4.0        2018-06-01           1   \n",
       "1           2   15241        4.0         3.0        2016-03-01           1   \n",
       "2           3   33702        5.0         2.0        2016-04-01           1   \n",
       "3           4  101252       10.0         0.0        2018-04-01           1   \n",
       "4           5   83023        7.0         4.0        2016-07-01           1   \n",
       "\n",
       "   gender         dob peoplelive numchildren anygrant anyhhincome  \\\n",
       "0  Female  1992-02-01        NaN         NaN    False       False   \n",
       "1  Female  1988-11-01          2           3     True        True   \n",
       "2    Male  1991-04-01          4           1    False        True   \n",
       "3  Female  1998-09-01          7           0     True        True   \n",
       "4    Male  1995-08-01        NaN         NaN      NaN         NaN   \n",
       "\n",
       "                  financial_situation_now  \\\n",
       "0                                     NaN   \n",
       "1                                       2   \n",
       "2  1 (Worst possible financial situation)   \n",
       "3  1 (Worst possible financial situation)   \n",
       "4                                     NaN   \n",
       "\n",
       "               financial_situation_5years givemoney_yes  working  \n",
       "0                                     NaN           NaN     True  \n",
       "1                                       8         False     True  \n",
       "2  1 (Worst possible financial situation)         False     True  \n",
       "3                                       7         False     True  \n",
       "4                                     NaN           NaN    False  "
      ]
     },
     "execution_count": 72,
     "metadata": {},
     "output_type": "execute_result"
    }
   ],
   "source": [
    "#drop columns with more than 50% missing data\n",
    "df = df.drop(list(missing_50), axis=1)\n",
    "df.head()"
   ]
  },
  {
   "cell_type": "code",
   "execution_count": 73,
   "metadata": {
    "colab": {
     "base_uri": "https://localhost:8080/",
     "height": 206
    },
    "executionInfo": {
     "elapsed": 459,
     "status": "ok",
     "timestamp": 1610417070424,
     "user": {
      "displayName": "Enock Chemochek",
      "photoUrl": "https://lh3.googleusercontent.com/a-/AOh14Gi1MRbTpDKtYJKaFeqBo1eqBnHIZu9Y4u2mywoC=s64",
      "userId": "02099267530599713599"
     },
     "user_tz": 300
    },
    "id": "PxmiczXiz6z1",
    "outputId": "2266ca60-801e-4af2-877b-5d493dd91808"
   },
   "outputs": [
    {
     "data": {
      "text/html": [
       "<div>\n",
       "<style scoped>\n",
       "    .dataframe tbody tr th:only-of-type {\n",
       "        vertical-align: middle;\n",
       "    }\n",
       "\n",
       "    .dataframe tbody tr th {\n",
       "        vertical-align: top;\n",
       "    }\n",
       "\n",
       "    .dataframe thead th {\n",
       "        text-align: right;\n",
       "    }\n",
       "</style>\n",
       "<table border=\"1\" class=\"dataframe\">\n",
       "  <thead>\n",
       "    <tr style=\"text-align: right;\">\n",
       "      <th></th>\n",
       "      <th>cft_score</th>\n",
       "      <th>grit_score</th>\n",
       "      <th>survey_date_month</th>\n",
       "      <th>gender</th>\n",
       "      <th>dob</th>\n",
       "      <th>peoplelive</th>\n",
       "      <th>numchildren</th>\n",
       "      <th>anygrant</th>\n",
       "      <th>anyhhincome</th>\n",
       "      <th>financial_situation_now</th>\n",
       "      <th>financial_situation_5years</th>\n",
       "      <th>givemoney_yes</th>\n",
       "      <th>working</th>\n",
       "    </tr>\n",
       "  </thead>\n",
       "  <tbody>\n",
       "    <tr>\n",
       "      <th>0</th>\n",
       "      <td>4.0</td>\n",
       "      <td>4.0</td>\n",
       "      <td>2018-06-01</td>\n",
       "      <td>Female</td>\n",
       "      <td>1992-02-01</td>\n",
       "      <td>NaN</td>\n",
       "      <td>NaN</td>\n",
       "      <td>False</td>\n",
       "      <td>False</td>\n",
       "      <td>NaN</td>\n",
       "      <td>NaN</td>\n",
       "      <td>NaN</td>\n",
       "      <td>True</td>\n",
       "    </tr>\n",
       "    <tr>\n",
       "      <th>1</th>\n",
       "      <td>4.0</td>\n",
       "      <td>3.0</td>\n",
       "      <td>2016-03-01</td>\n",
       "      <td>Female</td>\n",
       "      <td>1988-11-01</td>\n",
       "      <td>2</td>\n",
       "      <td>3</td>\n",
       "      <td>True</td>\n",
       "      <td>True</td>\n",
       "      <td>2</td>\n",
       "      <td>8</td>\n",
       "      <td>False</td>\n",
       "      <td>True</td>\n",
       "    </tr>\n",
       "    <tr>\n",
       "      <th>2</th>\n",
       "      <td>5.0</td>\n",
       "      <td>2.0</td>\n",
       "      <td>2016-04-01</td>\n",
       "      <td>Male</td>\n",
       "      <td>1991-04-01</td>\n",
       "      <td>4</td>\n",
       "      <td>1</td>\n",
       "      <td>False</td>\n",
       "      <td>True</td>\n",
       "      <td>1 (Worst possible financial situation)</td>\n",
       "      <td>1 (Worst possible financial situation)</td>\n",
       "      <td>False</td>\n",
       "      <td>True</td>\n",
       "    </tr>\n",
       "    <tr>\n",
       "      <th>3</th>\n",
       "      <td>10.0</td>\n",
       "      <td>0.0</td>\n",
       "      <td>2018-04-01</td>\n",
       "      <td>Female</td>\n",
       "      <td>1998-09-01</td>\n",
       "      <td>7</td>\n",
       "      <td>0</td>\n",
       "      <td>True</td>\n",
       "      <td>True</td>\n",
       "      <td>1 (Worst possible financial situation)</td>\n",
       "      <td>7</td>\n",
       "      <td>False</td>\n",
       "      <td>True</td>\n",
       "    </tr>\n",
       "    <tr>\n",
       "      <th>4</th>\n",
       "      <td>7.0</td>\n",
       "      <td>4.0</td>\n",
       "      <td>2016-07-01</td>\n",
       "      <td>Male</td>\n",
       "      <td>1995-08-01</td>\n",
       "      <td>NaN</td>\n",
       "      <td>NaN</td>\n",
       "      <td>NaN</td>\n",
       "      <td>NaN</td>\n",
       "      <td>NaN</td>\n",
       "      <td>NaN</td>\n",
       "      <td>NaN</td>\n",
       "      <td>False</td>\n",
       "    </tr>\n",
       "  </tbody>\n",
       "</table>\n",
       "</div>"
      ],
      "text/plain": [
       "   cft_score  grit_score survey_date_month  gender         dob peoplelive  \\\n",
       "0        4.0         4.0        2018-06-01  Female  1992-02-01        NaN   \n",
       "1        4.0         3.0        2016-03-01  Female  1988-11-01          2   \n",
       "2        5.0         2.0        2016-04-01    Male  1991-04-01          4   \n",
       "3       10.0         0.0        2018-04-01  Female  1998-09-01          7   \n",
       "4        7.0         4.0        2016-07-01    Male  1995-08-01        NaN   \n",
       "\n",
       "  numchildren anygrant anyhhincome                 financial_situation_now  \\\n",
       "0         NaN    False       False                                     NaN   \n",
       "1           3     True        True                                       2   \n",
       "2           1    False        True  1 (Worst possible financial situation)   \n",
       "3           0     True        True  1 (Worst possible financial situation)   \n",
       "4         NaN      NaN         NaN                                     NaN   \n",
       "\n",
       "               financial_situation_5years givemoney_yes  working  \n",
       "0                                     NaN           NaN     True  \n",
       "1                                       8         False     True  \n",
       "2  1 (Worst possible financial situation)         False     True  \n",
       "3                                       7         False     True  \n",
       "4                                     NaN           NaN    False  "
      ]
     },
     "execution_count": 73,
     "metadata": {},
     "output_type": "execute_result"
    }
   ],
   "source": [
    "#drop unnecessary columns\n",
    "df = df.drop(['Unnamed: 0', 'unid', 'survey_num'], axis=1)\n",
    "df.head()"
   ]
  },
  {
   "cell_type": "code",
   "execution_count": 74,
   "metadata": {
    "colab": {
     "base_uri": "https://localhost:8080/"
    },
    "executionInfo": {
     "elapsed": 682,
     "status": "ok",
     "timestamp": 1610417073845,
     "user": {
      "displayName": "Enock Chemochek",
      "photoUrl": "https://lh3.googleusercontent.com/a-/AOh14Gi1MRbTpDKtYJKaFeqBo1eqBnHIZu9Y4u2mywoC=s64",
      "userId": "02099267530599713599"
     },
     "user_tz": 300
    },
    "id": "s4slYAqBguzQ",
    "outputId": "76fe433f-eabd-46c2-a79d-57ff136888b7"
   },
   "outputs": [
    {
     "data": {
      "text/plain": [
       "str"
      ]
     },
     "execution_count": 74,
     "metadata": {},
     "output_type": "execute_result"
    }
   ],
   "source": [
    "type(df.survey_date_month[0])"
   ]
  },
  {
   "cell_type": "code",
   "execution_count": 75,
   "metadata": {
    "colab": {
     "base_uri": "https://localhost:8080/",
     "height": 206
    },
    "executionInfo": {
     "elapsed": 482,
     "status": "ok",
     "timestamp": 1610417102405,
     "user": {
      "displayName": "Enock Chemochek",
      "photoUrl": "https://lh3.googleusercontent.com/a-/AOh14Gi1MRbTpDKtYJKaFeqBo1eqBnHIZu9Y4u2mywoC=s64",
      "userId": "02099267530599713599"
     },
     "user_tz": 300
    },
    "id": "O_V55kf9z6z2",
    "outputId": "6e5181ae-1f44-4778-8e06-b4b29536e557"
   },
   "outputs": [
    {
     "data": {
      "text/html": [
       "<div>\n",
       "<style scoped>\n",
       "    .dataframe tbody tr th:only-of-type {\n",
       "        vertical-align: middle;\n",
       "    }\n",
       "\n",
       "    .dataframe tbody tr th {\n",
       "        vertical-align: top;\n",
       "    }\n",
       "\n",
       "    .dataframe thead th {\n",
       "        text-align: right;\n",
       "    }\n",
       "</style>\n",
       "<table border=\"1\" class=\"dataframe\">\n",
       "  <thead>\n",
       "    <tr style=\"text-align: right;\">\n",
       "      <th></th>\n",
       "      <th>cft_score</th>\n",
       "      <th>grit_score</th>\n",
       "      <th>survey_date_month</th>\n",
       "      <th>gender</th>\n",
       "      <th>dob</th>\n",
       "      <th>peoplelive</th>\n",
       "      <th>numchildren</th>\n",
       "      <th>anygrant</th>\n",
       "      <th>anyhhincome</th>\n",
       "      <th>financial_situation_now</th>\n",
       "      <th>financial_situation_5years</th>\n",
       "      <th>givemoney_yes</th>\n",
       "      <th>working</th>\n",
       "    </tr>\n",
       "  </thead>\n",
       "  <tbody>\n",
       "    <tr>\n",
       "      <th>0</th>\n",
       "      <td>4.0</td>\n",
       "      <td>4.0</td>\n",
       "      <td>2018-06-01</td>\n",
       "      <td>Female</td>\n",
       "      <td>1992-02-01</td>\n",
       "      <td>NaN</td>\n",
       "      <td>NaN</td>\n",
       "      <td>False</td>\n",
       "      <td>False</td>\n",
       "      <td>NaN</td>\n",
       "      <td>NaN</td>\n",
       "      <td>NaN</td>\n",
       "      <td>True</td>\n",
       "    </tr>\n",
       "    <tr>\n",
       "      <th>1</th>\n",
       "      <td>4.0</td>\n",
       "      <td>3.0</td>\n",
       "      <td>2016-03-01</td>\n",
       "      <td>Female</td>\n",
       "      <td>1988-11-01</td>\n",
       "      <td>2</td>\n",
       "      <td>3</td>\n",
       "      <td>True</td>\n",
       "      <td>True</td>\n",
       "      <td>2</td>\n",
       "      <td>8</td>\n",
       "      <td>False</td>\n",
       "      <td>True</td>\n",
       "    </tr>\n",
       "    <tr>\n",
       "      <th>2</th>\n",
       "      <td>5.0</td>\n",
       "      <td>2.0</td>\n",
       "      <td>2016-04-01</td>\n",
       "      <td>Male</td>\n",
       "      <td>1991-04-01</td>\n",
       "      <td>4</td>\n",
       "      <td>1</td>\n",
       "      <td>False</td>\n",
       "      <td>True</td>\n",
       "      <td>1 (Worst possible financial situation)</td>\n",
       "      <td>1 (Worst possible financial situation)</td>\n",
       "      <td>False</td>\n",
       "      <td>True</td>\n",
       "    </tr>\n",
       "    <tr>\n",
       "      <th>3</th>\n",
       "      <td>10.0</td>\n",
       "      <td>0.0</td>\n",
       "      <td>2018-04-01</td>\n",
       "      <td>Female</td>\n",
       "      <td>1998-09-01</td>\n",
       "      <td>7</td>\n",
       "      <td>0</td>\n",
       "      <td>True</td>\n",
       "      <td>True</td>\n",
       "      <td>1 (Worst possible financial situation)</td>\n",
       "      <td>7</td>\n",
       "      <td>False</td>\n",
       "      <td>True</td>\n",
       "    </tr>\n",
       "    <tr>\n",
       "      <th>4</th>\n",
       "      <td>7.0</td>\n",
       "      <td>4.0</td>\n",
       "      <td>2016-07-01</td>\n",
       "      <td>Male</td>\n",
       "      <td>1995-08-01</td>\n",
       "      <td>NaN</td>\n",
       "      <td>NaN</td>\n",
       "      <td>NaN</td>\n",
       "      <td>NaN</td>\n",
       "      <td>NaN</td>\n",
       "      <td>NaN</td>\n",
       "      <td>NaN</td>\n",
       "      <td>False</td>\n",
       "    </tr>\n",
       "  </tbody>\n",
       "</table>\n",
       "</div>"
      ],
      "text/plain": [
       "   cft_score  grit_score survey_date_month  gender         dob peoplelive  \\\n",
       "0        4.0         4.0        2018-06-01  Female  1992-02-01        NaN   \n",
       "1        4.0         3.0        2016-03-01  Female  1988-11-01          2   \n",
       "2        5.0         2.0        2016-04-01    Male  1991-04-01          4   \n",
       "3       10.0         0.0        2018-04-01  Female  1998-09-01          7   \n",
       "4        7.0         4.0        2016-07-01    Male  1995-08-01        NaN   \n",
       "\n",
       "  numchildren anygrant anyhhincome                 financial_situation_now  \\\n",
       "0         NaN    False       False                                     NaN   \n",
       "1           3     True        True                                       2   \n",
       "2           1    False        True  1 (Worst possible financial situation)   \n",
       "3           0     True        True  1 (Worst possible financial situation)   \n",
       "4         NaN      NaN         NaN                                     NaN   \n",
       "\n",
       "               financial_situation_5years givemoney_yes  working  \n",
       "0                                     NaN           NaN     True  \n",
       "1                                       8         False     True  \n",
       "2  1 (Worst possible financial situation)         False     True  \n",
       "3                                       7         False     True  \n",
       "4                                     NaN           NaN    False  "
      ]
     },
     "execution_count": 75,
     "metadata": {},
     "output_type": "execute_result"
    }
   ],
   "source": [
    "#convert survey_date_month to date object\n",
    "df['survey_date_month']= pd.to_datetime(df['survey_date_month'])\n",
    "df.head()"
   ]
  },
  {
   "cell_type": "code",
   "execution_count": 76,
   "metadata": {
    "colab": {
     "base_uri": "https://localhost:8080/"
    },
    "executionInfo": {
     "elapsed": 453,
     "status": "ok",
     "timestamp": 1610417108847,
     "user": {
      "displayName": "Enock Chemochek",
      "photoUrl": "https://lh3.googleusercontent.com/a-/AOh14Gi1MRbTpDKtYJKaFeqBo1eqBnHIZu9Y4u2mywoC=s64",
      "userId": "02099267530599713599"
     },
     "user_tz": 300
    },
    "id": "GxGilLfzg-0v",
    "outputId": "78942c8b-12b3-40a9-c7e1-8813d13d6e72"
   },
   "outputs": [
    {
     "data": {
      "text/plain": [
       "pandas._libs.tslibs.timestamps.Timestamp"
      ]
     },
     "execution_count": 76,
     "metadata": {},
     "output_type": "execute_result"
    }
   ],
   "source": [
    "type(df.survey_date_month[0])"
   ]
  },
  {
   "cell_type": "code",
   "execution_count": 77,
   "metadata": {
    "colab": {
     "base_uri": "https://localhost:8080/",
     "height": 206
    },
    "executionInfo": {
     "elapsed": 780,
     "status": "ok",
     "timestamp": 1610417119546,
     "user": {
      "displayName": "Enock Chemochek",
      "photoUrl": "https://lh3.googleusercontent.com/a-/AOh14Gi1MRbTpDKtYJKaFeqBo1eqBnHIZu9Y4u2mywoC=s64",
      "userId": "02099267530599713599"
     },
     "user_tz": 300
    },
    "id": "IByAjeUpz6z3",
    "outputId": "4d8ce0f5-7e14-4697-d5d7-ee9622ab9059"
   },
   "outputs": [
    {
     "data": {
      "text/html": [
       "<div>\n",
       "<style scoped>\n",
       "    .dataframe tbody tr th:only-of-type {\n",
       "        vertical-align: middle;\n",
       "    }\n",
       "\n",
       "    .dataframe tbody tr th {\n",
       "        vertical-align: top;\n",
       "    }\n",
       "\n",
       "    .dataframe thead th {\n",
       "        text-align: right;\n",
       "    }\n",
       "</style>\n",
       "<table border=\"1\" class=\"dataframe\">\n",
       "  <thead>\n",
       "    <tr style=\"text-align: right;\">\n",
       "      <th></th>\n",
       "      <th>cft_score</th>\n",
       "      <th>grit_score</th>\n",
       "      <th>survey_date_month</th>\n",
       "      <th>gender</th>\n",
       "      <th>dob</th>\n",
       "      <th>peoplelive</th>\n",
       "      <th>numchildren</th>\n",
       "      <th>anygrant</th>\n",
       "      <th>anyhhincome</th>\n",
       "      <th>financial_situation_now</th>\n",
       "      <th>financial_situation_5years</th>\n",
       "      <th>givemoney_yes</th>\n",
       "      <th>working</th>\n",
       "    </tr>\n",
       "  </thead>\n",
       "  <tbody>\n",
       "    <tr>\n",
       "      <th>0</th>\n",
       "      <td>4.0</td>\n",
       "      <td>4.0</td>\n",
       "      <td>2018-06-01</td>\n",
       "      <td>Female</td>\n",
       "      <td>1992-02-01</td>\n",
       "      <td>NaN</td>\n",
       "      <td>NaN</td>\n",
       "      <td>False</td>\n",
       "      <td>False</td>\n",
       "      <td>NaN</td>\n",
       "      <td>NaN</td>\n",
       "      <td>NaN</td>\n",
       "      <td>True</td>\n",
       "    </tr>\n",
       "    <tr>\n",
       "      <th>1</th>\n",
       "      <td>4.0</td>\n",
       "      <td>3.0</td>\n",
       "      <td>2016-03-01</td>\n",
       "      <td>Female</td>\n",
       "      <td>1988-11-01</td>\n",
       "      <td>2</td>\n",
       "      <td>3</td>\n",
       "      <td>True</td>\n",
       "      <td>True</td>\n",
       "      <td>2</td>\n",
       "      <td>8</td>\n",
       "      <td>False</td>\n",
       "      <td>True</td>\n",
       "    </tr>\n",
       "    <tr>\n",
       "      <th>2</th>\n",
       "      <td>5.0</td>\n",
       "      <td>2.0</td>\n",
       "      <td>2016-04-01</td>\n",
       "      <td>Male</td>\n",
       "      <td>1991-04-01</td>\n",
       "      <td>4</td>\n",
       "      <td>1</td>\n",
       "      <td>False</td>\n",
       "      <td>True</td>\n",
       "      <td>1 (Worst possible financial situation)</td>\n",
       "      <td>1 (Worst possible financial situation)</td>\n",
       "      <td>False</td>\n",
       "      <td>True</td>\n",
       "    </tr>\n",
       "    <tr>\n",
       "      <th>3</th>\n",
       "      <td>10.0</td>\n",
       "      <td>0.0</td>\n",
       "      <td>2018-04-01</td>\n",
       "      <td>Female</td>\n",
       "      <td>1998-09-01</td>\n",
       "      <td>7</td>\n",
       "      <td>0</td>\n",
       "      <td>True</td>\n",
       "      <td>True</td>\n",
       "      <td>1 (Worst possible financial situation)</td>\n",
       "      <td>7</td>\n",
       "      <td>False</td>\n",
       "      <td>True</td>\n",
       "    </tr>\n",
       "    <tr>\n",
       "      <th>4</th>\n",
       "      <td>7.0</td>\n",
       "      <td>4.0</td>\n",
       "      <td>2016-07-01</td>\n",
       "      <td>Male</td>\n",
       "      <td>1995-08-01</td>\n",
       "      <td>NaN</td>\n",
       "      <td>NaN</td>\n",
       "      <td>NaN</td>\n",
       "      <td>NaN</td>\n",
       "      <td>NaN</td>\n",
       "      <td>NaN</td>\n",
       "      <td>NaN</td>\n",
       "      <td>False</td>\n",
       "    </tr>\n",
       "  </tbody>\n",
       "</table>\n",
       "</div>"
      ],
      "text/plain": [
       "   cft_score  grit_score survey_date_month  gender        dob peoplelive  \\\n",
       "0        4.0         4.0        2018-06-01  Female 1992-02-01        NaN   \n",
       "1        4.0         3.0        2016-03-01  Female 1988-11-01          2   \n",
       "2        5.0         2.0        2016-04-01    Male 1991-04-01          4   \n",
       "3       10.0         0.0        2018-04-01  Female 1998-09-01          7   \n",
       "4        7.0         4.0        2016-07-01    Male 1995-08-01        NaN   \n",
       "\n",
       "  numchildren anygrant anyhhincome                 financial_situation_now  \\\n",
       "0         NaN    False       False                                     NaN   \n",
       "1           3     True        True                                       2   \n",
       "2           1    False        True  1 (Worst possible financial situation)   \n",
       "3           0     True        True  1 (Worst possible financial situation)   \n",
       "4         NaN      NaN         NaN                                     NaN   \n",
       "\n",
       "               financial_situation_5years givemoney_yes  working  \n",
       "0                                     NaN           NaN     True  \n",
       "1                                       8         False     True  \n",
       "2  1 (Worst possible financial situation)         False     True  \n",
       "3                                       7         False     True  \n",
       "4                                     NaN           NaN    False  "
      ]
     },
     "execution_count": 77,
     "metadata": {},
     "output_type": "execute_result"
    }
   ],
   "source": [
    "#convert dob to date object\n",
    "df['dob'] = pd.to_datetime(df['dob'])\n",
    "df.head()"
   ]
  },
  {
   "cell_type": "code",
   "execution_count": 78,
   "metadata": {
    "colab": {
     "base_uri": "https://localhost:8080/",
     "height": 206
    },
    "executionInfo": {
     "elapsed": 396,
     "status": "ok",
     "timestamp": 1610051082296,
     "user": {
      "displayName": "Enock Chemochek",
      "photoUrl": "https://lh3.googleusercontent.com/a-/AOh14Gi1MRbTpDKtYJKaFeqBo1eqBnHIZu9Y4u2mywoC=s64",
      "userId": "02099267530599713599"
     },
     "user_tz": 300
    },
    "id": "miuCRjciz6z5",
    "outputId": "5a0137c1-284d-48c1-9c6b-c0727c9b2a05"
   },
   "outputs": [
    {
     "data": {
      "text/html": [
       "<div>\n",
       "<style scoped>\n",
       "    .dataframe tbody tr th:only-of-type {\n",
       "        vertical-align: middle;\n",
       "    }\n",
       "\n",
       "    .dataframe tbody tr th {\n",
       "        vertical-align: top;\n",
       "    }\n",
       "\n",
       "    .dataframe thead th {\n",
       "        text-align: right;\n",
       "    }\n",
       "</style>\n",
       "<table border=\"1\" class=\"dataframe\">\n",
       "  <thead>\n",
       "    <tr style=\"text-align: right;\">\n",
       "      <th></th>\n",
       "      <th>cft_score</th>\n",
       "      <th>grit_score</th>\n",
       "      <th>survey_date_month</th>\n",
       "      <th>gender</th>\n",
       "      <th>dob</th>\n",
       "      <th>peoplelive</th>\n",
       "      <th>numchildren</th>\n",
       "      <th>anygrant</th>\n",
       "      <th>anyhhincome</th>\n",
       "      <th>financial_situation_now</th>\n",
       "      <th>financial_situation_5years</th>\n",
       "      <th>givemoney_yes</th>\n",
       "      <th>working</th>\n",
       "      <th>age_first_survey</th>\n",
       "    </tr>\n",
       "  </thead>\n",
       "  <tbody>\n",
       "    <tr>\n",
       "      <th>0</th>\n",
       "      <td>4.0</td>\n",
       "      <td>4.0</td>\n",
       "      <td>2018-06-01</td>\n",
       "      <td>Female</td>\n",
       "      <td>1992-02-01</td>\n",
       "      <td>NaN</td>\n",
       "      <td>NaN</td>\n",
       "      <td>False</td>\n",
       "      <td>False</td>\n",
       "      <td>NaN</td>\n",
       "      <td>NaN</td>\n",
       "      <td>NaN</td>\n",
       "      <td>True</td>\n",
       "      <td>26.0</td>\n",
       "    </tr>\n",
       "    <tr>\n",
       "      <th>1</th>\n",
       "      <td>4.0</td>\n",
       "      <td>3.0</td>\n",
       "      <td>2016-03-01</td>\n",
       "      <td>Female</td>\n",
       "      <td>1988-11-01</td>\n",
       "      <td>2</td>\n",
       "      <td>3</td>\n",
       "      <td>True</td>\n",
       "      <td>True</td>\n",
       "      <td>2</td>\n",
       "      <td>8</td>\n",
       "      <td>False</td>\n",
       "      <td>True</td>\n",
       "      <td>28.0</td>\n",
       "    </tr>\n",
       "    <tr>\n",
       "      <th>2</th>\n",
       "      <td>5.0</td>\n",
       "      <td>2.0</td>\n",
       "      <td>2016-04-01</td>\n",
       "      <td>Male</td>\n",
       "      <td>1991-04-01</td>\n",
       "      <td>4</td>\n",
       "      <td>1</td>\n",
       "      <td>False</td>\n",
       "      <td>True</td>\n",
       "      <td>1 (Worst possible financial situation)</td>\n",
       "      <td>1 (Worst possible financial situation)</td>\n",
       "      <td>False</td>\n",
       "      <td>True</td>\n",
       "      <td>25.0</td>\n",
       "    </tr>\n",
       "    <tr>\n",
       "      <th>3</th>\n",
       "      <td>10.0</td>\n",
       "      <td>0.0</td>\n",
       "      <td>2018-04-01</td>\n",
       "      <td>Female</td>\n",
       "      <td>1998-09-01</td>\n",
       "      <td>7</td>\n",
       "      <td>0</td>\n",
       "      <td>True</td>\n",
       "      <td>True</td>\n",
       "      <td>1 (Worst possible financial situation)</td>\n",
       "      <td>7</td>\n",
       "      <td>False</td>\n",
       "      <td>True</td>\n",
       "      <td>20.0</td>\n",
       "    </tr>\n",
       "    <tr>\n",
       "      <th>4</th>\n",
       "      <td>7.0</td>\n",
       "      <td>4.0</td>\n",
       "      <td>2016-07-01</td>\n",
       "      <td>Male</td>\n",
       "      <td>1995-08-01</td>\n",
       "      <td>NaN</td>\n",
       "      <td>NaN</td>\n",
       "      <td>NaN</td>\n",
       "      <td>NaN</td>\n",
       "      <td>NaN</td>\n",
       "      <td>NaN</td>\n",
       "      <td>NaN</td>\n",
       "      <td>False</td>\n",
       "      <td>21.0</td>\n",
       "    </tr>\n",
       "  </tbody>\n",
       "</table>\n",
       "</div>"
      ],
      "text/plain": [
       "   cft_score  grit_score survey_date_month  gender        dob peoplelive  \\\n",
       "0        4.0         4.0        2018-06-01  Female 1992-02-01        NaN   \n",
       "1        4.0         3.0        2016-03-01  Female 1988-11-01          2   \n",
       "2        5.0         2.0        2016-04-01    Male 1991-04-01          4   \n",
       "3       10.0         0.0        2018-04-01  Female 1998-09-01          7   \n",
       "4        7.0         4.0        2016-07-01    Male 1995-08-01        NaN   \n",
       "\n",
       "  numchildren anygrant anyhhincome                 financial_situation_now  \\\n",
       "0         NaN    False       False                                     NaN   \n",
       "1           3     True        True                                       2   \n",
       "2           1    False        True  1 (Worst possible financial situation)   \n",
       "3           0     True        True  1 (Worst possible financial situation)   \n",
       "4         NaN      NaN         NaN                                     NaN   \n",
       "\n",
       "               financial_situation_5years givemoney_yes  working  \\\n",
       "0                                     NaN           NaN     True   \n",
       "1                                       8         False     True   \n",
       "2  1 (Worst possible financial situation)         False     True   \n",
       "3                                       7         False     True   \n",
       "4                                     NaN           NaN    False   \n",
       "\n",
       "   age_first_survey  \n",
       "0              26.0  \n",
       "1              28.0  \n",
       "2              25.0  \n",
       "3              20.0  \n",
       "4              21.0  "
      ]
     },
     "execution_count": 78,
     "metadata": {},
     "output_type": "execute_result"
    }
   ],
   "source": [
    "#create variable for age at first survey\n",
    "df['age_first_survey'] = pd.DatetimeIndex(df['survey_date_month']).year - pd.DatetimeIndex(df['dob']).year\n",
    "df.head()"
   ]
  },
  {
   "cell_type": "code",
   "execution_count": 79,
   "metadata": {
    "colab": {
     "base_uri": "https://localhost:8080/",
     "height": 206
    },
    "executionInfo": {
     "elapsed": 904,
     "status": "ok",
     "timestamp": 1610417164045,
     "user": {
      "displayName": "Enock Chemochek",
      "photoUrl": "https://lh3.googleusercontent.com/a-/AOh14Gi1MRbTpDKtYJKaFeqBo1eqBnHIZu9Y4u2mywoC=s64",
      "userId": "02099267530599713599"
     },
     "user_tz": 300
    },
    "id": "8vDzug2sz6z7",
    "outputId": "505d16c9-8fa9-4194-8f2f-0a7ae0c0e91c"
   },
   "outputs": [
    {
     "data": {
      "text/html": [
       "<div>\n",
       "<style scoped>\n",
       "    .dataframe tbody tr th:only-of-type {\n",
       "        vertical-align: middle;\n",
       "    }\n",
       "\n",
       "    .dataframe tbody tr th {\n",
       "        vertical-align: top;\n",
       "    }\n",
       "\n",
       "    .dataframe thead th {\n",
       "        text-align: right;\n",
       "    }\n",
       "</style>\n",
       "<table border=\"1\" class=\"dataframe\">\n",
       "  <thead>\n",
       "    <tr style=\"text-align: right;\">\n",
       "      <th></th>\n",
       "      <th>cft_score</th>\n",
       "      <th>grit_score</th>\n",
       "      <th>gender</th>\n",
       "      <th>peoplelive</th>\n",
       "      <th>numchildren</th>\n",
       "      <th>anygrant</th>\n",
       "      <th>anyhhincome</th>\n",
       "      <th>financial_situation_now</th>\n",
       "      <th>financial_situation_5years</th>\n",
       "      <th>givemoney_yes</th>\n",
       "      <th>working</th>\n",
       "      <th>age_first_survey</th>\n",
       "    </tr>\n",
       "  </thead>\n",
       "  <tbody>\n",
       "    <tr>\n",
       "      <th>0</th>\n",
       "      <td>4.0</td>\n",
       "      <td>4.0</td>\n",
       "      <td>Female</td>\n",
       "      <td>NaN</td>\n",
       "      <td>NaN</td>\n",
       "      <td>False</td>\n",
       "      <td>False</td>\n",
       "      <td>NaN</td>\n",
       "      <td>NaN</td>\n",
       "      <td>NaN</td>\n",
       "      <td>True</td>\n",
       "      <td>26.0</td>\n",
       "    </tr>\n",
       "    <tr>\n",
       "      <th>1</th>\n",
       "      <td>4.0</td>\n",
       "      <td>3.0</td>\n",
       "      <td>Female</td>\n",
       "      <td>2</td>\n",
       "      <td>3</td>\n",
       "      <td>True</td>\n",
       "      <td>True</td>\n",
       "      <td>2</td>\n",
       "      <td>8</td>\n",
       "      <td>False</td>\n",
       "      <td>True</td>\n",
       "      <td>28.0</td>\n",
       "    </tr>\n",
       "    <tr>\n",
       "      <th>2</th>\n",
       "      <td>5.0</td>\n",
       "      <td>2.0</td>\n",
       "      <td>Male</td>\n",
       "      <td>4</td>\n",
       "      <td>1</td>\n",
       "      <td>False</td>\n",
       "      <td>True</td>\n",
       "      <td>1 (Worst possible financial situation)</td>\n",
       "      <td>1 (Worst possible financial situation)</td>\n",
       "      <td>False</td>\n",
       "      <td>True</td>\n",
       "      <td>25.0</td>\n",
       "    </tr>\n",
       "    <tr>\n",
       "      <th>3</th>\n",
       "      <td>10.0</td>\n",
       "      <td>0.0</td>\n",
       "      <td>Female</td>\n",
       "      <td>7</td>\n",
       "      <td>0</td>\n",
       "      <td>True</td>\n",
       "      <td>True</td>\n",
       "      <td>1 (Worst possible financial situation)</td>\n",
       "      <td>7</td>\n",
       "      <td>False</td>\n",
       "      <td>True</td>\n",
       "      <td>20.0</td>\n",
       "    </tr>\n",
       "    <tr>\n",
       "      <th>4</th>\n",
       "      <td>7.0</td>\n",
       "      <td>4.0</td>\n",
       "      <td>Male</td>\n",
       "      <td>NaN</td>\n",
       "      <td>NaN</td>\n",
       "      <td>NaN</td>\n",
       "      <td>NaN</td>\n",
       "      <td>NaN</td>\n",
       "      <td>NaN</td>\n",
       "      <td>NaN</td>\n",
       "      <td>False</td>\n",
       "      <td>21.0</td>\n",
       "    </tr>\n",
       "  </tbody>\n",
       "</table>\n",
       "</div>"
      ],
      "text/plain": [
       "   cft_score  grit_score  gender peoplelive numchildren anygrant anyhhincome  \\\n",
       "0        4.0         4.0  Female        NaN         NaN    False       False   \n",
       "1        4.0         3.0  Female          2           3     True        True   \n",
       "2        5.0         2.0    Male          4           1    False        True   \n",
       "3       10.0         0.0  Female          7           0     True        True   \n",
       "4        7.0         4.0    Male        NaN         NaN      NaN         NaN   \n",
       "\n",
       "                  financial_situation_now  \\\n",
       "0                                     NaN   \n",
       "1                                       2   \n",
       "2  1 (Worst possible financial situation)   \n",
       "3  1 (Worst possible financial situation)   \n",
       "4                                     NaN   \n",
       "\n",
       "               financial_situation_5years givemoney_yes  working  \\\n",
       "0                                     NaN           NaN     True   \n",
       "1                                       8         False     True   \n",
       "2  1 (Worst possible financial situation)         False     True   \n",
       "3                                       7         False     True   \n",
       "4                                     NaN           NaN    False   \n",
       "\n",
       "   age_first_survey  \n",
       "0              26.0  \n",
       "1              28.0  \n",
       "2              25.0  \n",
       "3              20.0  \n",
       "4              21.0  "
      ]
     },
     "execution_count": 79,
     "metadata": {},
     "output_type": "execute_result"
    }
   ],
   "source": [
    "#drop date columns\n",
    "df = df.drop(['dob', 'survey_date_month'], axis=1)\n",
    "df.head()"
   ]
  },
  {
   "cell_type": "code",
   "execution_count": 80,
   "metadata": {},
   "outputs": [
    {
     "data": {
      "text/plain": [
       "(51262, 12)"
      ]
     },
     "execution_count": 80,
     "metadata": {},
     "output_type": "execute_result"
    }
   ],
   "source": [
    "df.shape"
   ]
  },
  {
   "cell_type": "code",
   "execution_count": 81,
   "metadata": {
    "colab": {
     "base_uri": "https://localhost:8080/",
     "height": 206
    },
    "executionInfo": {
     "elapsed": 711,
     "status": "ok",
     "timestamp": 1610417167531,
     "user": {
      "displayName": "Enock Chemochek",
      "photoUrl": "https://lh3.googleusercontent.com/a-/AOh14Gi1MRbTpDKtYJKaFeqBo1eqBnHIZu9Y4u2mywoC=s64",
      "userId": "02099267530599713599"
     },
     "user_tz": 300
    },
    "id": "j6F3zwSrz6z7",
    "outputId": "d84c15d7-422e-4a76-caeb-054e3aa8c89d"
   },
   "outputs": [
    {
     "data": {
      "text/html": [
       "<div>\n",
       "<style scoped>\n",
       "    .dataframe tbody tr th:only-of-type {\n",
       "        vertical-align: middle;\n",
       "    }\n",
       "\n",
       "    .dataframe tbody tr th {\n",
       "        vertical-align: top;\n",
       "    }\n",
       "\n",
       "    .dataframe thead th {\n",
       "        text-align: right;\n",
       "    }\n",
       "</style>\n",
       "<table border=\"1\" class=\"dataframe\">\n",
       "  <thead>\n",
       "    <tr style=\"text-align: right;\">\n",
       "      <th></th>\n",
       "      <th>cft_score</th>\n",
       "      <th>grit_score</th>\n",
       "      <th>gender</th>\n",
       "      <th>peoplelive</th>\n",
       "      <th>numchildren</th>\n",
       "      <th>anygrant</th>\n",
       "      <th>anyhhincome</th>\n",
       "      <th>financial_situation_now</th>\n",
       "      <th>financial_situation_5years</th>\n",
       "      <th>givemoney_yes</th>\n",
       "      <th>working</th>\n",
       "      <th>age_first_survey</th>\n",
       "    </tr>\n",
       "  </thead>\n",
       "  <tbody>\n",
       "    <tr>\n",
       "      <th>51257</th>\n",
       "      <td>NaN</td>\n",
       "      <td>NaN</td>\n",
       "      <td>Female</td>\n",
       "      <td>NaN</td>\n",
       "      <td>NaN</td>\n",
       "      <td>False</td>\n",
       "      <td>False</td>\n",
       "      <td>NaN</td>\n",
       "      <td>NaN</td>\n",
       "      <td>NaN</td>\n",
       "      <td>False</td>\n",
       "      <td>23.0</td>\n",
       "    </tr>\n",
       "    <tr>\n",
       "      <th>51258</th>\n",
       "      <td>NaN</td>\n",
       "      <td>NaN</td>\n",
       "      <td>Female</td>\n",
       "      <td>NaN</td>\n",
       "      <td>NaN</td>\n",
       "      <td>False</td>\n",
       "      <td>False</td>\n",
       "      <td>NaN</td>\n",
       "      <td>NaN</td>\n",
       "      <td>NaN</td>\n",
       "      <td>False</td>\n",
       "      <td>22.0</td>\n",
       "    </tr>\n",
       "    <tr>\n",
       "      <th>51259</th>\n",
       "      <td>NaN</td>\n",
       "      <td>NaN</td>\n",
       "      <td>Male</td>\n",
       "      <td>NaN</td>\n",
       "      <td>NaN</td>\n",
       "      <td>False</td>\n",
       "      <td>False</td>\n",
       "      <td>NaN</td>\n",
       "      <td>NaN</td>\n",
       "      <td>NaN</td>\n",
       "      <td>False</td>\n",
       "      <td>26.0</td>\n",
       "    </tr>\n",
       "    <tr>\n",
       "      <th>51260</th>\n",
       "      <td>NaN</td>\n",
       "      <td>NaN</td>\n",
       "      <td>Male</td>\n",
       "      <td>5</td>\n",
       "      <td>0</td>\n",
       "      <td>True</td>\n",
       "      <td>False</td>\n",
       "      <td>5</td>\n",
       "      <td>7</td>\n",
       "      <td>True</td>\n",
       "      <td>False</td>\n",
       "      <td>26.0</td>\n",
       "    </tr>\n",
       "    <tr>\n",
       "      <th>51261</th>\n",
       "      <td>NaN</td>\n",
       "      <td>NaN</td>\n",
       "      <td>Male</td>\n",
       "      <td>5</td>\n",
       "      <td>0</td>\n",
       "      <td>False</td>\n",
       "      <td>True</td>\n",
       "      <td>1 (Worst possible financial situation)</td>\n",
       "      <td>5</td>\n",
       "      <td>False</td>\n",
       "      <td>False</td>\n",
       "      <td>21.0</td>\n",
       "    </tr>\n",
       "  </tbody>\n",
       "</table>\n",
       "</div>"
      ],
      "text/plain": [
       "       cft_score  grit_score  gender peoplelive numchildren anygrant  \\\n",
       "51257        NaN         NaN  Female        NaN         NaN    False   \n",
       "51258        NaN         NaN  Female        NaN         NaN    False   \n",
       "51259        NaN         NaN    Male        NaN         NaN    False   \n",
       "51260        NaN         NaN    Male          5           0     True   \n",
       "51261        NaN         NaN    Male          5           0    False   \n",
       "\n",
       "      anyhhincome                 financial_situation_now  \\\n",
       "51257       False                                     NaN   \n",
       "51258       False                                     NaN   \n",
       "51259       False                                     NaN   \n",
       "51260       False                                       5   \n",
       "51261        True  1 (Worst possible financial situation)   \n",
       "\n",
       "      financial_situation_5years givemoney_yes  working  age_first_survey  \n",
       "51257                        NaN           NaN    False              23.0  \n",
       "51258                        NaN           NaN    False              22.0  \n",
       "51259                        NaN           NaN    False              26.0  \n",
       "51260                          7          True    False              26.0  \n",
       "51261                          5         False    False              21.0  "
      ]
     },
     "execution_count": 81,
     "metadata": {},
     "output_type": "execute_result"
    }
   ],
   "source": [
    "df[df['cft_score'].isnull()].tail()"
   ]
  },
  {
   "cell_type": "code",
   "execution_count": 82,
   "metadata": {
    "colab": {
     "base_uri": "https://localhost:8080/"
    },
    "executionInfo": {
     "elapsed": 574,
     "status": "ok",
     "timestamp": 1610417221365,
     "user": {
      "displayName": "Enock Chemochek",
      "photoUrl": "https://lh3.googleusercontent.com/a-/AOh14Gi1MRbTpDKtYJKaFeqBo1eqBnHIZu9Y4u2mywoC=s64",
      "userId": "02099267530599713599"
     },
     "user_tz": 300
    },
    "id": "Evq-1fNIz6z8",
    "outputId": "664a5a68-f7c8-465b-f576-4953fc65e880"
   },
   "outputs": [
    {
     "data": {
      "text/plain": [
       "(32880, 12)"
      ]
     },
     "execution_count": 82,
     "metadata": {},
     "output_type": "execute_result"
    }
   ],
   "source": [
    "df = df[~(df.cft_score.isnull() & df.grit_score.isnull())]\n",
    "df.shape"
   ]
  },
  {
   "cell_type": "code",
   "execution_count": 83,
   "metadata": {
    "colab": {
     "base_uri": "https://localhost:8080/",
     "height": 206
    },
    "executionInfo": {
     "elapsed": 463,
     "status": "ok",
     "timestamp": 1610417233651,
     "user": {
      "displayName": "Enock Chemochek",
      "photoUrl": "https://lh3.googleusercontent.com/a-/AOh14Gi1MRbTpDKtYJKaFeqBo1eqBnHIZu9Y4u2mywoC=s64",
      "userId": "02099267530599713599"
     },
     "user_tz": 300
    },
    "id": "Y-Ip9Prpz6z9",
    "outputId": "3473a4e6-5df7-4596-fcf9-87feed75f7a7"
   },
   "outputs": [
    {
     "data": {
      "text/html": [
       "<div>\n",
       "<style scoped>\n",
       "    .dataframe tbody tr th:only-of-type {\n",
       "        vertical-align: middle;\n",
       "    }\n",
       "\n",
       "    .dataframe tbody tr th {\n",
       "        vertical-align: top;\n",
       "    }\n",
       "\n",
       "    .dataframe thead th {\n",
       "        text-align: right;\n",
       "    }\n",
       "</style>\n",
       "<table border=\"1\" class=\"dataframe\">\n",
       "  <thead>\n",
       "    <tr style=\"text-align: right;\">\n",
       "      <th></th>\n",
       "      <th>cft_score</th>\n",
       "      <th>grit_score</th>\n",
       "      <th>gender</th>\n",
       "      <th>peoplelive</th>\n",
       "      <th>numchildren</th>\n",
       "      <th>anygrant</th>\n",
       "      <th>anyhhincome</th>\n",
       "      <th>financial_situation_now</th>\n",
       "      <th>financial_situation_5years</th>\n",
       "      <th>givemoney_yes</th>\n",
       "      <th>working</th>\n",
       "      <th>age_first_survey</th>\n",
       "    </tr>\n",
       "  </thead>\n",
       "  <tbody>\n",
       "    <tr>\n",
       "      <th>0</th>\n",
       "      <td>4.0</td>\n",
       "      <td>4.0</td>\n",
       "      <td>Female</td>\n",
       "      <td>4</td>\n",
       "      <td>0</td>\n",
       "      <td>False</td>\n",
       "      <td>False</td>\n",
       "      <td>1 (Worst possible financial situation)</td>\n",
       "      <td>10 (Best possible financial situation)</td>\n",
       "      <td>False</td>\n",
       "      <td>True</td>\n",
       "      <td>26.0</td>\n",
       "    </tr>\n",
       "    <tr>\n",
       "      <th>1</th>\n",
       "      <td>4.0</td>\n",
       "      <td>3.0</td>\n",
       "      <td>Female</td>\n",
       "      <td>2</td>\n",
       "      <td>3</td>\n",
       "      <td>True</td>\n",
       "      <td>True</td>\n",
       "      <td>2</td>\n",
       "      <td>8</td>\n",
       "      <td>False</td>\n",
       "      <td>True</td>\n",
       "      <td>28.0</td>\n",
       "    </tr>\n",
       "    <tr>\n",
       "      <th>2</th>\n",
       "      <td>5.0</td>\n",
       "      <td>2.0</td>\n",
       "      <td>Male</td>\n",
       "      <td>4</td>\n",
       "      <td>1</td>\n",
       "      <td>False</td>\n",
       "      <td>True</td>\n",
       "      <td>1 (Worst possible financial situation)</td>\n",
       "      <td>1 (Worst possible financial situation)</td>\n",
       "      <td>False</td>\n",
       "      <td>True</td>\n",
       "      <td>25.0</td>\n",
       "    </tr>\n",
       "    <tr>\n",
       "      <th>3</th>\n",
       "      <td>10.0</td>\n",
       "      <td>0.0</td>\n",
       "      <td>Female</td>\n",
       "      <td>7</td>\n",
       "      <td>0</td>\n",
       "      <td>True</td>\n",
       "      <td>True</td>\n",
       "      <td>1 (Worst possible financial situation)</td>\n",
       "      <td>7</td>\n",
       "      <td>False</td>\n",
       "      <td>True</td>\n",
       "      <td>20.0</td>\n",
       "    </tr>\n",
       "    <tr>\n",
       "      <th>4</th>\n",
       "      <td>7.0</td>\n",
       "      <td>4.0</td>\n",
       "      <td>Male</td>\n",
       "      <td>4</td>\n",
       "      <td>0</td>\n",
       "      <td>False</td>\n",
       "      <td>True</td>\n",
       "      <td>1 (Worst possible financial situation)</td>\n",
       "      <td>10 (Best possible financial situation)</td>\n",
       "      <td>False</td>\n",
       "      <td>False</td>\n",
       "      <td>21.0</td>\n",
       "    </tr>\n",
       "  </tbody>\n",
       "</table>\n",
       "</div>"
      ],
      "text/plain": [
       "   cft_score  grit_score  gender peoplelive numchildren  anygrant  \\\n",
       "0        4.0         4.0  Female          4           0     False   \n",
       "1        4.0         3.0  Female          2           3      True   \n",
       "2        5.0         2.0    Male          4           1     False   \n",
       "3       10.0         0.0  Female          7           0      True   \n",
       "4        7.0         4.0    Male          4           0     False   \n",
       "\n",
       "   anyhhincome                 financial_situation_now  \\\n",
       "0        False  1 (Worst possible financial situation)   \n",
       "1         True                                       2   \n",
       "2         True  1 (Worst possible financial situation)   \n",
       "3         True  1 (Worst possible financial situation)   \n",
       "4         True  1 (Worst possible financial situation)   \n",
       "\n",
       "               financial_situation_5years  givemoney_yes  working  \\\n",
       "0  10 (Best possible financial situation)          False     True   \n",
       "1                                       8          False     True   \n",
       "2  1 (Worst possible financial situation)          False     True   \n",
       "3                                       7          False     True   \n",
       "4  10 (Best possible financial situation)          False    False   \n",
       "\n",
       "   age_first_survey  \n",
       "0              26.0  \n",
       "1              28.0  \n",
       "2              25.0  \n",
       "3              20.0  \n",
       "4              21.0  "
      ]
     },
     "execution_count": 83,
     "metadata": {},
     "output_type": "execute_result"
    }
   ],
   "source": [
    "#imputation: replacing with mode \n",
    "for column in df.columns:\n",
    "    df[column].fillna(df[column].mode()[0], inplace=True)\n",
    "    \n",
    "df.head()"
   ]
  },
  {
   "cell_type": "code",
   "execution_count": 84,
   "metadata": {
    "colab": {
     "base_uri": "https://localhost:8080/"
    },
    "executionInfo": {
     "elapsed": 435,
     "status": "ok",
     "timestamp": 1610417239041,
     "user": {
      "displayName": "Enock Chemochek",
      "photoUrl": "https://lh3.googleusercontent.com/a-/AOh14Gi1MRbTpDKtYJKaFeqBo1eqBnHIZu9Y4u2mywoC=s64",
      "userId": "02099267530599713599"
     },
     "user_tz": 300
    },
    "id": "Zdn44Hy8iS4q",
    "outputId": "36ebc3d1-3b7a-4691-d4f8-41abd893b765"
   },
   "outputs": [
    {
     "data": {
      "text/plain": [
       "array(['10 (Best possible financial situation)', '8',\n",
       "       '1 (Worst possible financial situation)', '7', '6', '5', '9', '4',\n",
       "       '2', '3'], dtype=object)"
      ]
     },
     "execution_count": 84,
     "metadata": {},
     "output_type": "execute_result"
    }
   ],
   "source": [
    "df.financial_situation_5years.unique()"
   ]
  },
  {
   "cell_type": "code",
   "execution_count": 85,
   "metadata": {
    "colab": {
     "base_uri": "https://localhost:8080/"
    },
    "executionInfo": {
     "elapsed": 431,
     "status": "ok",
     "timestamp": 1610417289862,
     "user": {
      "displayName": "Enock Chemochek",
      "photoUrl": "https://lh3.googleusercontent.com/a-/AOh14Gi1MRbTpDKtYJKaFeqBo1eqBnHIZu9Y4u2mywoC=s64",
      "userId": "02099267530599713599"
     },
     "user_tz": 300
    },
    "id": "8pOIApF4z6z-",
    "outputId": "cbc87224-278c-4c12-9094-e94bd08c07c1"
   },
   "outputs": [
    {
     "data": {
      "text/plain": [
       "0    10\n",
       "1     8\n",
       "2     1\n",
       "3     7\n",
       "4    10\n",
       "Name: financial_situation_5years, dtype: object"
      ]
     },
     "execution_count": 85,
     "metadata": {},
     "output_type": "execute_result"
    }
   ],
   "source": [
    "#extract numeric value from financial_situation_5years\n",
    "df['financial_situation_5years'] = df['financial_situation_5years'].str.extract('(\\d+)', expand=False)\n",
    "df['financial_situation_5years'].head()"
   ]
  },
  {
   "cell_type": "code",
   "execution_count": 86,
   "metadata": {
    "colab": {
     "base_uri": "https://localhost:8080/"
    },
    "executionInfo": {
     "elapsed": 435,
     "status": "ok",
     "timestamp": 1610417303812,
     "user": {
      "displayName": "Enock Chemochek",
      "photoUrl": "https://lh3.googleusercontent.com/a-/AOh14Gi1MRbTpDKtYJKaFeqBo1eqBnHIZu9Y4u2mywoC=s64",
      "userId": "02099267530599713599"
     },
     "user_tz": 300
    },
    "id": "FnYsGx-fz6z_",
    "outputId": "563f8fe1-0c11-4ae9-cd6e-7fc17d3fea4d"
   },
   "outputs": [
    {
     "data": {
      "text/plain": [
       "0    1\n",
       "1    2\n",
       "2    1\n",
       "3    1\n",
       "4    1\n",
       "Name: financial_situation_now, dtype: object"
      ]
     },
     "execution_count": 86,
     "metadata": {},
     "output_type": "execute_result"
    }
   ],
   "source": [
    "#extract numeric value from financial_situation_now\n",
    "df['financial_situation_now'] = df['financial_situation_now'].str.extract('(\\d+)', expand=False)\n",
    "df['financial_situation_now'].head()"
   ]
  },
  {
   "cell_type": "code",
   "execution_count": 87,
   "metadata": {
    "colab": {
     "base_uri": "https://localhost:8080/"
    },
    "executionInfo": {
     "elapsed": 465,
     "status": "ok",
     "timestamp": 1610417333712,
     "user": {
      "displayName": "Enock Chemochek",
      "photoUrl": "https://lh3.googleusercontent.com/a-/AOh14Gi1MRbTpDKtYJKaFeqBo1eqBnHIZu9Y4u2mywoC=s64",
      "userId": "02099267530599713599"
     },
     "user_tz": 300
    },
    "id": "XYCB3N-qWiD0",
    "outputId": "05dcab13-8a12-473c-ed1f-a7588ef99b23"
   },
   "outputs": [
    {
     "data": {
      "text/plain": [
       "array(['4', '2', '7', '1', '3', '5', '8', '13', '6', '9',\n",
       "       '0: I live alone', '11', '15 or more', '10', '0', '12', '14',\n",
       "       'More than 15', '15', '20', '22'], dtype=object)"
      ]
     },
     "execution_count": 87,
     "metadata": {},
     "output_type": "execute_result"
    }
   ],
   "source": [
    "df['peoplelive'].unique()"
   ]
  },
  {
   "cell_type": "code",
   "execution_count": 88,
   "metadata": {
    "colab": {
     "base_uri": "https://localhost:8080/"
    },
    "executionInfo": {
     "elapsed": 454,
     "status": "ok",
     "timestamp": 1610417363957,
     "user": {
      "displayName": "Enock Chemochek",
      "photoUrl": "https://lh3.googleusercontent.com/a-/AOh14Gi1MRbTpDKtYJKaFeqBo1eqBnHIZu9Y4u2mywoC=s64",
      "userId": "02099267530599713599"
     },
     "user_tz": 300
    },
    "id": "5Mnu23Ptz60B",
    "outputId": "f8ac8ab3-278f-42a6-cb80-90271fa0bc3f"
   },
   "outputs": [
    {
     "data": {
      "text/plain": [
       "0    4\n",
       "1    2\n",
       "2    4\n",
       "3    7\n",
       "4    4\n",
       "Name: peoplelive, dtype: object"
      ]
     },
     "execution_count": 88,
     "metadata": {},
     "output_type": "execute_result"
    }
   ],
   "source": [
    "#extract numeric value from peoplelive\n",
    "df['peoplelive'] = df['peoplelive'].str.extract('(\\d+)', expand=False)\n",
    "df['peoplelive'].head()"
   ]
  },
  {
   "cell_type": "code",
   "execution_count": 89,
   "metadata": {
    "colab": {
     "base_uri": "https://localhost:8080/"
    },
    "executionInfo": {
     "elapsed": 441,
     "status": "ok",
     "timestamp": 1610417381978,
     "user": {
      "displayName": "Enock Chemochek",
      "photoUrl": "https://lh3.googleusercontent.com/a-/AOh14Gi1MRbTpDKtYJKaFeqBo1eqBnHIZu9Y4u2mywoC=s64",
      "userId": "02099267530599713599"
     },
     "user_tz": 300
    },
    "id": "voavgEOaWwqO",
    "outputId": "09f726f2-2dbc-45f6-d781-75ca71a10b06"
   },
   "outputs": [
    {
     "data": {
      "text/plain": [
       "array(['0', '3', '1', '2', '4 or more', '4more'], dtype=object)"
      ]
     },
     "execution_count": 89,
     "metadata": {},
     "output_type": "execute_result"
    }
   ],
   "source": [
    "df['numchildren'].unique()"
   ]
  },
  {
   "cell_type": "code",
   "execution_count": 90,
   "metadata": {
    "colab": {
     "base_uri": "https://localhost:8080/"
    },
    "executionInfo": {
     "elapsed": 459,
     "status": "ok",
     "timestamp": 1610417401774,
     "user": {
      "displayName": "Enock Chemochek",
      "photoUrl": "https://lh3.googleusercontent.com/a-/AOh14Gi1MRbTpDKtYJKaFeqBo1eqBnHIZu9Y4u2mywoC=s64",
      "userId": "02099267530599713599"
     },
     "user_tz": 300
    },
    "id": "fFVttf2Wz60B",
    "outputId": "329224b6-99e1-4170-ee08-da69e5dc9b7e"
   },
   "outputs": [
    {
     "data": {
      "text/plain": [
       "0    0\n",
       "1    3\n",
       "2    1\n",
       "3    0\n",
       "4    0\n",
       "Name: numchildren, dtype: object"
      ]
     },
     "execution_count": 90,
     "metadata": {},
     "output_type": "execute_result"
    }
   ],
   "source": [
    "#extract numeric value from numchildren\n",
    "df['numchildren'] = df['numchildren'].str.extract('(\\d+)', expand=False)\n",
    "df['numchildren'].head()"
   ]
  },
  {
   "cell_type": "code",
   "execution_count": 91,
   "metadata": {
    "colab": {
     "base_uri": "https://localhost:8080/",
     "height": 206
    },
    "executionInfo": {
     "elapsed": 446,
     "status": "ok",
     "timestamp": 1610051585680,
     "user": {
      "displayName": "Enock Chemochek",
      "photoUrl": "https://lh3.googleusercontent.com/a-/AOh14Gi1MRbTpDKtYJKaFeqBo1eqBnHIZu9Y4u2mywoC=s64",
      "userId": "02099267530599713599"
     },
     "user_tz": 300
    },
    "id": "uhBaQrl8z60C",
    "outputId": "0aab8069-fbe8-42a8-fddb-191b9c1236dc"
   },
   "outputs": [
    {
     "data": {
      "text/html": [
       "<div>\n",
       "<style scoped>\n",
       "    .dataframe tbody tr th:only-of-type {\n",
       "        vertical-align: middle;\n",
       "    }\n",
       "\n",
       "    .dataframe tbody tr th {\n",
       "        vertical-align: top;\n",
       "    }\n",
       "\n",
       "    .dataframe thead th {\n",
       "        text-align: right;\n",
       "    }\n",
       "</style>\n",
       "<table border=\"1\" class=\"dataframe\">\n",
       "  <thead>\n",
       "    <tr style=\"text-align: right;\">\n",
       "      <th></th>\n",
       "      <th>cft_score</th>\n",
       "      <th>grit_score</th>\n",
       "      <th>gender</th>\n",
       "      <th>peoplelive</th>\n",
       "      <th>numchildren</th>\n",
       "      <th>anygrant</th>\n",
       "      <th>anyhhincome</th>\n",
       "      <th>financial_situation_now</th>\n",
       "      <th>financial_situation_5years</th>\n",
       "      <th>givemoney_yes</th>\n",
       "      <th>working</th>\n",
       "      <th>age_first_survey</th>\n",
       "    </tr>\n",
       "  </thead>\n",
       "  <tbody>\n",
       "    <tr>\n",
       "      <th>0</th>\n",
       "      <td>4.0</td>\n",
       "      <td>4.0</td>\n",
       "      <td>1</td>\n",
       "      <td>4</td>\n",
       "      <td>0</td>\n",
       "      <td>False</td>\n",
       "      <td>False</td>\n",
       "      <td>1</td>\n",
       "      <td>10</td>\n",
       "      <td>False</td>\n",
       "      <td>True</td>\n",
       "      <td>26.0</td>\n",
       "    </tr>\n",
       "    <tr>\n",
       "      <th>1</th>\n",
       "      <td>4.0</td>\n",
       "      <td>3.0</td>\n",
       "      <td>1</td>\n",
       "      <td>2</td>\n",
       "      <td>3</td>\n",
       "      <td>True</td>\n",
       "      <td>True</td>\n",
       "      <td>2</td>\n",
       "      <td>8</td>\n",
       "      <td>False</td>\n",
       "      <td>True</td>\n",
       "      <td>28.0</td>\n",
       "    </tr>\n",
       "    <tr>\n",
       "      <th>2</th>\n",
       "      <td>5.0</td>\n",
       "      <td>2.0</td>\n",
       "      <td>0</td>\n",
       "      <td>4</td>\n",
       "      <td>1</td>\n",
       "      <td>False</td>\n",
       "      <td>True</td>\n",
       "      <td>1</td>\n",
       "      <td>1</td>\n",
       "      <td>False</td>\n",
       "      <td>True</td>\n",
       "      <td>25.0</td>\n",
       "    </tr>\n",
       "    <tr>\n",
       "      <th>3</th>\n",
       "      <td>10.0</td>\n",
       "      <td>0.0</td>\n",
       "      <td>1</td>\n",
       "      <td>7</td>\n",
       "      <td>0</td>\n",
       "      <td>True</td>\n",
       "      <td>True</td>\n",
       "      <td>1</td>\n",
       "      <td>7</td>\n",
       "      <td>False</td>\n",
       "      <td>True</td>\n",
       "      <td>20.0</td>\n",
       "    </tr>\n",
       "    <tr>\n",
       "      <th>4</th>\n",
       "      <td>7.0</td>\n",
       "      <td>4.0</td>\n",
       "      <td>0</td>\n",
       "      <td>4</td>\n",
       "      <td>0</td>\n",
       "      <td>False</td>\n",
       "      <td>True</td>\n",
       "      <td>1</td>\n",
       "      <td>10</td>\n",
       "      <td>False</td>\n",
       "      <td>False</td>\n",
       "      <td>21.0</td>\n",
       "    </tr>\n",
       "  </tbody>\n",
       "</table>\n",
       "</div>"
      ],
      "text/plain": [
       "   cft_score  grit_score  gender peoplelive numchildren  anygrant  \\\n",
       "0        4.0         4.0       1          4           0     False   \n",
       "1        4.0         3.0       1          2           3      True   \n",
       "2        5.0         2.0       0          4           1     False   \n",
       "3       10.0         0.0       1          7           0      True   \n",
       "4        7.0         4.0       0          4           0     False   \n",
       "\n",
       "   anyhhincome financial_situation_now financial_situation_5years  \\\n",
       "0        False                       1                         10   \n",
       "1         True                       2                          8   \n",
       "2         True                       1                          1   \n",
       "3         True                       1                          7   \n",
       "4         True                       1                         10   \n",
       "\n",
       "   givemoney_yes  working  age_first_survey  \n",
       "0          False     True              26.0  \n",
       "1          False     True              28.0  \n",
       "2          False     True              25.0  \n",
       "3          False     True              20.0  \n",
       "4          False    False              21.0  "
      ]
     },
     "execution_count": 91,
     "metadata": {},
     "output_type": "execute_result"
    }
   ],
   "source": [
    "#binarise gender\n",
    "df[\"gender\"] = (df[\"gender\"] == \"Female\").astype(int)\n",
    "df.head()\n",
    "#label encoding"
   ]
  },
  {
   "cell_type": "code",
   "execution_count": 92,
   "metadata": {},
   "outputs": [],
   "source": [
    "from sklearn.preprocessing import LabelEncoder\n",
    "le = LabelEncoder()"
   ]
  },
  {
   "cell_type": "code",
   "execution_count": 93,
   "metadata": {},
   "outputs": [],
   "source": [
    "#binarise anygrant, anyhhincome, givemoney_yes, working\n",
    "df[\"anygrant\"] = le.fit_transform(df[\"anygrant\"])\n",
    "df[\"anyhhincome\"] = le.fit_transform(df[\"anyhhincome\"])\n",
    "df[\"givemoney_yes\"] = le.fit_transform(df[\"givemoney_yes\"])\n",
    "df[\"working\"] = le.fit_transform(df[\"working\"])\n"
   ]
  },
  {
   "cell_type": "code",
   "execution_count": 94,
   "metadata": {},
   "outputs": [
    {
     "data": {
      "text/plain": [
       "0    21964\n",
       "1    10916\n",
       "Name: working, dtype: int64"
      ]
     },
     "execution_count": 94,
     "metadata": {},
     "output_type": "execute_result"
    }
   ],
   "source": [
    "df.working.value_counts()"
   ]
  },
  {
   "cell_type": "markdown",
   "metadata": {
    "id": "TiBqbRJCz60D"
   },
   "source": [
    "### k-means"
   ]
  },
  {
   "cell_type": "code",
   "execution_count": 95,
   "metadata": {
    "colab": {
     "base_uri": "https://localhost:8080/"
    },
    "executionInfo": {
     "elapsed": 1465,
     "status": "ok",
     "timestamp": 1610049469750,
     "user": {
      "displayName": "Enock Chemochek",
      "photoUrl": "https://lh3.googleusercontent.com/a-/AOh14Gi1MRbTpDKtYJKaFeqBo1eqBnHIZu9Y4u2mywoC=s64",
      "userId": "02099267530599713599"
     },
     "user_tz": 300
    },
    "id": "D6W8UvRxz60E",
    "outputId": "2c4c6b81-57b1-4294-a854-6bbf613ba3ff"
   },
   "outputs": [
    {
     "data": {
      "text/plain": [
       "MinMaxScaler()"
      ]
     },
     "execution_count": 95,
     "metadata": {},
     "output_type": "execute_result"
    }
   ],
   "source": [
    "#scale data\n",
    "from sklearn.preprocessing import MinMaxScaler\n",
    "scaler = MinMaxScaler()\n",
    "scaler.fit(df)\n"
   ]
  },
  {
   "cell_type": "code",
   "execution_count": 96,
   "metadata": {
    "colab": {
     "base_uri": "https://localhost:8080/"
    },
    "executionInfo": {
     "elapsed": 386,
     "status": "ok",
     "timestamp": 1610049474999,
     "user": {
      "displayName": "Enock Chemochek",
      "photoUrl": "https://lh3.googleusercontent.com/a-/AOh14Gi1MRbTpDKtYJKaFeqBo1eqBnHIZu9Y4u2mywoC=s64",
      "userId": "02099267530599713599"
     },
     "user_tz": 300
    },
    "id": "ljhfpKVEz60E",
    "outputId": "89ea51f9-1aeb-4090-9937-82ef09bc92a5"
   },
   "outputs": [
    {
     "data": {
      "text/html": [
       "<div>\n",
       "<style scoped>\n",
       "    .dataframe tbody tr th:only-of-type {\n",
       "        vertical-align: middle;\n",
       "    }\n",
       "\n",
       "    .dataframe tbody tr th {\n",
       "        vertical-align: top;\n",
       "    }\n",
       "\n",
       "    .dataframe thead th {\n",
       "        text-align: right;\n",
       "    }\n",
       "</style>\n",
       "<table border=\"1\" class=\"dataframe\">\n",
       "  <thead>\n",
       "    <tr style=\"text-align: right;\">\n",
       "      <th></th>\n",
       "      <th>cft_score</th>\n",
       "      <th>grit_score</th>\n",
       "      <th>gender</th>\n",
       "      <th>peoplelive</th>\n",
       "      <th>numchildren</th>\n",
       "      <th>anygrant</th>\n",
       "      <th>anyhhincome</th>\n",
       "      <th>financial_situation_now</th>\n",
       "      <th>financial_situation_5years</th>\n",
       "      <th>givemoney_yes</th>\n",
       "      <th>working</th>\n",
       "      <th>age_first_survey</th>\n",
       "    </tr>\n",
       "  </thead>\n",
       "  <tbody>\n",
       "    <tr>\n",
       "      <th>0</th>\n",
       "      <td>0.333333</td>\n",
       "      <td>0.444444</td>\n",
       "      <td>1.0</td>\n",
       "      <td>0.181818</td>\n",
       "      <td>0.00</td>\n",
       "      <td>0.0</td>\n",
       "      <td>0.0</td>\n",
       "      <td>0.000000</td>\n",
       "      <td>1.000000</td>\n",
       "      <td>0.0</td>\n",
       "      <td>1.0</td>\n",
       "      <td>0.204545</td>\n",
       "    </tr>\n",
       "    <tr>\n",
       "      <th>1</th>\n",
       "      <td>0.333333</td>\n",
       "      <td>0.333333</td>\n",
       "      <td>1.0</td>\n",
       "      <td>0.090909</td>\n",
       "      <td>0.75</td>\n",
       "      <td>1.0</td>\n",
       "      <td>1.0</td>\n",
       "      <td>0.111111</td>\n",
       "      <td>0.777778</td>\n",
       "      <td>0.0</td>\n",
       "      <td>1.0</td>\n",
       "      <td>0.250000</td>\n",
       "    </tr>\n",
       "    <tr>\n",
       "      <th>2</th>\n",
       "      <td>0.444444</td>\n",
       "      <td>0.222222</td>\n",
       "      <td>0.0</td>\n",
       "      <td>0.181818</td>\n",
       "      <td>0.25</td>\n",
       "      <td>0.0</td>\n",
       "      <td>1.0</td>\n",
       "      <td>0.000000</td>\n",
       "      <td>0.000000</td>\n",
       "      <td>0.0</td>\n",
       "      <td>1.0</td>\n",
       "      <td>0.181818</td>\n",
       "    </tr>\n",
       "    <tr>\n",
       "      <th>3</th>\n",
       "      <td>1.000000</td>\n",
       "      <td>0.000000</td>\n",
       "      <td>1.0</td>\n",
       "      <td>0.318182</td>\n",
       "      <td>0.00</td>\n",
       "      <td>1.0</td>\n",
       "      <td>1.0</td>\n",
       "      <td>0.000000</td>\n",
       "      <td>0.666667</td>\n",
       "      <td>0.0</td>\n",
       "      <td>1.0</td>\n",
       "      <td>0.068182</td>\n",
       "    </tr>\n",
       "    <tr>\n",
       "      <th>4</th>\n",
       "      <td>0.666667</td>\n",
       "      <td>0.444444</td>\n",
       "      <td>0.0</td>\n",
       "      <td>0.181818</td>\n",
       "      <td>0.00</td>\n",
       "      <td>0.0</td>\n",
       "      <td>1.0</td>\n",
       "      <td>0.000000</td>\n",
       "      <td>1.000000</td>\n",
       "      <td>0.0</td>\n",
       "      <td>0.0</td>\n",
       "      <td>0.090909</td>\n",
       "    </tr>\n",
       "  </tbody>\n",
       "</table>\n",
       "</div>"
      ],
      "text/plain": [
       "   cft_score  grit_score  gender  peoplelive  numchildren  anygrant  \\\n",
       "0   0.333333    0.444444     1.0    0.181818         0.00       0.0   \n",
       "1   0.333333    0.333333     1.0    0.090909         0.75       1.0   \n",
       "2   0.444444    0.222222     0.0    0.181818         0.25       0.0   \n",
       "3   1.000000    0.000000     1.0    0.318182         0.00       1.0   \n",
       "4   0.666667    0.444444     0.0    0.181818         0.00       0.0   \n",
       "\n",
       "   anyhhincome  financial_situation_now  financial_situation_5years  \\\n",
       "0          0.0                 0.000000                    1.000000   \n",
       "1          1.0                 0.111111                    0.777778   \n",
       "2          1.0                 0.000000                    0.000000   \n",
       "3          1.0                 0.000000                    0.666667   \n",
       "4          1.0                 0.000000                    1.000000   \n",
       "\n",
       "   givemoney_yes  working  age_first_survey  \n",
       "0            0.0      1.0          0.204545  \n",
       "1            0.0      1.0          0.250000  \n",
       "2            0.0      1.0          0.181818  \n",
       "3            0.0      1.0          0.068182  \n",
       "4            0.0      0.0          0.090909  "
      ]
     },
     "execution_count": 96,
     "metadata": {},
     "output_type": "execute_result"
    }
   ],
   "source": [
    "df_scaled = scaler.transform(df)\n",
    "df_scaled = pd.DataFrame(             \n",
    "                    df_scaled,\n",
    "                    columns=df.columns) \n",
    "\n",
    "df_scaled.head()"
   ]
  },
  {
   "cell_type": "code",
   "execution_count": 97,
   "metadata": {},
   "outputs": [],
   "source": [
    "from sklearn.cluster import KMeans"
   ]
  },
  {
   "cell_type": "markdown",
   "metadata": {},
   "source": []
  },
  {
   "cell_type": "code",
   "execution_count": 98,
   "metadata": {},
   "outputs": [
    {
     "data": {
      "text/plain": [
       "KMeans(n_clusters=9, random_state=42)"
      ]
     },
     "execution_count": 98,
     "metadata": {},
     "output_type": "execute_result"
    }
   ],
   "source": [
    "#fit k means to data\n",
    "estimator_kmeans = KMeans(random_state=42, n_clusters=9) \n",
    "\n",
    "estimator_kmeans.fit(df_scaled) "
   ]
  },
  {
   "cell_type": "code",
   "execution_count": 99,
   "metadata": {},
   "outputs": [
    {
     "data": {
      "text/plain": [
       "array([5, 8, 5, ..., 3, 7, 8], dtype=int32)"
      ]
     },
     "execution_count": 99,
     "metadata": {},
     "output_type": "execute_result"
    }
   ],
   "source": [
    "#apply model to data\n",
    "estimator_kmeans.predict(df_scaled)"
   ]
  },
  {
   "cell_type": "code",
   "execution_count": 100,
   "metadata": {},
   "outputs": [
    {
     "data": {
      "text/plain": [
       "array([[ 5.55368500e-01,  4.90927796e-01,  8.77076189e-15,\n",
       "         2.08256811e-01,  7.91245791e-02,  6.94865320e-01,\n",
       "         8.71632997e-01,  1.71436588e-01,  7.58417508e-01,\n",
       "         7.58838384e-01,  1.00000000e+00,  1.69325834e-01],\n",
       "       [ 4.75355477e-01,  4.96768392e-01,  1.00000000e+00,\n",
       "         2.30859429e-01,  1.61418816e-01,  1.00000000e+00,\n",
       "         7.85280728e-01,  1.48738268e-01,  7.76316529e-01,\n",
       "         3.33066907e-16,  2.99760217e-15,  1.60522141e-01],\n",
       "       [ 4.64699994e-01,  5.01324854e-01,  1.00000000e+00,\n",
       "         1.64197620e-01,  2.68945416e-02, -4.77395901e-15,\n",
       "         1.56541446e-14,  2.61437908e-02,  9.62815757e-01,\n",
       "         5.06094330e-02,  2.10942375e-15,  2.00540781e-01],\n",
       "       [ 4.84303858e-01,  4.96418777e-01,  1.00000000e+00,\n",
       "         1.62974098e-01,  8.15959741e-02, -4.88498131e-15,\n",
       "         1.00000000e+00,  1.15158293e-01,  8.55313257e-01,\n",
       "         2.11838006e-01,  3.99680289e-15,  1.72995229e-01],\n",
       "       [ 5.49884714e-01,  5.00342743e-01,  4.21884749e-15,\n",
       "         1.77433335e-01,  4.47279865e-02,  2.60515984e-01,\n",
       "         1.00000000e+00,  1.37284228e-01,  8.07284851e-01,\n",
       "         2.59113853e-01,  1.05471187e-15,  1.55413501e-01],\n",
       "       [ 5.20308444e-01,  5.01145213e-01,  7.28126432e-01,\n",
       "         1.58601591e-01,  5.70888685e-02, -4.71844785e-15,\n",
       "         7.12322492e-01,  9.51799257e-02,  8.82119408e-01,\n",
       "         1.29409070e-01,  1.00000000e+00,  1.83874360e-01],\n",
       "       [ 5.29889851e-01,  5.02548747e-01,  9.76996262e-15,\n",
       "         1.54227550e-01,  2.99165865e-02,  1.34103304e-01,\n",
       "         1.33226763e-14,  5.40405661e-02,  9.08458988e-01,\n",
       "         8.40551813e-02,  3.29483478e-01,  1.85843031e-01],\n",
       "       [ 4.86297053e-01,  5.03265008e-01,  6.58951668e-01,\n",
       "         2.39092766e-01,  1.71942364e-01,  1.00000000e+00,\n",
       "         7.77626503e-01,  1.65948113e-01,  7.73189118e-01,\n",
       "         1.00000000e+00,  4.88498131e-15,  1.74974730e-01],\n",
       "       [ 4.94756911e-01,  4.99276207e-01,  1.00000000e+00,\n",
       "         2.30522576e-01,  2.00587861e-01,  1.00000000e+00,\n",
       "         7.86145535e-01,  1.66966776e-01,  7.82367687e-01,\n",
       "         4.75373371e-01,  1.00000000e+00,  1.73476904e-01]])"
      ]
     },
     "execution_count": 100,
     "metadata": {},
     "output_type": "execute_result"
    }
   ],
   "source": [
    "centroids = estimator_kmeans.cluster_centers_\n",
    "centroids"
   ]
  },
  {
   "cell_type": "code",
   "execution_count": 101,
   "metadata": {},
   "outputs": [
    {
     "data": {
      "text/plain": [
       "(9, 12)"
      ]
     },
     "execution_count": 101,
     "metadata": {},
     "output_type": "execute_result"
    }
   ],
   "source": [
    "#metrics on data\n",
    "centroids.shape"
   ]
  },
  {
   "cell_type": "code",
   "execution_count": 102,
   "metadata": {},
   "outputs": [
    {
     "data": {
      "text/plain": [
       "19040.418349512427"
      ]
     },
     "execution_count": 102,
     "metadata": {},
     "output_type": "execute_result"
    }
   ],
   "source": [
    "estimator_kmeans.inertia_"
   ]
  },
  {
   "cell_type": "code",
   "execution_count": 103,
   "metadata": {},
   "outputs": [
    {
     "data": {
      "text/plain": [
       "(32880,)"
      ]
     },
     "execution_count": 103,
     "metadata": {},
     "output_type": "execute_result"
    }
   ],
   "source": [
    "estimator_kmeans.labels_.shape"
   ]
  },
  {
   "cell_type": "code",
   "execution_count": 104,
   "metadata": {},
   "outputs": [
    {
     "data": {
      "text/plain": [
       "(32880, 12)"
      ]
     },
     "execution_count": 104,
     "metadata": {},
     "output_type": "execute_result"
    }
   ],
   "source": [
    "df_scaled.shape"
   ]
  },
  {
   "cell_type": "code",
   "execution_count": 105,
   "metadata": {},
   "outputs": [],
   "source": [
    "df_scaled[\"cluster_id\"] = estimator_kmeans.labels_ "
   ]
  },
  {
   "cell_type": "code",
   "execution_count": 106,
   "metadata": {},
   "outputs": [
    {
     "data": {
      "text/html": [
       "<div>\n",
       "<style scoped>\n",
       "    .dataframe tbody tr th:only-of-type {\n",
       "        vertical-align: middle;\n",
       "    }\n",
       "\n",
       "    .dataframe tbody tr th {\n",
       "        vertical-align: top;\n",
       "    }\n",
       "\n",
       "    .dataframe thead th {\n",
       "        text-align: right;\n",
       "    }\n",
       "</style>\n",
       "<table border=\"1\" class=\"dataframe\">\n",
       "  <thead>\n",
       "    <tr style=\"text-align: right;\">\n",
       "      <th></th>\n",
       "      <th>cft_score</th>\n",
       "      <th>grit_score</th>\n",
       "      <th>gender</th>\n",
       "      <th>peoplelive</th>\n",
       "      <th>numchildren</th>\n",
       "      <th>anygrant</th>\n",
       "      <th>anyhhincome</th>\n",
       "      <th>financial_situation_now</th>\n",
       "      <th>financial_situation_5years</th>\n",
       "      <th>givemoney_yes</th>\n",
       "      <th>working</th>\n",
       "      <th>age_first_survey</th>\n",
       "      <th>cluster_id</th>\n",
       "    </tr>\n",
       "  </thead>\n",
       "  <tbody>\n",
       "    <tr>\n",
       "      <th>0</th>\n",
       "      <td>0.333333</td>\n",
       "      <td>0.444444</td>\n",
       "      <td>1.0</td>\n",
       "      <td>0.181818</td>\n",
       "      <td>0.00</td>\n",
       "      <td>0.0</td>\n",
       "      <td>0.0</td>\n",
       "      <td>0.000000</td>\n",
       "      <td>1.000000</td>\n",
       "      <td>0.0</td>\n",
       "      <td>1.0</td>\n",
       "      <td>0.204545</td>\n",
       "      <td>5</td>\n",
       "    </tr>\n",
       "    <tr>\n",
       "      <th>1</th>\n",
       "      <td>0.333333</td>\n",
       "      <td>0.333333</td>\n",
       "      <td>1.0</td>\n",
       "      <td>0.090909</td>\n",
       "      <td>0.75</td>\n",
       "      <td>1.0</td>\n",
       "      <td>1.0</td>\n",
       "      <td>0.111111</td>\n",
       "      <td>0.777778</td>\n",
       "      <td>0.0</td>\n",
       "      <td>1.0</td>\n",
       "      <td>0.250000</td>\n",
       "      <td>8</td>\n",
       "    </tr>\n",
       "    <tr>\n",
       "      <th>2</th>\n",
       "      <td>0.444444</td>\n",
       "      <td>0.222222</td>\n",
       "      <td>0.0</td>\n",
       "      <td>0.181818</td>\n",
       "      <td>0.25</td>\n",
       "      <td>0.0</td>\n",
       "      <td>1.0</td>\n",
       "      <td>0.000000</td>\n",
       "      <td>0.000000</td>\n",
       "      <td>0.0</td>\n",
       "      <td>1.0</td>\n",
       "      <td>0.181818</td>\n",
       "      <td>5</td>\n",
       "    </tr>\n",
       "    <tr>\n",
       "      <th>3</th>\n",
       "      <td>1.000000</td>\n",
       "      <td>0.000000</td>\n",
       "      <td>1.0</td>\n",
       "      <td>0.318182</td>\n",
       "      <td>0.00</td>\n",
       "      <td>1.0</td>\n",
       "      <td>1.0</td>\n",
       "      <td>0.000000</td>\n",
       "      <td>0.666667</td>\n",
       "      <td>0.0</td>\n",
       "      <td>1.0</td>\n",
       "      <td>0.068182</td>\n",
       "      <td>8</td>\n",
       "    </tr>\n",
       "    <tr>\n",
       "      <th>4</th>\n",
       "      <td>0.666667</td>\n",
       "      <td>0.444444</td>\n",
       "      <td>0.0</td>\n",
       "      <td>0.181818</td>\n",
       "      <td>0.00</td>\n",
       "      <td>0.0</td>\n",
       "      <td>1.0</td>\n",
       "      <td>0.000000</td>\n",
       "      <td>1.000000</td>\n",
       "      <td>0.0</td>\n",
       "      <td>0.0</td>\n",
       "      <td>0.090909</td>\n",
       "      <td>4</td>\n",
       "    </tr>\n",
       "  </tbody>\n",
       "</table>\n",
       "</div>"
      ],
      "text/plain": [
       "   cft_score  grit_score  gender  peoplelive  numchildren  anygrant  \\\n",
       "0   0.333333    0.444444     1.0    0.181818         0.00       0.0   \n",
       "1   0.333333    0.333333     1.0    0.090909         0.75       1.0   \n",
       "2   0.444444    0.222222     0.0    0.181818         0.25       0.0   \n",
       "3   1.000000    0.000000     1.0    0.318182         0.00       1.0   \n",
       "4   0.666667    0.444444     0.0    0.181818         0.00       0.0   \n",
       "\n",
       "   anyhhincome  financial_situation_now  financial_situation_5years  \\\n",
       "0          0.0                 0.000000                    1.000000   \n",
       "1          1.0                 0.111111                    0.777778   \n",
       "2          1.0                 0.000000                    0.000000   \n",
       "3          1.0                 0.000000                    0.666667   \n",
       "4          1.0                 0.000000                    1.000000   \n",
       "\n",
       "   givemoney_yes  working  age_first_survey  cluster_id  \n",
       "0            0.0      1.0          0.204545           5  \n",
       "1            0.0      1.0          0.250000           8  \n",
       "2            0.0      1.0          0.181818           5  \n",
       "3            0.0      1.0          0.068182           8  \n",
       "4            0.0      0.0          0.090909           4  "
      ]
     },
     "execution_count": 106,
     "metadata": {},
     "output_type": "execute_result"
    }
   ],
   "source": [
    "#preview scaled data\n",
    "df_scaled.head()"
   ]
  },
  {
   "cell_type": "code",
   "execution_count": 107,
   "metadata": {},
   "outputs": [
    {
     "data": {
      "text/plain": [
       "7    4407\n",
       "5    4366\n",
       "3    4173\n",
       "1    3954\n",
       "2    3774\n",
       "4    3566\n",
       "8    3147\n",
       "6    3117\n",
       "0    2376\n",
       "Name: cluster_id, dtype: int64"
      ]
     },
     "execution_count": 107,
     "metadata": {},
     "output_type": "execute_result"
    }
   ],
   "source": [
    "df_scaled.cluster_id.value_counts()"
   ]
  },
  {
   "cell_type": "code",
   "execution_count": 108,
   "metadata": {},
   "outputs": [],
   "source": [
    "def cluster_summary(cluster_id):  # define a function and call it cluster_summary, that takes the input of a cluster id/label\n",
    "    cluster = df_scaled[df_scaled.cluster_id==cluster_id] # pull out all the rows with that ID\n",
    "    cluster_summary = cluster.mean().to_dict() # get means for numerical (only does for numerical if we didnt specify)\n",
    "    return cluster_summary "
   ]
  },
  {
   "cell_type": "code",
   "execution_count": 109,
   "metadata": {},
   "outputs": [
    {
     "data": {
      "text/plain": [
       "{'cft_score': 0.5203084440372621,\n",
       " 'grit_score': 0.50114521300962,\n",
       " 'gender': 0.728126431516262,\n",
       " 'peoplelive': 0.15860159080497357,\n",
       " 'numchildren': 0.0570888685295465,\n",
       " 'anygrant': 0.0,\n",
       " 'anyhhincome': 0.7123224919835089,\n",
       " 'financial_situation_now': 0.09517992568839996,\n",
       " 'financial_situation_5years': 0.8821194075431313,\n",
       " 'givemoney_yes': 0.1294090700870362,\n",
       " 'working': 1.0,\n",
       " 'age_first_survey': 0.18387435972181737,\n",
       " 'cluster_id': 5.0}"
      ]
     },
     "execution_count": 109,
     "metadata": {},
     "output_type": "execute_result"
    }
   ],
   "source": [
    "#display cluster summary\n",
    "cluster_summary(5)"
   ]
  },
  {
   "cell_type": "code",
   "execution_count": 110,
   "metadata": {},
   "outputs": [],
   "source": [
    "#create frame for cluster summary\n",
    "def cluster_comparison(*cluster_ids):\n",
    "    summaries = []\n",
    "    for cluster_id in cluster_ids:\n",
    "        summaries.append(cluster_summary(cluster_id))\n",
    "    return pd.DataFrame(summaries).set_index(\"cluster_id\").T"
   ]
  },
  {
   "cell_type": "code",
   "execution_count": 111,
   "metadata": {},
   "outputs": [
    {
     "data": {
      "text/html": [
       "<div>\n",
       "<style scoped>\n",
       "    .dataframe tbody tr th:only-of-type {\n",
       "        vertical-align: middle;\n",
       "    }\n",
       "\n",
       "    .dataframe tbody tr th {\n",
       "        vertical-align: top;\n",
       "    }\n",
       "\n",
       "    .dataframe thead th {\n",
       "        text-align: right;\n",
       "    }\n",
       "</style>\n",
       "<table border=\"1\" class=\"dataframe\">\n",
       "  <thead>\n",
       "    <tr style=\"text-align: right;\">\n",
       "      <th>cluster_id</th>\n",
       "      <th>0.0</th>\n",
       "      <th>1.0</th>\n",
       "      <th>2.0</th>\n",
       "      <th>3.0</th>\n",
       "      <th>4.0</th>\n",
       "      <th>5.0</th>\n",
       "      <th>6.0</th>\n",
       "      <th>7.0</th>\n",
       "      <th>8.0</th>\n",
       "    </tr>\n",
       "  </thead>\n",
       "  <tbody>\n",
       "    <tr>\n",
       "      <th>cft_score</th>\n",
       "      <td>0.555368</td>\n",
       "      <td>0.475355</td>\n",
       "      <td>0.464700</td>\n",
       "      <td>0.484304</td>\n",
       "      <td>0.549885</td>\n",
       "      <td>0.520308</td>\n",
       "      <td>0.529890</td>\n",
       "      <td>0.486297</td>\n",
       "      <td>0.494757</td>\n",
       "    </tr>\n",
       "    <tr>\n",
       "      <th>grit_score</th>\n",
       "      <td>0.490928</td>\n",
       "      <td>0.496768</td>\n",
       "      <td>0.501325</td>\n",
       "      <td>0.496419</td>\n",
       "      <td>0.500343</td>\n",
       "      <td>0.501145</td>\n",
       "      <td>0.502549</td>\n",
       "      <td>0.503265</td>\n",
       "      <td>0.499276</td>\n",
       "    </tr>\n",
       "    <tr>\n",
       "      <th>gender</th>\n",
       "      <td>0.000000</td>\n",
       "      <td>1.000000</td>\n",
       "      <td>1.000000</td>\n",
       "      <td>1.000000</td>\n",
       "      <td>0.000000</td>\n",
       "      <td>0.728126</td>\n",
       "      <td>0.000000</td>\n",
       "      <td>0.658952</td>\n",
       "      <td>1.000000</td>\n",
       "    </tr>\n",
       "    <tr>\n",
       "      <th>peoplelive</th>\n",
       "      <td>0.208257</td>\n",
       "      <td>0.230859</td>\n",
       "      <td>0.164198</td>\n",
       "      <td>0.162974</td>\n",
       "      <td>0.177433</td>\n",
       "      <td>0.158602</td>\n",
       "      <td>0.154228</td>\n",
       "      <td>0.239093</td>\n",
       "      <td>0.230523</td>\n",
       "    </tr>\n",
       "    <tr>\n",
       "      <th>numchildren</th>\n",
       "      <td>0.079125</td>\n",
       "      <td>0.161419</td>\n",
       "      <td>0.026895</td>\n",
       "      <td>0.081596</td>\n",
       "      <td>0.044728</td>\n",
       "      <td>0.057089</td>\n",
       "      <td>0.029917</td>\n",
       "      <td>0.171942</td>\n",
       "      <td>0.200588</td>\n",
       "    </tr>\n",
       "    <tr>\n",
       "      <th>anygrant</th>\n",
       "      <td>0.694865</td>\n",
       "      <td>1.000000</td>\n",
       "      <td>0.000000</td>\n",
       "      <td>0.000000</td>\n",
       "      <td>0.260516</td>\n",
       "      <td>0.000000</td>\n",
       "      <td>0.134103</td>\n",
       "      <td>1.000000</td>\n",
       "      <td>1.000000</td>\n",
       "    </tr>\n",
       "    <tr>\n",
       "      <th>anyhhincome</th>\n",
       "      <td>0.871633</td>\n",
       "      <td>0.785281</td>\n",
       "      <td>0.000000</td>\n",
       "      <td>1.000000</td>\n",
       "      <td>1.000000</td>\n",
       "      <td>0.712322</td>\n",
       "      <td>0.000000</td>\n",
       "      <td>0.777627</td>\n",
       "      <td>0.786146</td>\n",
       "    </tr>\n",
       "    <tr>\n",
       "      <th>financial_situation_now</th>\n",
       "      <td>0.171437</td>\n",
       "      <td>0.148738</td>\n",
       "      <td>0.026144</td>\n",
       "      <td>0.115158</td>\n",
       "      <td>0.137284</td>\n",
       "      <td>0.095180</td>\n",
       "      <td>0.054041</td>\n",
       "      <td>0.165948</td>\n",
       "      <td>0.166967</td>\n",
       "    </tr>\n",
       "    <tr>\n",
       "      <th>financial_situation_5years</th>\n",
       "      <td>0.758418</td>\n",
       "      <td>0.776317</td>\n",
       "      <td>0.962816</td>\n",
       "      <td>0.855313</td>\n",
       "      <td>0.807285</td>\n",
       "      <td>0.882119</td>\n",
       "      <td>0.908459</td>\n",
       "      <td>0.773189</td>\n",
       "      <td>0.782368</td>\n",
       "    </tr>\n",
       "    <tr>\n",
       "      <th>givemoney_yes</th>\n",
       "      <td>0.758838</td>\n",
       "      <td>0.000000</td>\n",
       "      <td>0.050609</td>\n",
       "      <td>0.211838</td>\n",
       "      <td>0.259114</td>\n",
       "      <td>0.129409</td>\n",
       "      <td>0.084055</td>\n",
       "      <td>1.000000</td>\n",
       "      <td>0.475373</td>\n",
       "    </tr>\n",
       "    <tr>\n",
       "      <th>working</th>\n",
       "      <td>1.000000</td>\n",
       "      <td>0.000000</td>\n",
       "      <td>0.000000</td>\n",
       "      <td>0.000000</td>\n",
       "      <td>0.000000</td>\n",
       "      <td>1.000000</td>\n",
       "      <td>0.329483</td>\n",
       "      <td>0.000000</td>\n",
       "      <td>1.000000</td>\n",
       "    </tr>\n",
       "    <tr>\n",
       "      <th>age_first_survey</th>\n",
       "      <td>0.169326</td>\n",
       "      <td>0.160522</td>\n",
       "      <td>0.200541</td>\n",
       "      <td>0.172995</td>\n",
       "      <td>0.155414</td>\n",
       "      <td>0.183874</td>\n",
       "      <td>0.185843</td>\n",
       "      <td>0.174975</td>\n",
       "      <td>0.173477</td>\n",
       "    </tr>\n",
       "  </tbody>\n",
       "</table>\n",
       "</div>"
      ],
      "text/plain": [
       "cluster_id                       0.0       1.0       2.0       3.0       4.0  \\\n",
       "cft_score                   0.555368  0.475355  0.464700  0.484304  0.549885   \n",
       "grit_score                  0.490928  0.496768  0.501325  0.496419  0.500343   \n",
       "gender                      0.000000  1.000000  1.000000  1.000000  0.000000   \n",
       "peoplelive                  0.208257  0.230859  0.164198  0.162974  0.177433   \n",
       "numchildren                 0.079125  0.161419  0.026895  0.081596  0.044728   \n",
       "anygrant                    0.694865  1.000000  0.000000  0.000000  0.260516   \n",
       "anyhhincome                 0.871633  0.785281  0.000000  1.000000  1.000000   \n",
       "financial_situation_now     0.171437  0.148738  0.026144  0.115158  0.137284   \n",
       "financial_situation_5years  0.758418  0.776317  0.962816  0.855313  0.807285   \n",
       "givemoney_yes               0.758838  0.000000  0.050609  0.211838  0.259114   \n",
       "working                     1.000000  0.000000  0.000000  0.000000  0.000000   \n",
       "age_first_survey            0.169326  0.160522  0.200541  0.172995  0.155414   \n",
       "\n",
       "cluster_id                       5.0       6.0       7.0       8.0  \n",
       "cft_score                   0.520308  0.529890  0.486297  0.494757  \n",
       "grit_score                  0.501145  0.502549  0.503265  0.499276  \n",
       "gender                      0.728126  0.000000  0.658952  1.000000  \n",
       "peoplelive                  0.158602  0.154228  0.239093  0.230523  \n",
       "numchildren                 0.057089  0.029917  0.171942  0.200588  \n",
       "anygrant                    0.000000  0.134103  1.000000  1.000000  \n",
       "anyhhincome                 0.712322  0.000000  0.777627  0.786146  \n",
       "financial_situation_now     0.095180  0.054041  0.165948  0.166967  \n",
       "financial_situation_5years  0.882119  0.908459  0.773189  0.782368  \n",
       "givemoney_yes               0.129409  0.084055  1.000000  0.475373  \n",
       "working                     1.000000  0.329483  0.000000  1.000000  \n",
       "age_first_survey            0.183874  0.185843  0.174975  0.173477  "
      ]
     },
     "execution_count": 111,
     "metadata": {},
     "output_type": "execute_result"
    }
   ],
   "source": [
    "cluster_comparison(0,1,2,3,4,5,6,7,8)"
   ]
  },
  {
   "cell_type": "code",
   "execution_count": 112,
   "metadata": {},
   "outputs": [],
   "source": [
    " \"\"\"assigns clusters to every row in the dataframe via kmeans\"\"\"\n",
    "def kmeans_cluster(df, n_clusters=2):\n",
    "    model = KMeans(n_clusters=n_clusters, random_state=42)\n",
    "    clusters = model.fit_predict(df)\n",
    "    cluster_results = df.copy()\n",
    "    cluster_results['Cluster'] = clusters\n",
    "    return cluster_results\n",
    "\n",
    " \"\"\"produces summary of clusters\"\"\"\n",
    "def graph_summary_clustering(results):\n",
    "    cluster_size = results.groupby(['Cluster']).size().reset_index()\n",
    "    cluster_size.columns = ['Cluster', 'Count']\n",
    "    cluster_means = results.groupby(['Cluster'], as_index=False).mean()\n",
    "    cluster_summary = pd.merge(cluster_size, cluster_means, on='Cluster')\n",
    "    cluster_summary = cluster_summary.drop([\"Count\"], axis=1)\n",
    "    return cluster_summary[sorted(cluster_summary.columns)]"
   ]
  },
  {
   "cell_type": "code",
   "execution_count": 113,
   "metadata": {},
   "outputs": [],
   "source": [
    "cluster_results = kmeans_cluster(df_scaled, 9)"
   ]
  },
  {
   "cell_type": "code",
   "execution_count": 114,
   "metadata": {},
   "outputs": [],
   "source": [
    "cluster_summary = graph_summary_clustering(cluster_results)"
   ]
  },
  {
   "cell_type": "code",
   "execution_count": 115,
   "metadata": {},
   "outputs": [
    {
     "data": {
      "text/html": [
       "<div>\n",
       "<style scoped>\n",
       "    .dataframe tbody tr th:only-of-type {\n",
       "        vertical-align: middle;\n",
       "    }\n",
       "\n",
       "    .dataframe tbody tr th {\n",
       "        vertical-align: top;\n",
       "    }\n",
       "\n",
       "    .dataframe thead th {\n",
       "        text-align: right;\n",
       "    }\n",
       "</style>\n",
       "<table border=\"1\" class=\"dataframe\">\n",
       "  <thead>\n",
       "    <tr style=\"text-align: right;\">\n",
       "      <th></th>\n",
       "      <th>Cluster</th>\n",
       "      <th>age_first_survey</th>\n",
       "      <th>anygrant</th>\n",
       "      <th>anyhhincome</th>\n",
       "      <th>cft_score</th>\n",
       "      <th>cluster_id</th>\n",
       "      <th>financial_situation_5years</th>\n",
       "      <th>financial_situation_now</th>\n",
       "      <th>gender</th>\n",
       "      <th>givemoney_yes</th>\n",
       "      <th>grit_score</th>\n",
       "      <th>numchildren</th>\n",
       "      <th>peoplelive</th>\n",
       "      <th>working</th>\n",
       "    </tr>\n",
       "  </thead>\n",
       "  <tbody>\n",
       "    <tr>\n",
       "      <th>0</th>\n",
       "      <td>0</td>\n",
       "      <td>0.169326</td>\n",
       "      <td>0.694865</td>\n",
       "      <td>0.871633</td>\n",
       "      <td>0.555368</td>\n",
       "      <td>0</td>\n",
       "      <td>0.758418</td>\n",
       "      <td>0.171437</td>\n",
       "      <td>0.000000</td>\n",
       "      <td>0.758838</td>\n",
       "      <td>0.490928</td>\n",
       "      <td>0.079125</td>\n",
       "      <td>0.208257</td>\n",
       "      <td>1.000000</td>\n",
       "    </tr>\n",
       "    <tr>\n",
       "      <th>1</th>\n",
       "      <td>1</td>\n",
       "      <td>0.173477</td>\n",
       "      <td>1.000000</td>\n",
       "      <td>0.786146</td>\n",
       "      <td>0.494757</td>\n",
       "      <td>8</td>\n",
       "      <td>0.782368</td>\n",
       "      <td>0.166967</td>\n",
       "      <td>1.000000</td>\n",
       "      <td>0.475373</td>\n",
       "      <td>0.499276</td>\n",
       "      <td>0.200588</td>\n",
       "      <td>0.230523</td>\n",
       "      <td>1.000000</td>\n",
       "    </tr>\n",
       "    <tr>\n",
       "      <th>2</th>\n",
       "      <td>2</td>\n",
       "      <td>0.200541</td>\n",
       "      <td>0.000000</td>\n",
       "      <td>0.000000</td>\n",
       "      <td>0.464700</td>\n",
       "      <td>2</td>\n",
       "      <td>0.962816</td>\n",
       "      <td>0.026144</td>\n",
       "      <td>1.000000</td>\n",
       "      <td>0.050609</td>\n",
       "      <td>0.501325</td>\n",
       "      <td>0.026895</td>\n",
       "      <td>0.164198</td>\n",
       "      <td>0.000000</td>\n",
       "    </tr>\n",
       "    <tr>\n",
       "      <th>3</th>\n",
       "      <td>3</td>\n",
       "      <td>0.185843</td>\n",
       "      <td>0.134103</td>\n",
       "      <td>0.000000</td>\n",
       "      <td>0.529890</td>\n",
       "      <td>6</td>\n",
       "      <td>0.908459</td>\n",
       "      <td>0.054041</td>\n",
       "      <td>0.000000</td>\n",
       "      <td>0.084055</td>\n",
       "      <td>0.502549</td>\n",
       "      <td>0.029917</td>\n",
       "      <td>0.154228</td>\n",
       "      <td>0.329483</td>\n",
       "    </tr>\n",
       "    <tr>\n",
       "      <th>4</th>\n",
       "      <td>4</td>\n",
       "      <td>0.160522</td>\n",
       "      <td>1.000000</td>\n",
       "      <td>0.785281</td>\n",
       "      <td>0.475355</td>\n",
       "      <td>1</td>\n",
       "      <td>0.776317</td>\n",
       "      <td>0.148738</td>\n",
       "      <td>1.000000</td>\n",
       "      <td>0.000000</td>\n",
       "      <td>0.496768</td>\n",
       "      <td>0.161419</td>\n",
       "      <td>0.230859</td>\n",
       "      <td>0.000000</td>\n",
       "    </tr>\n",
       "    <tr>\n",
       "      <th>5</th>\n",
       "      <td>5</td>\n",
       "      <td>0.183874</td>\n",
       "      <td>0.000000</td>\n",
       "      <td>0.712322</td>\n",
       "      <td>0.520308</td>\n",
       "      <td>5</td>\n",
       "      <td>0.882119</td>\n",
       "      <td>0.095180</td>\n",
       "      <td>0.728126</td>\n",
       "      <td>0.129409</td>\n",
       "      <td>0.501145</td>\n",
       "      <td>0.057089</td>\n",
       "      <td>0.158602</td>\n",
       "      <td>1.000000</td>\n",
       "    </tr>\n",
       "    <tr>\n",
       "      <th>6</th>\n",
       "      <td>6</td>\n",
       "      <td>0.174975</td>\n",
       "      <td>1.000000</td>\n",
       "      <td>0.777627</td>\n",
       "      <td>0.486297</td>\n",
       "      <td>7</td>\n",
       "      <td>0.773189</td>\n",
       "      <td>0.165948</td>\n",
       "      <td>0.658952</td>\n",
       "      <td>1.000000</td>\n",
       "      <td>0.503265</td>\n",
       "      <td>0.171942</td>\n",
       "      <td>0.239093</td>\n",
       "      <td>0.000000</td>\n",
       "    </tr>\n",
       "    <tr>\n",
       "      <th>7</th>\n",
       "      <td>7</td>\n",
       "      <td>0.172995</td>\n",
       "      <td>0.000000</td>\n",
       "      <td>1.000000</td>\n",
       "      <td>0.484304</td>\n",
       "      <td>3</td>\n",
       "      <td>0.855313</td>\n",
       "      <td>0.115158</td>\n",
       "      <td>1.000000</td>\n",
       "      <td>0.211838</td>\n",
       "      <td>0.496419</td>\n",
       "      <td>0.081596</td>\n",
       "      <td>0.162974</td>\n",
       "      <td>0.000000</td>\n",
       "    </tr>\n",
       "    <tr>\n",
       "      <th>8</th>\n",
       "      <td>8</td>\n",
       "      <td>0.155414</td>\n",
       "      <td>0.260516</td>\n",
       "      <td>1.000000</td>\n",
       "      <td>0.549885</td>\n",
       "      <td>4</td>\n",
       "      <td>0.807285</td>\n",
       "      <td>0.137284</td>\n",
       "      <td>0.000000</td>\n",
       "      <td>0.259114</td>\n",
       "      <td>0.500343</td>\n",
       "      <td>0.044728</td>\n",
       "      <td>0.177433</td>\n",
       "      <td>0.000000</td>\n",
       "    </tr>\n",
       "  </tbody>\n",
       "</table>\n",
       "</div>"
      ],
      "text/plain": [
       "   Cluster  age_first_survey  anygrant  anyhhincome  cft_score  cluster_id  \\\n",
       "0        0          0.169326  0.694865     0.871633   0.555368           0   \n",
       "1        1          0.173477  1.000000     0.786146   0.494757           8   \n",
       "2        2          0.200541  0.000000     0.000000   0.464700           2   \n",
       "3        3          0.185843  0.134103     0.000000   0.529890           6   \n",
       "4        4          0.160522  1.000000     0.785281   0.475355           1   \n",
       "5        5          0.183874  0.000000     0.712322   0.520308           5   \n",
       "6        6          0.174975  1.000000     0.777627   0.486297           7   \n",
       "7        7          0.172995  0.000000     1.000000   0.484304           3   \n",
       "8        8          0.155414  0.260516     1.000000   0.549885           4   \n",
       "\n",
       "   financial_situation_5years  financial_situation_now    gender  \\\n",
       "0                    0.758418                 0.171437  0.000000   \n",
       "1                    0.782368                 0.166967  1.000000   \n",
       "2                    0.962816                 0.026144  1.000000   \n",
       "3                    0.908459                 0.054041  0.000000   \n",
       "4                    0.776317                 0.148738  1.000000   \n",
       "5                    0.882119                 0.095180  0.728126   \n",
       "6                    0.773189                 0.165948  0.658952   \n",
       "7                    0.855313                 0.115158  1.000000   \n",
       "8                    0.807285                 0.137284  0.000000   \n",
       "\n",
       "   givemoney_yes  grit_score  numchildren  peoplelive   working  \n",
       "0       0.758838    0.490928     0.079125    0.208257  1.000000  \n",
       "1       0.475373    0.499276     0.200588    0.230523  1.000000  \n",
       "2       0.050609    0.501325     0.026895    0.164198  0.000000  \n",
       "3       0.084055    0.502549     0.029917    0.154228  0.329483  \n",
       "4       0.000000    0.496768     0.161419    0.230859  0.000000  \n",
       "5       0.129409    0.501145     0.057089    0.158602  1.000000  \n",
       "6       1.000000    0.503265     0.171942    0.239093  0.000000  \n",
       "7       0.211838    0.496419     0.081596    0.162974  0.000000  \n",
       "8       0.259114    0.500343     0.044728    0.177433  0.000000  "
      ]
     },
     "execution_count": 115,
     "metadata": {},
     "output_type": "execute_result"
    }
   ],
   "source": [
    "cluster_summary"
   ]
  },
  {
   "cell_type": "code",
   "execution_count": 116,
   "metadata": {},
   "outputs": [],
   "source": [
    "df_cluster = pd.DataFrame(cluster_summary)"
   ]
  },
  {
   "cell_type": "code",
   "execution_count": 117,
   "metadata": {},
   "outputs": [
    {
     "data": {
      "text/html": [
       "<div>\n",
       "<style scoped>\n",
       "    .dataframe tbody tr th:only-of-type {\n",
       "        vertical-align: middle;\n",
       "    }\n",
       "\n",
       "    .dataframe tbody tr th {\n",
       "        vertical-align: top;\n",
       "    }\n",
       "\n",
       "    .dataframe thead th {\n",
       "        text-align: right;\n",
       "    }\n",
       "</style>\n",
       "<table border=\"1\" class=\"dataframe\">\n",
       "  <thead>\n",
       "    <tr style=\"text-align: right;\">\n",
       "      <th></th>\n",
       "      <th>Cluster</th>\n",
       "      <th>age_first_survey</th>\n",
       "      <th>anygrant</th>\n",
       "      <th>anyhhincome</th>\n",
       "      <th>cft_score</th>\n",
       "      <th>cluster_id</th>\n",
       "      <th>financial_situation_5years</th>\n",
       "      <th>financial_situation_now</th>\n",
       "      <th>gender</th>\n",
       "      <th>givemoney_yes</th>\n",
       "      <th>grit_score</th>\n",
       "      <th>numchildren</th>\n",
       "      <th>peoplelive</th>\n",
       "      <th>working</th>\n",
       "    </tr>\n",
       "  </thead>\n",
       "  <tbody>\n",
       "    <tr>\n",
       "      <th>0</th>\n",
       "      <td>0</td>\n",
       "      <td>0.169326</td>\n",
       "      <td>0.694865</td>\n",
       "      <td>0.871633</td>\n",
       "      <td>0.555368</td>\n",
       "      <td>0</td>\n",
       "      <td>0.758418</td>\n",
       "      <td>0.171437</td>\n",
       "      <td>0.0</td>\n",
       "      <td>0.758838</td>\n",
       "      <td>0.490928</td>\n",
       "      <td>0.079125</td>\n",
       "      <td>0.208257</td>\n",
       "      <td>1.000000</td>\n",
       "    </tr>\n",
       "    <tr>\n",
       "      <th>1</th>\n",
       "      <td>1</td>\n",
       "      <td>0.173477</td>\n",
       "      <td>1.000000</td>\n",
       "      <td>0.786146</td>\n",
       "      <td>0.494757</td>\n",
       "      <td>8</td>\n",
       "      <td>0.782368</td>\n",
       "      <td>0.166967</td>\n",
       "      <td>1.0</td>\n",
       "      <td>0.475373</td>\n",
       "      <td>0.499276</td>\n",
       "      <td>0.200588</td>\n",
       "      <td>0.230523</td>\n",
       "      <td>1.000000</td>\n",
       "    </tr>\n",
       "    <tr>\n",
       "      <th>2</th>\n",
       "      <td>2</td>\n",
       "      <td>0.200541</td>\n",
       "      <td>0.000000</td>\n",
       "      <td>0.000000</td>\n",
       "      <td>0.464700</td>\n",
       "      <td>2</td>\n",
       "      <td>0.962816</td>\n",
       "      <td>0.026144</td>\n",
       "      <td>1.0</td>\n",
       "      <td>0.050609</td>\n",
       "      <td>0.501325</td>\n",
       "      <td>0.026895</td>\n",
       "      <td>0.164198</td>\n",
       "      <td>0.000000</td>\n",
       "    </tr>\n",
       "    <tr>\n",
       "      <th>3</th>\n",
       "      <td>3</td>\n",
       "      <td>0.185843</td>\n",
       "      <td>0.134103</td>\n",
       "      <td>0.000000</td>\n",
       "      <td>0.529890</td>\n",
       "      <td>6</td>\n",
       "      <td>0.908459</td>\n",
       "      <td>0.054041</td>\n",
       "      <td>0.0</td>\n",
       "      <td>0.084055</td>\n",
       "      <td>0.502549</td>\n",
       "      <td>0.029917</td>\n",
       "      <td>0.154228</td>\n",
       "      <td>0.329483</td>\n",
       "    </tr>\n",
       "    <tr>\n",
       "      <th>4</th>\n",
       "      <td>4</td>\n",
       "      <td>0.160522</td>\n",
       "      <td>1.000000</td>\n",
       "      <td>0.785281</td>\n",
       "      <td>0.475355</td>\n",
       "      <td>1</td>\n",
       "      <td>0.776317</td>\n",
       "      <td>0.148738</td>\n",
       "      <td>1.0</td>\n",
       "      <td>0.000000</td>\n",
       "      <td>0.496768</td>\n",
       "      <td>0.161419</td>\n",
       "      <td>0.230859</td>\n",
       "      <td>0.000000</td>\n",
       "    </tr>\n",
       "  </tbody>\n",
       "</table>\n",
       "</div>"
      ],
      "text/plain": [
       "   Cluster  age_first_survey  anygrant  anyhhincome  cft_score  cluster_id  \\\n",
       "0        0          0.169326  0.694865     0.871633   0.555368           0   \n",
       "1        1          0.173477  1.000000     0.786146   0.494757           8   \n",
       "2        2          0.200541  0.000000     0.000000   0.464700           2   \n",
       "3        3          0.185843  0.134103     0.000000   0.529890           6   \n",
       "4        4          0.160522  1.000000     0.785281   0.475355           1   \n",
       "\n",
       "   financial_situation_5years  financial_situation_now  gender  givemoney_yes  \\\n",
       "0                    0.758418                 0.171437     0.0       0.758838   \n",
       "1                    0.782368                 0.166967     1.0       0.475373   \n",
       "2                    0.962816                 0.026144     1.0       0.050609   \n",
       "3                    0.908459                 0.054041     0.0       0.084055   \n",
       "4                    0.776317                 0.148738     1.0       0.000000   \n",
       "\n",
       "   grit_score  numchildren  peoplelive   working  \n",
       "0    0.490928     0.079125    0.208257  1.000000  \n",
       "1    0.499276     0.200588    0.230523  1.000000  \n",
       "2    0.501325     0.026895    0.164198  0.000000  \n",
       "3    0.502549     0.029917    0.154228  0.329483  \n",
       "4    0.496768     0.161419    0.230859  0.000000  "
      ]
     },
     "execution_count": 117,
     "metadata": {},
     "output_type": "execute_result"
    }
   ],
   "source": [
    "df_cluster.head()"
   ]
  },
  {
   "cell_type": "code",
   "execution_count": 118,
   "metadata": {},
   "outputs": [],
   "source": [
    "del df_cluster['Cluster']"
   ]
  },
  {
   "cell_type": "code",
   "execution_count": 119,
   "metadata": {},
   "outputs": [
    {
     "data": {
      "text/html": [
       "<div>\n",
       "<style scoped>\n",
       "    .dataframe tbody tr th:only-of-type {\n",
       "        vertical-align: middle;\n",
       "    }\n",
       "\n",
       "    .dataframe tbody tr th {\n",
       "        vertical-align: top;\n",
       "    }\n",
       "\n",
       "    .dataframe thead th {\n",
       "        text-align: right;\n",
       "    }\n",
       "</style>\n",
       "<table border=\"1\" class=\"dataframe\">\n",
       "  <thead>\n",
       "    <tr style=\"text-align: right;\">\n",
       "      <th></th>\n",
       "      <th>age_first_survey</th>\n",
       "      <th>anygrant</th>\n",
       "      <th>anyhhincome</th>\n",
       "      <th>cft_score</th>\n",
       "      <th>cluster_id</th>\n",
       "      <th>financial_situation_5years</th>\n",
       "      <th>financial_situation_now</th>\n",
       "      <th>gender</th>\n",
       "      <th>givemoney_yes</th>\n",
       "      <th>grit_score</th>\n",
       "      <th>numchildren</th>\n",
       "      <th>peoplelive</th>\n",
       "      <th>working</th>\n",
       "    </tr>\n",
       "  </thead>\n",
       "  <tbody>\n",
       "    <tr>\n",
       "      <th>0</th>\n",
       "      <td>0.169326</td>\n",
       "      <td>0.694865</td>\n",
       "      <td>0.871633</td>\n",
       "      <td>0.555368</td>\n",
       "      <td>0</td>\n",
       "      <td>0.758418</td>\n",
       "      <td>0.171437</td>\n",
       "      <td>0.0</td>\n",
       "      <td>0.758838</td>\n",
       "      <td>0.490928</td>\n",
       "      <td>0.079125</td>\n",
       "      <td>0.208257</td>\n",
       "      <td>1.000000</td>\n",
       "    </tr>\n",
       "    <tr>\n",
       "      <th>1</th>\n",
       "      <td>0.173477</td>\n",
       "      <td>1.000000</td>\n",
       "      <td>0.786146</td>\n",
       "      <td>0.494757</td>\n",
       "      <td>8</td>\n",
       "      <td>0.782368</td>\n",
       "      <td>0.166967</td>\n",
       "      <td>1.0</td>\n",
       "      <td>0.475373</td>\n",
       "      <td>0.499276</td>\n",
       "      <td>0.200588</td>\n",
       "      <td>0.230523</td>\n",
       "      <td>1.000000</td>\n",
       "    </tr>\n",
       "    <tr>\n",
       "      <th>2</th>\n",
       "      <td>0.200541</td>\n",
       "      <td>0.000000</td>\n",
       "      <td>0.000000</td>\n",
       "      <td>0.464700</td>\n",
       "      <td>2</td>\n",
       "      <td>0.962816</td>\n",
       "      <td>0.026144</td>\n",
       "      <td>1.0</td>\n",
       "      <td>0.050609</td>\n",
       "      <td>0.501325</td>\n",
       "      <td>0.026895</td>\n",
       "      <td>0.164198</td>\n",
       "      <td>0.000000</td>\n",
       "    </tr>\n",
       "    <tr>\n",
       "      <th>3</th>\n",
       "      <td>0.185843</td>\n",
       "      <td>0.134103</td>\n",
       "      <td>0.000000</td>\n",
       "      <td>0.529890</td>\n",
       "      <td>6</td>\n",
       "      <td>0.908459</td>\n",
       "      <td>0.054041</td>\n",
       "      <td>0.0</td>\n",
       "      <td>0.084055</td>\n",
       "      <td>0.502549</td>\n",
       "      <td>0.029917</td>\n",
       "      <td>0.154228</td>\n",
       "      <td>0.329483</td>\n",
       "    </tr>\n",
       "    <tr>\n",
       "      <th>4</th>\n",
       "      <td>0.160522</td>\n",
       "      <td>1.000000</td>\n",
       "      <td>0.785281</td>\n",
       "      <td>0.475355</td>\n",
       "      <td>1</td>\n",
       "      <td>0.776317</td>\n",
       "      <td>0.148738</td>\n",
       "      <td>1.0</td>\n",
       "      <td>0.000000</td>\n",
       "      <td>0.496768</td>\n",
       "      <td>0.161419</td>\n",
       "      <td>0.230859</td>\n",
       "      <td>0.000000</td>\n",
       "    </tr>\n",
       "  </tbody>\n",
       "</table>\n",
       "</div>"
      ],
      "text/plain": [
       "   age_first_survey  anygrant  anyhhincome  cft_score  cluster_id  \\\n",
       "0          0.169326  0.694865     0.871633   0.555368           0   \n",
       "1          0.173477  1.000000     0.786146   0.494757           8   \n",
       "2          0.200541  0.000000     0.000000   0.464700           2   \n",
       "3          0.185843  0.134103     0.000000   0.529890           6   \n",
       "4          0.160522  1.000000     0.785281   0.475355           1   \n",
       "\n",
       "   financial_situation_5years  financial_situation_now  gender  givemoney_yes  \\\n",
       "0                    0.758418                 0.171437     0.0       0.758838   \n",
       "1                    0.782368                 0.166967     1.0       0.475373   \n",
       "2                    0.962816                 0.026144     1.0       0.050609   \n",
       "3                    0.908459                 0.054041     0.0       0.084055   \n",
       "4                    0.776317                 0.148738     1.0       0.000000   \n",
       "\n",
       "   grit_score  numchildren  peoplelive   working  \n",
       "0    0.490928     0.079125    0.208257  1.000000  \n",
       "1    0.499276     0.200588    0.230523  1.000000  \n",
       "2    0.501325     0.026895    0.164198  0.000000  \n",
       "3    0.502549     0.029917    0.154228  0.329483  \n",
       "4    0.496768     0.161419    0.230859  0.000000  "
      ]
     },
     "execution_count": 119,
     "metadata": {},
     "output_type": "execute_result"
    }
   ],
   "source": [
    "df_cluster.head()"
   ]
  },
  {
   "cell_type": "code",
   "execution_count": 120,
   "metadata": {},
   "outputs": [
    {
     "data": {
      "text/plain": [
       "MinMaxScaler()"
      ]
     },
     "execution_count": 120,
     "metadata": {},
     "output_type": "execute_result"
    }
   ],
   "source": [
    "#apply min/max scaler to clusters\n",
    "scaler.fit(df_cluster)"
   ]
  },
  {
   "cell_type": "code",
   "execution_count": 121,
   "metadata": {
    "scrolled": true
   },
   "outputs": [
    {
     "data": {
      "text/html": [
       "<div>\n",
       "<style scoped>\n",
       "    .dataframe tbody tr th:only-of-type {\n",
       "        vertical-align: middle;\n",
       "    }\n",
       "\n",
       "    .dataframe tbody tr th {\n",
       "        vertical-align: top;\n",
       "    }\n",
       "\n",
       "    .dataframe thead th {\n",
       "        text-align: right;\n",
       "    }\n",
       "</style>\n",
       "<table border=\"1\" class=\"dataframe\">\n",
       "  <thead>\n",
       "    <tr style=\"text-align: right;\">\n",
       "      <th></th>\n",
       "      <th>age_first_survey</th>\n",
       "      <th>anygrant</th>\n",
       "      <th>anyhhincome</th>\n",
       "      <th>cft_score</th>\n",
       "      <th>cluster_id</th>\n",
       "      <th>financial_situation_5years</th>\n",
       "      <th>financial_situation_now</th>\n",
       "      <th>gender</th>\n",
       "      <th>givemoney_yes</th>\n",
       "      <th>grit_score</th>\n",
       "      <th>numchildren</th>\n",
       "      <th>peoplelive</th>\n",
       "      <th>working</th>\n",
       "    </tr>\n",
       "  </thead>\n",
       "  <tbody>\n",
       "    <tr>\n",
       "      <th>0</th>\n",
       "      <td>0.308291</td>\n",
       "      <td>0.694865</td>\n",
       "      <td>0.871633</td>\n",
       "      <td>1.000000</td>\n",
       "      <td>0.000</td>\n",
       "      <td>0.000000</td>\n",
       "      <td>1.000000</td>\n",
       "      <td>0.0</td>\n",
       "      <td>0.758838</td>\n",
       "      <td>0.000000</td>\n",
       "      <td>0.300703</td>\n",
       "      <td>0.636648</td>\n",
       "      <td>1.000000</td>\n",
       "    </tr>\n",
       "    <tr>\n",
       "      <th>1</th>\n",
       "      <td>0.400277</td>\n",
       "      <td>1.000000</td>\n",
       "      <td>0.786146</td>\n",
       "      <td>0.331503</td>\n",
       "      <td>1.000</td>\n",
       "      <td>0.117174</td>\n",
       "      <td>0.969236</td>\n",
       "      <td>1.0</td>\n",
       "      <td>0.475373</td>\n",
       "      <td>0.676685</td>\n",
       "      <td>1.000000</td>\n",
       "      <td>0.899014</td>\n",
       "      <td>1.000000</td>\n",
       "    </tr>\n",
       "    <tr>\n",
       "      <th>2</th>\n",
       "      <td>1.000000</td>\n",
       "      <td>0.000000</td>\n",
       "      <td>0.000000</td>\n",
       "      <td>0.000000</td>\n",
       "      <td>0.250</td>\n",
       "      <td>1.000000</td>\n",
       "      <td>0.000000</td>\n",
       "      <td>1.0</td>\n",
       "      <td>0.050609</td>\n",
       "      <td>0.842740</td>\n",
       "      <td>0.000000</td>\n",
       "      <td>0.117481</td>\n",
       "      <td>0.000000</td>\n",
       "    </tr>\n",
       "    <tr>\n",
       "      <th>3</th>\n",
       "      <td>0.674305</td>\n",
       "      <td>0.134103</td>\n",
       "      <td>0.000000</td>\n",
       "      <td>0.718991</td>\n",
       "      <td>0.750</td>\n",
       "      <td>0.734064</td>\n",
       "      <td>0.192004</td>\n",
       "      <td>0.0</td>\n",
       "      <td>0.084055</td>\n",
       "      <td>0.941943</td>\n",
       "      <td>0.017399</td>\n",
       "      <td>0.000000</td>\n",
       "      <td>0.329483</td>\n",
       "    </tr>\n",
       "    <tr>\n",
       "      <th>4</th>\n",
       "      <td>0.113205</td>\n",
       "      <td>1.000000</td>\n",
       "      <td>0.785281</td>\n",
       "      <td>0.117521</td>\n",
       "      <td>0.125</td>\n",
       "      <td>0.087569</td>\n",
       "      <td>0.843775</td>\n",
       "      <td>1.0</td>\n",
       "      <td>0.000000</td>\n",
       "      <td>0.473413</td>\n",
       "      <td>0.774493</td>\n",
       "      <td>0.902983</td>\n",
       "      <td>0.000000</td>\n",
       "    </tr>\n",
       "  </tbody>\n",
       "</table>\n",
       "</div>"
      ],
      "text/plain": [
       "   age_first_survey  anygrant  anyhhincome  cft_score  cluster_id  \\\n",
       "0          0.308291  0.694865     0.871633   1.000000       0.000   \n",
       "1          0.400277  1.000000     0.786146   0.331503       1.000   \n",
       "2          1.000000  0.000000     0.000000   0.000000       0.250   \n",
       "3          0.674305  0.134103     0.000000   0.718991       0.750   \n",
       "4          0.113205  1.000000     0.785281   0.117521       0.125   \n",
       "\n",
       "   financial_situation_5years  financial_situation_now  gender  givemoney_yes  \\\n",
       "0                    0.000000                 1.000000     0.0       0.758838   \n",
       "1                    0.117174                 0.969236     1.0       0.475373   \n",
       "2                    1.000000                 0.000000     1.0       0.050609   \n",
       "3                    0.734064                 0.192004     0.0       0.084055   \n",
       "4                    0.087569                 0.843775     1.0       0.000000   \n",
       "\n",
       "   grit_score  numchildren  peoplelive   working  \n",
       "0    0.000000     0.300703    0.636648  1.000000  \n",
       "1    0.676685     1.000000    0.899014  1.000000  \n",
       "2    0.842740     0.000000    0.117481  0.000000  \n",
       "3    0.941943     0.017399    0.000000  0.329483  \n",
       "4    0.473413     0.774493    0.902983  0.000000  "
      ]
     },
     "execution_count": 121,
     "metadata": {},
     "output_type": "execute_result"
    }
   ],
   "source": [
    "df_cluster_scaled = scaler.transform(df_cluster)\n",
    "df_cluster_scaled = pd.DataFrame(             \n",
    "                    df_cluster_scaled,\n",
    "                    columns=df_cluster.columns) \n",
    "\n",
    "df_cluster_scaled.head()"
   ]
  },
  {
   "cell_type": "code",
   "execution_count": 122,
   "metadata": {},
   "outputs": [
    {
     "data": {
      "text/html": [
       "<div>\n",
       "<style scoped>\n",
       "    .dataframe tbody tr th:only-of-type {\n",
       "        vertical-align: middle;\n",
       "    }\n",
       "\n",
       "    .dataframe tbody tr th {\n",
       "        vertical-align: top;\n",
       "    }\n",
       "\n",
       "    .dataframe thead th {\n",
       "        text-align: right;\n",
       "    }\n",
       "</style>\n",
       "<table border=\"1\" class=\"dataframe\">\n",
       "  <thead>\n",
       "    <tr style=\"text-align: right;\">\n",
       "      <th></th>\n",
       "      <th>age_first_survey</th>\n",
       "      <th>anygrant</th>\n",
       "      <th>anyhhincome</th>\n",
       "      <th>cft_score</th>\n",
       "      <th>cluster_id</th>\n",
       "      <th>financial_situation_5years</th>\n",
       "      <th>financial_situation_now</th>\n",
       "      <th>gender</th>\n",
       "      <th>givemoney_yes</th>\n",
       "      <th>grit_score</th>\n",
       "      <th>numchildren</th>\n",
       "      <th>peoplelive</th>\n",
       "      <th>working</th>\n",
       "    </tr>\n",
       "  </thead>\n",
       "  <tbody>\n",
       "    <tr>\n",
       "      <th>0</th>\n",
       "      <td>0.308291</td>\n",
       "      <td>0.694865</td>\n",
       "      <td>0.871633</td>\n",
       "      <td>1.000000</td>\n",
       "      <td>0.000</td>\n",
       "      <td>0.000000</td>\n",
       "      <td>1.000000</td>\n",
       "      <td>0.000000</td>\n",
       "      <td>0.758838</td>\n",
       "      <td>0.000000</td>\n",
       "      <td>0.300703</td>\n",
       "      <td>0.636648</td>\n",
       "      <td>1.000000</td>\n",
       "    </tr>\n",
       "    <tr>\n",
       "      <th>4</th>\n",
       "      <td>0.113205</td>\n",
       "      <td>1.000000</td>\n",
       "      <td>0.785281</td>\n",
       "      <td>0.117521</td>\n",
       "      <td>0.125</td>\n",
       "      <td>0.087569</td>\n",
       "      <td>0.843775</td>\n",
       "      <td>1.000000</td>\n",
       "      <td>0.000000</td>\n",
       "      <td>0.473413</td>\n",
       "      <td>0.774493</td>\n",
       "      <td>0.902983</td>\n",
       "      <td>0.000000</td>\n",
       "    </tr>\n",
       "    <tr>\n",
       "      <th>2</th>\n",
       "      <td>1.000000</td>\n",
       "      <td>0.000000</td>\n",
       "      <td>0.000000</td>\n",
       "      <td>0.000000</td>\n",
       "      <td>0.250</td>\n",
       "      <td>1.000000</td>\n",
       "      <td>0.000000</td>\n",
       "      <td>1.000000</td>\n",
       "      <td>0.050609</td>\n",
       "      <td>0.842740</td>\n",
       "      <td>0.000000</td>\n",
       "      <td>0.117481</td>\n",
       "      <td>0.000000</td>\n",
       "    </tr>\n",
       "    <tr>\n",
       "      <th>7</th>\n",
       "      <td>0.389603</td>\n",
       "      <td>0.000000</td>\n",
       "      <td>1.000000</td>\n",
       "      <td>0.216215</td>\n",
       "      <td>0.375</td>\n",
       "      <td>0.474054</td>\n",
       "      <td>0.612656</td>\n",
       "      <td>1.000000</td>\n",
       "      <td>0.211838</td>\n",
       "      <td>0.445075</td>\n",
       "      <td>0.314931</td>\n",
       "      <td>0.103064</td>\n",
       "      <td>0.000000</td>\n",
       "    </tr>\n",
       "    <tr>\n",
       "      <th>8</th>\n",
       "      <td>0.000000</td>\n",
       "      <td>0.260516</td>\n",
       "      <td>1.000000</td>\n",
       "      <td>0.939518</td>\n",
       "      <td>0.500</td>\n",
       "      <td>0.239079</td>\n",
       "      <td>0.764941</td>\n",
       "      <td>0.000000</td>\n",
       "      <td>0.259114</td>\n",
       "      <td>0.763134</td>\n",
       "      <td>0.102672</td>\n",
       "      <td>0.273443</td>\n",
       "      <td>0.000000</td>\n",
       "    </tr>\n",
       "    <tr>\n",
       "      <th>5</th>\n",
       "      <td>0.630680</td>\n",
       "      <td>0.000000</td>\n",
       "      <td>0.712322</td>\n",
       "      <td>0.613316</td>\n",
       "      <td>0.625</td>\n",
       "      <td>0.605200</td>\n",
       "      <td>0.475152</td>\n",
       "      <td>0.728126</td>\n",
       "      <td>0.129409</td>\n",
       "      <td>0.828179</td>\n",
       "      <td>0.173837</td>\n",
       "      <td>0.051541</td>\n",
       "      <td>1.000000</td>\n",
       "    </tr>\n",
       "    <tr>\n",
       "      <th>3</th>\n",
       "      <td>0.674305</td>\n",
       "      <td>0.134103</td>\n",
       "      <td>0.000000</td>\n",
       "      <td>0.718991</td>\n",
       "      <td>0.750</td>\n",
       "      <td>0.734064</td>\n",
       "      <td>0.192004</td>\n",
       "      <td>0.000000</td>\n",
       "      <td>0.084055</td>\n",
       "      <td>0.941943</td>\n",
       "      <td>0.017399</td>\n",
       "      <td>0.000000</td>\n",
       "      <td>0.329483</td>\n",
       "    </tr>\n",
       "    <tr>\n",
       "      <th>6</th>\n",
       "      <td>0.433468</td>\n",
       "      <td>1.000000</td>\n",
       "      <td>0.777627</td>\n",
       "      <td>0.238198</td>\n",
       "      <td>0.875</td>\n",
       "      <td>0.072269</td>\n",
       "      <td>0.962225</td>\n",
       "      <td>0.658952</td>\n",
       "      <td>1.000000</td>\n",
       "      <td>1.000000</td>\n",
       "      <td>0.835080</td>\n",
       "      <td>1.000000</td>\n",
       "      <td>0.000000</td>\n",
       "    </tr>\n",
       "    <tr>\n",
       "      <th>1</th>\n",
       "      <td>0.400277</td>\n",
       "      <td>1.000000</td>\n",
       "      <td>0.786146</td>\n",
       "      <td>0.331503</td>\n",
       "      <td>1.000</td>\n",
       "      <td>0.117174</td>\n",
       "      <td>0.969236</td>\n",
       "      <td>1.000000</td>\n",
       "      <td>0.475373</td>\n",
       "      <td>0.676685</td>\n",
       "      <td>1.000000</td>\n",
       "      <td>0.899014</td>\n",
       "      <td>1.000000</td>\n",
       "    </tr>\n",
       "  </tbody>\n",
       "</table>\n",
       "</div>"
      ],
      "text/plain": [
       "   age_first_survey  anygrant  anyhhincome  cft_score  cluster_id  \\\n",
       "0          0.308291  0.694865     0.871633   1.000000       0.000   \n",
       "4          0.113205  1.000000     0.785281   0.117521       0.125   \n",
       "2          1.000000  0.000000     0.000000   0.000000       0.250   \n",
       "7          0.389603  0.000000     1.000000   0.216215       0.375   \n",
       "8          0.000000  0.260516     1.000000   0.939518       0.500   \n",
       "5          0.630680  0.000000     0.712322   0.613316       0.625   \n",
       "3          0.674305  0.134103     0.000000   0.718991       0.750   \n",
       "6          0.433468  1.000000     0.777627   0.238198       0.875   \n",
       "1          0.400277  1.000000     0.786146   0.331503       1.000   \n",
       "\n",
       "   financial_situation_5years  financial_situation_now    gender  \\\n",
       "0                    0.000000                 1.000000  0.000000   \n",
       "4                    0.087569                 0.843775  1.000000   \n",
       "2                    1.000000                 0.000000  1.000000   \n",
       "7                    0.474054                 0.612656  1.000000   \n",
       "8                    0.239079                 0.764941  0.000000   \n",
       "5                    0.605200                 0.475152  0.728126   \n",
       "3                    0.734064                 0.192004  0.000000   \n",
       "6                    0.072269                 0.962225  0.658952   \n",
       "1                    0.117174                 0.969236  1.000000   \n",
       "\n",
       "   givemoney_yes  grit_score  numchildren  peoplelive   working  \n",
       "0       0.758838    0.000000     0.300703    0.636648  1.000000  \n",
       "4       0.000000    0.473413     0.774493    0.902983  0.000000  \n",
       "2       0.050609    0.842740     0.000000    0.117481  0.000000  \n",
       "7       0.211838    0.445075     0.314931    0.103064  0.000000  \n",
       "8       0.259114    0.763134     0.102672    0.273443  0.000000  \n",
       "5       0.129409    0.828179     0.173837    0.051541  1.000000  \n",
       "3       0.084055    0.941943     0.017399    0.000000  0.329483  \n",
       "6       1.000000    1.000000     0.835080    1.000000  0.000000  \n",
       "1       0.475373    0.676685     1.000000    0.899014  1.000000  "
      ]
     },
     "execution_count": 122,
     "metadata": {},
     "output_type": "execute_result"
    }
   ],
   "source": [
    "#sort by cluster id\n",
    "df_cluster_scaled.sort_values('cluster_id')"
   ]
  },
  {
   "cell_type": "code",
   "execution_count": 123,
   "metadata": {},
   "outputs": [
    {
     "data": {
      "text/html": [
       "<div>\n",
       "<style scoped>\n",
       "    .dataframe tbody tr th:only-of-type {\n",
       "        vertical-align: middle;\n",
       "    }\n",
       "\n",
       "    .dataframe tbody tr th {\n",
       "        vertical-align: top;\n",
       "    }\n",
       "\n",
       "    .dataframe thead th {\n",
       "        text-align: right;\n",
       "    }\n",
       "</style>\n",
       "<table border=\"1\" class=\"dataframe\">\n",
       "  <thead>\n",
       "    <tr style=\"text-align: right;\">\n",
       "      <th></th>\n",
       "      <th>age_first_survey</th>\n",
       "      <th>anygrant</th>\n",
       "      <th>anyhhincome</th>\n",
       "      <th>cft_score</th>\n",
       "      <th>financial_situation_5years</th>\n",
       "      <th>financial_situation_now</th>\n",
       "      <th>gender</th>\n",
       "      <th>givemoney_yes</th>\n",
       "      <th>grit_score</th>\n",
       "      <th>numchildren</th>\n",
       "      <th>peoplelive</th>\n",
       "      <th>working</th>\n",
       "    </tr>\n",
       "    <tr>\n",
       "      <th>cluster_id</th>\n",
       "      <th></th>\n",
       "      <th></th>\n",
       "      <th></th>\n",
       "      <th></th>\n",
       "      <th></th>\n",
       "      <th></th>\n",
       "      <th></th>\n",
       "      <th></th>\n",
       "      <th></th>\n",
       "      <th></th>\n",
       "      <th></th>\n",
       "      <th></th>\n",
       "    </tr>\n",
       "  </thead>\n",
       "  <tbody>\n",
       "    <tr>\n",
       "      <th>0.000</th>\n",
       "      <td>0.308291</td>\n",
       "      <td>0.694865</td>\n",
       "      <td>0.871633</td>\n",
       "      <td>1.000000</td>\n",
       "      <td>0.000000</td>\n",
       "      <td>1.000000</td>\n",
       "      <td>0.000000</td>\n",
       "      <td>0.758838</td>\n",
       "      <td>0.000000</td>\n",
       "      <td>0.300703</td>\n",
       "      <td>0.636648</td>\n",
       "      <td>1.000000</td>\n",
       "    </tr>\n",
       "    <tr>\n",
       "      <th>1.000</th>\n",
       "      <td>0.400277</td>\n",
       "      <td>1.000000</td>\n",
       "      <td>0.786146</td>\n",
       "      <td>0.331503</td>\n",
       "      <td>0.117174</td>\n",
       "      <td>0.969236</td>\n",
       "      <td>1.000000</td>\n",
       "      <td>0.475373</td>\n",
       "      <td>0.676685</td>\n",
       "      <td>1.000000</td>\n",
       "      <td>0.899014</td>\n",
       "      <td>1.000000</td>\n",
       "    </tr>\n",
       "    <tr>\n",
       "      <th>0.250</th>\n",
       "      <td>1.000000</td>\n",
       "      <td>0.000000</td>\n",
       "      <td>0.000000</td>\n",
       "      <td>0.000000</td>\n",
       "      <td>1.000000</td>\n",
       "      <td>0.000000</td>\n",
       "      <td>1.000000</td>\n",
       "      <td>0.050609</td>\n",
       "      <td>0.842740</td>\n",
       "      <td>0.000000</td>\n",
       "      <td>0.117481</td>\n",
       "      <td>0.000000</td>\n",
       "    </tr>\n",
       "    <tr>\n",
       "      <th>0.750</th>\n",
       "      <td>0.674305</td>\n",
       "      <td>0.134103</td>\n",
       "      <td>0.000000</td>\n",
       "      <td>0.718991</td>\n",
       "      <td>0.734064</td>\n",
       "      <td>0.192004</td>\n",
       "      <td>0.000000</td>\n",
       "      <td>0.084055</td>\n",
       "      <td>0.941943</td>\n",
       "      <td>0.017399</td>\n",
       "      <td>0.000000</td>\n",
       "      <td>0.329483</td>\n",
       "    </tr>\n",
       "    <tr>\n",
       "      <th>0.125</th>\n",
       "      <td>0.113205</td>\n",
       "      <td>1.000000</td>\n",
       "      <td>0.785281</td>\n",
       "      <td>0.117521</td>\n",
       "      <td>0.087569</td>\n",
       "      <td>0.843775</td>\n",
       "      <td>1.000000</td>\n",
       "      <td>0.000000</td>\n",
       "      <td>0.473413</td>\n",
       "      <td>0.774493</td>\n",
       "      <td>0.902983</td>\n",
       "      <td>0.000000</td>\n",
       "    </tr>\n",
       "    <tr>\n",
       "      <th>0.625</th>\n",
       "      <td>0.630680</td>\n",
       "      <td>0.000000</td>\n",
       "      <td>0.712322</td>\n",
       "      <td>0.613316</td>\n",
       "      <td>0.605200</td>\n",
       "      <td>0.475152</td>\n",
       "      <td>0.728126</td>\n",
       "      <td>0.129409</td>\n",
       "      <td>0.828179</td>\n",
       "      <td>0.173837</td>\n",
       "      <td>0.051541</td>\n",
       "      <td>1.000000</td>\n",
       "    </tr>\n",
       "    <tr>\n",
       "      <th>0.875</th>\n",
       "      <td>0.433468</td>\n",
       "      <td>1.000000</td>\n",
       "      <td>0.777627</td>\n",
       "      <td>0.238198</td>\n",
       "      <td>0.072269</td>\n",
       "      <td>0.962225</td>\n",
       "      <td>0.658952</td>\n",
       "      <td>1.000000</td>\n",
       "      <td>1.000000</td>\n",
       "      <td>0.835080</td>\n",
       "      <td>1.000000</td>\n",
       "      <td>0.000000</td>\n",
       "    </tr>\n",
       "    <tr>\n",
       "      <th>0.375</th>\n",
       "      <td>0.389603</td>\n",
       "      <td>0.000000</td>\n",
       "      <td>1.000000</td>\n",
       "      <td>0.216215</td>\n",
       "      <td>0.474054</td>\n",
       "      <td>0.612656</td>\n",
       "      <td>1.000000</td>\n",
       "      <td>0.211838</td>\n",
       "      <td>0.445075</td>\n",
       "      <td>0.314931</td>\n",
       "      <td>0.103064</td>\n",
       "      <td>0.000000</td>\n",
       "    </tr>\n",
       "    <tr>\n",
       "      <th>0.500</th>\n",
       "      <td>0.000000</td>\n",
       "      <td>0.260516</td>\n",
       "      <td>1.000000</td>\n",
       "      <td>0.939518</td>\n",
       "      <td>0.239079</td>\n",
       "      <td>0.764941</td>\n",
       "      <td>0.000000</td>\n",
       "      <td>0.259114</td>\n",
       "      <td>0.763134</td>\n",
       "      <td>0.102672</td>\n",
       "      <td>0.273443</td>\n",
       "      <td>0.000000</td>\n",
       "    </tr>\n",
       "  </tbody>\n",
       "</table>\n",
       "</div>"
      ],
      "text/plain": [
       "            age_first_survey  anygrant  anyhhincome  cft_score  \\\n",
       "cluster_id                                                       \n",
       "0.000               0.308291  0.694865     0.871633   1.000000   \n",
       "1.000               0.400277  1.000000     0.786146   0.331503   \n",
       "0.250               1.000000  0.000000     0.000000   0.000000   \n",
       "0.750               0.674305  0.134103     0.000000   0.718991   \n",
       "0.125               0.113205  1.000000     0.785281   0.117521   \n",
       "0.625               0.630680  0.000000     0.712322   0.613316   \n",
       "0.875               0.433468  1.000000     0.777627   0.238198   \n",
       "0.375               0.389603  0.000000     1.000000   0.216215   \n",
       "0.500               0.000000  0.260516     1.000000   0.939518   \n",
       "\n",
       "            financial_situation_5years  financial_situation_now    gender  \\\n",
       "cluster_id                                                                  \n",
       "0.000                         0.000000                 1.000000  0.000000   \n",
       "1.000                         0.117174                 0.969236  1.000000   \n",
       "0.250                         1.000000                 0.000000  1.000000   \n",
       "0.750                         0.734064                 0.192004  0.000000   \n",
       "0.125                         0.087569                 0.843775  1.000000   \n",
       "0.625                         0.605200                 0.475152  0.728126   \n",
       "0.875                         0.072269                 0.962225  0.658952   \n",
       "0.375                         0.474054                 0.612656  1.000000   \n",
       "0.500                         0.239079                 0.764941  0.000000   \n",
       "\n",
       "            givemoney_yes  grit_score  numchildren  peoplelive   working  \n",
       "cluster_id                                                                \n",
       "0.000            0.758838    0.000000     0.300703    0.636648  1.000000  \n",
       "1.000            0.475373    0.676685     1.000000    0.899014  1.000000  \n",
       "0.250            0.050609    0.842740     0.000000    0.117481  0.000000  \n",
       "0.750            0.084055    0.941943     0.017399    0.000000  0.329483  \n",
       "0.125            0.000000    0.473413     0.774493    0.902983  0.000000  \n",
       "0.625            0.129409    0.828179     0.173837    0.051541  1.000000  \n",
       "0.875            1.000000    1.000000     0.835080    1.000000  0.000000  \n",
       "0.375            0.211838    0.445075     0.314931    0.103064  0.000000  \n",
       "0.500            0.259114    0.763134     0.102672    0.273443  0.000000  "
      ]
     },
     "execution_count": 123,
     "metadata": {},
     "output_type": "execute_result"
    }
   ],
   "source": [
    "#set index to cluster id\n",
    "df_cluster_scaled.set_index('cluster_id')"
   ]
  },
  {
   "cell_type": "code",
   "execution_count": 124,
   "metadata": {},
   "outputs": [],
   "source": [
    "cluster_summary = df_cluster_scaled"
   ]
  },
  {
   "cell_type": "code",
   "execution_count": 125,
   "metadata": {},
   "outputs": [],
   "source": [
    "import seaborn as sns"
   ]
  },
  {
   "cell_type": "code",
   "execution_count": 126,
   "metadata": {},
   "outputs": [
    {
     "data": {
      "image/png": "[encoded data removed]",
      "text/plain": [
       "<Figure size 720x720 with 2 Axes>"
      ]
     },
     "metadata": {
      "needs_background": "light"
     },
     "output_type": "display_data"
    }
   ],
   "source": [
    "#visualize cluster attributes\n",
    "fig, ax = plt.subplots(figsize=(10,10))\n",
    "sns.heatmap(cluster_summary.transpose(), annot=True);"
   ]
  },
  {
   "cell_type": "code",
   "execution_count": 127,
   "metadata": {},
   "outputs": [],
   "source": [
    "\"\"\"find k means inertia\"\"\"\n",
    "def evaluate_k_kmeans_inertia(k):\n",
    "    print(f\"running Kmeans with k={k}\")\n",
    "    estimator_kmeans = KMeans(random_state=42, n_clusters=k)\n",
    "    estimator_kmeans.fit(df_scaled)\n",
    "    return estimator_kmeans.inertia_"
   ]
  },
  {
   "cell_type": "code",
   "execution_count": 128,
   "metadata": {},
   "outputs": [
    {
     "name": "stdout",
     "output_type": "stream",
     "text": [
      "running Kmeans with k=2\n",
      "running Kmeans with k=3\n",
      "running Kmeans with k=4\n",
      "running Kmeans with k=5\n",
      "running Kmeans with k=8\n",
      "running Kmeans with k=10\n",
      "running Kmeans with k=15\n",
      "running Kmeans with k=20\n",
      "running Kmeans with k=25\n",
      "running Kmeans with k=30\n",
      "CPU times: user 9.65 s, sys: 1.31 s, total: 11 s\n",
      "Wall time: 4.07 s\n"
     ]
    }
   ],
   "source": [
    "%%time \n",
    "range_k = [2, 3, 4, 5, 8, 10, 15, 20, 25, 30]\n",
    "results_k = {}\n",
    "for k in range_k:\n",
    "    results_k[k] = evaluate_k_kmeans_inertia(k)"
   ]
  },
  {
   "cell_type": "code",
   "execution_count": 129,
   "metadata": {},
   "outputs": [
    {
     "data": {
      "text/plain": [
       "{2: 93980.82182814307,\n",
       " 3: 61669.25630704786,\n",
       " 4: 46165.96688193248,\n",
       " 5: 37197.31321012505,\n",
       " 8: 23038.19850594652,\n",
       " 10: 17989.958767573047,\n",
       " 15: 14162.463110978391,\n",
       " 20: 11288.579645788795,\n",
       " 25: 9251.3552467426,\n",
       " 30: 8341.415040064128}"
      ]
     },
     "execution_count": 129,
     "metadata": {},
     "output_type": "execute_result"
    }
   ],
   "source": [
    "results_k"
   ]
  },
  {
   "cell_type": "code",
   "execution_count": 130,
   "metadata": {},
   "outputs": [],
   "source": [
    "import seaborn as sns"
   ]
  },
  {
   "cell_type": "code",
   "execution_count": 131,
   "metadata": {},
   "outputs": [
    {
     "name": "stderr",
     "output_type": "stream",
     "text": [
      "/opt/anaconda3/lib/python3.8/site-packages/seaborn/_decorators.py:36: FutureWarning: Pass the following variables as keyword args: x, y. From version 0.12, the only valid positional argument will be `data`, and passing other arguments without an explicit keyword will result in an error or misinterpretation.\n",
      "  warnings.warn(\n"
     ]
    },
    {
     "data": {
      "text/plain": [
       "<matplotlib.legend.Legend at 0x7fe51df35fd0>"
      ]
     },
     "execution_count": 131,
     "metadata": {},
     "output_type": "execute_result"
    },
    {
     "data": {
      "image/png": "[encoded data removed]",
      "text/plain": [
       "<Figure size 576x432 with 1 Axes>"
      ]
     },
     "metadata": {
      "needs_background": "light"
     },
     "output_type": "display_data"
    }
   ],
   "source": [
    "#visualize k mean inertia\n",
    "fig, ax = plt.subplots(figsize=(8,6))\n",
    "ax = sns.lineplot(\n",
    "    [c[0] for c in results_k.items()],\n",
    "    [c[1] for c in results_k.items()], label=\"inertia\", color=\"red\")\n",
    "ax.set_xlabel(\"K\")\n",
    "ax.set_ylabel(\"inertia\")\n",
    "ax.set_title(\"Inertia by K\")\n",
    "ax.legend()\n"
   ]
  },
  {
   "cell_type": "code",
   "execution_count": 132,
   "metadata": {},
   "outputs": [],
   "source": [
    "#import metrics\n",
    "from sklearn.metrics import (\n",
    "                            homogeneity_completeness_v_measure, \n",
    "                            adjusted_rand_score, \n",
    "                            calinski_harabasz_score,\n",
    "                            silhouette_score\n",
    ")"
   ]
  },
  {
   "cell_type": "code",
   "execution_count": 133,
   "metadata": {},
   "outputs": [
    {
     "data": {
      "text/plain": [
       "(0.9054647803229342, 0.26382678361579315, 0.4085993058314725)"
      ]
     },
     "execution_count": 133,
     "metadata": {},
     "output_type": "execute_result"
    }
   ],
   "source": [
    "#homogeneity, completeness, measure\n",
    "homogeneity_completeness_v_measure(df_scaled['working'], df_scaled['cluster_id'])"
   ]
  },
  {
   "cell_type": "code",
   "execution_count": 134,
   "metadata": {},
   "outputs": [
    {
     "data": {
      "text/plain": [
       "0.17218451951229943"
      ]
     },
     "execution_count": 134,
     "metadata": {},
     "output_type": "execute_result"
    }
   ],
   "source": [
    "#adjusted rand score\n",
    "adjusted_rand_score(df_scaled['working'], df_scaled['cluster_id'])"
   ]
  },
  {
   "cell_type": "markdown",
   "metadata": {},
   "source": []
  },
  {
   "cell_type": "code",
   "execution_count": 135,
   "metadata": {},
   "outputs": [
    {
     "data": {
      "text/plain": [
       "48875.662973769584"
      ]
     },
     "execution_count": 135,
     "metadata": {},
     "output_type": "execute_result"
    }
   ],
   "source": [
    "#calinski harabasz score, high\n",
    "calinski_harabasz_score(df_scaled, df_scaled['cluster_id'])"
   ]
  },
  {
   "cell_type": "code",
   "execution_count": 136,
   "metadata": {},
   "outputs": [
    {
     "data": {
      "text/plain": [
       "0.46111772667789797"
      ]
     },
     "execution_count": 136,
     "metadata": {},
     "output_type": "execute_result"
    }
   ],
   "source": [
    "#silhouette score, high\n",
    "silhouette_score(df_scaled, df_scaled['cluster_id'])"
   ]
  }
 ],
 "metadata": {
  "colab": {
   "name": "Enock harambee_cluster_analysis.ipynb",
   "provenance": [
    {
     "file_id": "10HfKeaHkj0RDVblgxRheFp1U-f9I5eA4",
     "timestamp": 1610048196470
    }
   ]
  },
  "kernelspec": {
   "display_name": "Python 3",
   "language": "python",
   "name": "python3"
  },
  "language_info": {
   "codemirror_mode": {
    "name": "ipython",
    "version": 3
   },
   "file_extension": ".py",
   "mimetype": "text/x-python",
   "name": "python",
   "nbconvert_exporter": "python",
   "pygments_lexer": "ipython3",
   "version": "3.8.5"
  }
 },
 "nbformat": 4,
 "nbformat_minor": 1
}
